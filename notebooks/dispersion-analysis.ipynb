{
 "cells": [
  {
   "cell_type": "code",
   "execution_count": 2,
   "metadata": {},
   "outputs": [],
   "source": [
    "import sys\n",
    "sys.path.append(\"../\")"
   ]
  },
  {
   "cell_type": "code",
   "execution_count": 15,
   "metadata": {},
   "outputs": [
    {
     "data": {
      "text/html": [
       "\n",
       "    <div class=\"bk-root\">\n",
       "        <a href=\"https://bokeh.org\" target=\"_blank\" class=\"bk-logo bk-logo-small bk-logo-notebook\"></a>\n",
       "        <span id=\"1001\">Loading BokehJS ...</span>\n",
       "    </div>"
      ]
     },
     "metadata": {},
     "output_type": "display_data"
    },
    {
     "data": {
      "application/javascript": [
       "\n",
       "(function(root) {\n",
       "  function now() {\n",
       "    return new Date();\n",
       "  }\n",
       "\n",
       "  var force = true;\n",
       "\n",
       "  if (typeof root._bokeh_onload_callbacks === \"undefined\" || force === true) {\n",
       "    root._bokeh_onload_callbacks = [];\n",
       "    root._bokeh_is_loading = undefined;\n",
       "  }\n",
       "\n",
       "  var JS_MIME_TYPE = 'application/javascript';\n",
       "  var HTML_MIME_TYPE = 'text/html';\n",
       "  var EXEC_MIME_TYPE = 'application/vnd.bokehjs_exec.v0+json';\n",
       "  var CLASS_NAME = 'output_bokeh rendered_html';\n",
       "\n",
       "  /**\n",
       "   * Render data to the DOM node\n",
       "   */\n",
       "  function render(props, node) {\n",
       "    var script = document.createElement(\"script\");\n",
       "    node.appendChild(script);\n",
       "  }\n",
       "\n",
       "  /**\n",
       "   * Handle when an output is cleared or removed\n",
       "   */\n",
       "  function handleClearOutput(event, handle) {\n",
       "    var cell = handle.cell;\n",
       "\n",
       "    var id = cell.output_area._bokeh_element_id;\n",
       "    var server_id = cell.output_area._bokeh_server_id;\n",
       "    // Clean up Bokeh references\n",
       "    if (id != null && id in Bokeh.index) {\n",
       "      Bokeh.index[id].model.document.clear();\n",
       "      delete Bokeh.index[id];\n",
       "    }\n",
       "\n",
       "    if (server_id !== undefined) {\n",
       "      // Clean up Bokeh references\n",
       "      var cmd = \"from bokeh.io.state import curstate; print(curstate().uuid_to_server['\" + server_id + \"'].get_sessions()[0].document.roots[0]._id)\";\n",
       "      cell.notebook.kernel.execute(cmd, {\n",
       "        iopub: {\n",
       "          output: function(msg) {\n",
       "            var id = msg.content.text.trim();\n",
       "            if (id in Bokeh.index) {\n",
       "              Bokeh.index[id].model.document.clear();\n",
       "              delete Bokeh.index[id];\n",
       "            }\n",
       "          }\n",
       "        }\n",
       "      });\n",
       "      // Destroy server and session\n",
       "      var cmd = \"import bokeh.io.notebook as ion; ion.destroy_server('\" + server_id + \"')\";\n",
       "      cell.notebook.kernel.execute(cmd);\n",
       "    }\n",
       "  }\n",
       "\n",
       "  /**\n",
       "   * Handle when a new output is added\n",
       "   */\n",
       "  function handleAddOutput(event, handle) {\n",
       "    var output_area = handle.output_area;\n",
       "    var output = handle.output;\n",
       "\n",
       "    // limit handleAddOutput to display_data with EXEC_MIME_TYPE content only\n",
       "    if ((output.output_type != \"display_data\") || (!output.data.hasOwnProperty(EXEC_MIME_TYPE))) {\n",
       "      return\n",
       "    }\n",
       "\n",
       "    var toinsert = output_area.element.find(\".\" + CLASS_NAME.split(' ')[0]);\n",
       "\n",
       "    if (output.metadata[EXEC_MIME_TYPE][\"id\"] !== undefined) {\n",
       "      toinsert[toinsert.length - 1].firstChild.textContent = output.data[JS_MIME_TYPE];\n",
       "      // store reference to embed id on output_area\n",
       "      output_area._bokeh_element_id = output.metadata[EXEC_MIME_TYPE][\"id\"];\n",
       "    }\n",
       "    if (output.metadata[EXEC_MIME_TYPE][\"server_id\"] !== undefined) {\n",
       "      var bk_div = document.createElement(\"div\");\n",
       "      bk_div.innerHTML = output.data[HTML_MIME_TYPE];\n",
       "      var script_attrs = bk_div.children[0].attributes;\n",
       "      for (var i = 0; i < script_attrs.length; i++) {\n",
       "        toinsert[toinsert.length - 1].firstChild.setAttribute(script_attrs[i].name, script_attrs[i].value);\n",
       "        toinsert[toinsert.length - 1].firstChild.textContent = bk_div.children[0].textContent\n",
       "      }\n",
       "      // store reference to server id on output_area\n",
       "      output_area._bokeh_server_id = output.metadata[EXEC_MIME_TYPE][\"server_id\"];\n",
       "    }\n",
       "  }\n",
       "\n",
       "  function register_renderer(events, OutputArea) {\n",
       "\n",
       "    function append_mime(data, metadata, element) {\n",
       "      // create a DOM node to render to\n",
       "      var toinsert = this.create_output_subarea(\n",
       "        metadata,\n",
       "        CLASS_NAME,\n",
       "        EXEC_MIME_TYPE\n",
       "      );\n",
       "      this.keyboard_manager.register_events(toinsert);\n",
       "      // Render to node\n",
       "      var props = {data: data, metadata: metadata[EXEC_MIME_TYPE]};\n",
       "      render(props, toinsert[toinsert.length - 1]);\n",
       "      element.append(toinsert);\n",
       "      return toinsert\n",
       "    }\n",
       "\n",
       "    /* Handle when an output is cleared or removed */\n",
       "    events.on('clear_output.CodeCell', handleClearOutput);\n",
       "    events.on('delete.Cell', handleClearOutput);\n",
       "\n",
       "    /* Handle when a new output is added */\n",
       "    events.on('output_added.OutputArea', handleAddOutput);\n",
       "\n",
       "    /**\n",
       "     * Register the mime type and append_mime function with output_area\n",
       "     */\n",
       "    OutputArea.prototype.register_mime_type(EXEC_MIME_TYPE, append_mime, {\n",
       "      /* Is output safe? */\n",
       "      safe: true,\n",
       "      /* Index of renderer in `output_area.display_order` */\n",
       "      index: 0\n",
       "    });\n",
       "  }\n",
       "\n",
       "  // register the mime type if in Jupyter Notebook environment and previously unregistered\n",
       "  if (root.Jupyter !== undefined) {\n",
       "    var events = require('base/js/events');\n",
       "    var OutputArea = require('notebook/js/outputarea').OutputArea;\n",
       "\n",
       "    if (OutputArea.prototype.mime_types().indexOf(EXEC_MIME_TYPE) == -1) {\n",
       "      register_renderer(events, OutputArea);\n",
       "    }\n",
       "  }\n",
       "\n",
       "  \n",
       "  if (typeof (root._bokeh_timeout) === \"undefined\" || force === true) {\n",
       "    root._bokeh_timeout = Date.now() + 5000;\n",
       "    root._bokeh_failed_load = false;\n",
       "  }\n",
       "\n",
       "  var NB_LOAD_WARNING = {'data': {'text/html':\n",
       "     \"<div style='background-color: #fdd'>\\n\"+\n",
       "     \"<p>\\n\"+\n",
       "     \"BokehJS does not appear to have successfully loaded. If loading BokehJS from CDN, this \\n\"+\n",
       "     \"may be due to a slow or bad network connection. Possible fixes:\\n\"+\n",
       "     \"</p>\\n\"+\n",
       "     \"<ul>\\n\"+\n",
       "     \"<li>re-rerun `output_notebook()` to attempt to load from CDN again, or</li>\\n\"+\n",
       "     \"<li>use INLINE resources instead, as so:</li>\\n\"+\n",
       "     \"</ul>\\n\"+\n",
       "     \"<code>\\n\"+\n",
       "     \"from bokeh.resources import INLINE\\n\"+\n",
       "     \"output_notebook(resources=INLINE)\\n\"+\n",
       "     \"</code>\\n\"+\n",
       "     \"</div>\"}};\n",
       "\n",
       "  function display_loaded() {\n",
       "    var el = document.getElementById(\"1001\");\n",
       "    if (el != null) {\n",
       "      el.textContent = \"BokehJS is loading...\";\n",
       "    }\n",
       "    if (root.Bokeh !== undefined) {\n",
       "      if (el != null) {\n",
       "        el.textContent = \"BokehJS \" + root.Bokeh.version + \" successfully loaded.\";\n",
       "      }\n",
       "    } else if (Date.now() < root._bokeh_timeout) {\n",
       "      setTimeout(display_loaded, 100)\n",
       "    }\n",
       "  }\n",
       "\n",
       "\n",
       "  function run_callbacks() {\n",
       "    try {\n",
       "      root._bokeh_onload_callbacks.forEach(function(callback) {\n",
       "        if (callback != null)\n",
       "          callback();\n",
       "      });\n",
       "    } finally {\n",
       "      delete root._bokeh_onload_callbacks\n",
       "    }\n",
       "    console.debug(\"Bokeh: all callbacks have finished\");\n",
       "  }\n",
       "\n",
       "  function load_libs(css_urls, js_urls, callback) {\n",
       "    if (css_urls == null) css_urls = [];\n",
       "    if (js_urls == null) js_urls = [];\n",
       "\n",
       "    root._bokeh_onload_callbacks.push(callback);\n",
       "    if (root._bokeh_is_loading > 0) {\n",
       "      console.debug(\"Bokeh: BokehJS is being loaded, scheduling callback at\", now());\n",
       "      return null;\n",
       "    }\n",
       "    if (js_urls == null || js_urls.length === 0) {\n",
       "      run_callbacks();\n",
       "      return null;\n",
       "    }\n",
       "    console.debug(\"Bokeh: BokehJS not loaded, scheduling load and callback at\", now());\n",
       "    root._bokeh_is_loading = css_urls.length + js_urls.length;\n",
       "\n",
       "    function on_load() {\n",
       "      root._bokeh_is_loading--;\n",
       "      if (root._bokeh_is_loading === 0) {\n",
       "        console.debug(\"Bokeh: all BokehJS libraries/stylesheets loaded\");\n",
       "        run_callbacks()\n",
       "      }\n",
       "    }\n",
       "\n",
       "    function on_error() {\n",
       "      console.error(\"failed to load \" + url);\n",
       "    }\n",
       "\n",
       "    for (var i = 0; i < css_urls.length; i++) {\n",
       "      var url = css_urls[i];\n",
       "      const element = document.createElement(\"link\");\n",
       "      element.onload = on_load;\n",
       "      element.onerror = on_error;\n",
       "      element.rel = \"stylesheet\";\n",
       "      element.type = \"text/css\";\n",
       "      element.href = url;\n",
       "      console.debug(\"Bokeh: injecting link tag for BokehJS stylesheet: \", url);\n",
       "      document.body.appendChild(element);\n",
       "    }\n",
       "\n",
       "    for (var i = 0; i < js_urls.length; i++) {\n",
       "      var url = js_urls[i];\n",
       "      var element = document.createElement('script');\n",
       "      element.onload = on_load;\n",
       "      element.onerror = on_error;\n",
       "      element.async = false;\n",
       "      element.src = url;\n",
       "      \n",
       "      console.debug(\"Bokeh: injecting script tag for BokehJS library: \", url);\n",
       "      document.head.appendChild(element);\n",
       "    }\n",
       "  };var element = document.getElementById(\"1001\");\n",
       "  if (element == null) {\n",
       "    console.error(\"Bokeh: ERROR: autoload.js configured with elementid '1001' but no matching script tag was found. \")\n",
       "    return false;\n",
       "  }\n",
       "\n",
       "  function inject_raw_css(css) {\n",
       "    const element = document.createElement(\"style\");\n",
       "    element.appendChild(document.createTextNode(css));\n",
       "    document.body.appendChild(element);\n",
       "  }\n",
       "\n",
       "  \n",
       "  var js_urls = [\"https://cdn.bokeh.org/bokeh/release/bokeh-2.0.0.min.js\", \"https://cdn.bokeh.org/bokeh/release/bokeh-widgets-2.0.0.min.js\", \"https://cdn.bokeh.org/bokeh/release/bokeh-tables-2.0.0.min.js\", \"https://cdn.bokeh.org/bokeh/release/bokeh-gl-2.0.0.min.js\"];\n",
       "  var css_urls = [];\n",
       "  \n",
       "\n",
       "  var inline_js = [\n",
       "    function(Bokeh) {\n",
       "      Bokeh.set_log_level(\"info\");\n",
       "    },\n",
       "    function(Bokeh) {\n",
       "    \n",
       "    \n",
       "    }\n",
       "  ];\n",
       "\n",
       "  function run_inline_js() {\n",
       "    \n",
       "    if (root.Bokeh !== undefined || force === true) {\n",
       "      \n",
       "    for (var i = 0; i < inline_js.length; i++) {\n",
       "      inline_js[i].call(root, root.Bokeh);\n",
       "    }\n",
       "    if (force === true) {\n",
       "        display_loaded();\n",
       "      }} else if (Date.now() < root._bokeh_timeout) {\n",
       "      setTimeout(run_inline_js, 100);\n",
       "    } else if (!root._bokeh_failed_load) {\n",
       "      console.log(\"Bokeh: BokehJS failed to load within specified timeout.\");\n",
       "      root._bokeh_failed_load = true;\n",
       "    } else if (force !== true) {\n",
       "      var cell = $(document.getElementById(\"1001\")).parents('.cell').data().cell;\n",
       "      cell.output_area.append_execute_result(NB_LOAD_WARNING)\n",
       "    }\n",
       "\n",
       "  }\n",
       "\n",
       "  if (root._bokeh_is_loading === 0) {\n",
       "    console.debug(\"Bokeh: BokehJS loaded, going straight to plotting\");\n",
       "    run_inline_js();\n",
       "  } else {\n",
       "    load_libs(css_urls, js_urls, function() {\n",
       "      console.debug(\"Bokeh: BokehJS plotting callback run at\", now());\n",
       "      run_inline_js();\n",
       "    });\n",
       "  }\n",
       "}(window));"
      ],
      "application/vnd.bokehjs_load.v0+json": "\n(function(root) {\n  function now() {\n    return new Date();\n  }\n\n  var force = true;\n\n  if (typeof root._bokeh_onload_callbacks === \"undefined\" || force === true) {\n    root._bokeh_onload_callbacks = [];\n    root._bokeh_is_loading = undefined;\n  }\n\n  \n\n  \n  if (typeof (root._bokeh_timeout) === \"undefined\" || force === true) {\n    root._bokeh_timeout = Date.now() + 5000;\n    root._bokeh_failed_load = false;\n  }\n\n  var NB_LOAD_WARNING = {'data': {'text/html':\n     \"<div style='background-color: #fdd'>\\n\"+\n     \"<p>\\n\"+\n     \"BokehJS does not appear to have successfully loaded. If loading BokehJS from CDN, this \\n\"+\n     \"may be due to a slow or bad network connection. Possible fixes:\\n\"+\n     \"</p>\\n\"+\n     \"<ul>\\n\"+\n     \"<li>re-rerun `output_notebook()` to attempt to load from CDN again, or</li>\\n\"+\n     \"<li>use INLINE resources instead, as so:</li>\\n\"+\n     \"</ul>\\n\"+\n     \"<code>\\n\"+\n     \"from bokeh.resources import INLINE\\n\"+\n     \"output_notebook(resources=INLINE)\\n\"+\n     \"</code>\\n\"+\n     \"</div>\"}};\n\n  function display_loaded() {\n    var el = document.getElementById(\"1001\");\n    if (el != null) {\n      el.textContent = \"BokehJS is loading...\";\n    }\n    if (root.Bokeh !== undefined) {\n      if (el != null) {\n        el.textContent = \"BokehJS \" + root.Bokeh.version + \" successfully loaded.\";\n      }\n    } else if (Date.now() < root._bokeh_timeout) {\n      setTimeout(display_loaded, 100)\n    }\n  }\n\n\n  function run_callbacks() {\n    try {\n      root._bokeh_onload_callbacks.forEach(function(callback) {\n        if (callback != null)\n          callback();\n      });\n    } finally {\n      delete root._bokeh_onload_callbacks\n    }\n    console.debug(\"Bokeh: all callbacks have finished\");\n  }\n\n  function load_libs(css_urls, js_urls, callback) {\n    if (css_urls == null) css_urls = [];\n    if (js_urls == null) js_urls = [];\n\n    root._bokeh_onload_callbacks.push(callback);\n    if (root._bokeh_is_loading > 0) {\n      console.debug(\"Bokeh: BokehJS is being loaded, scheduling callback at\", now());\n      return null;\n    }\n    if (js_urls == null || js_urls.length === 0) {\n      run_callbacks();\n      return null;\n    }\n    console.debug(\"Bokeh: BokehJS not loaded, scheduling load and callback at\", now());\n    root._bokeh_is_loading = css_urls.length + js_urls.length;\n\n    function on_load() {\n      root._bokeh_is_loading--;\n      if (root._bokeh_is_loading === 0) {\n        console.debug(\"Bokeh: all BokehJS libraries/stylesheets loaded\");\n        run_callbacks()\n      }\n    }\n\n    function on_error() {\n      console.error(\"failed to load \" + url);\n    }\n\n    for (var i = 0; i < css_urls.length; i++) {\n      var url = css_urls[i];\n      const element = document.createElement(\"link\");\n      element.onload = on_load;\n      element.onerror = on_error;\n      element.rel = \"stylesheet\";\n      element.type = \"text/css\";\n      element.href = url;\n      console.debug(\"Bokeh: injecting link tag for BokehJS stylesheet: \", url);\n      document.body.appendChild(element);\n    }\n\n    for (var i = 0; i < js_urls.length; i++) {\n      var url = js_urls[i];\n      var element = document.createElement('script');\n      element.onload = on_load;\n      element.onerror = on_error;\n      element.async = false;\n      element.src = url;\n      \n      console.debug(\"Bokeh: injecting script tag for BokehJS library: \", url);\n      document.head.appendChild(element);\n    }\n  };var element = document.getElementById(\"1001\");\n  if (element == null) {\n    console.error(\"Bokeh: ERROR: autoload.js configured with elementid '1001' but no matching script tag was found. \")\n    return false;\n  }\n\n  function inject_raw_css(css) {\n    const element = document.createElement(\"style\");\n    element.appendChild(document.createTextNode(css));\n    document.body.appendChild(element);\n  }\n\n  \n  var js_urls = [\"https://cdn.bokeh.org/bokeh/release/bokeh-2.0.0.min.js\", \"https://cdn.bokeh.org/bokeh/release/bokeh-widgets-2.0.0.min.js\", \"https://cdn.bokeh.org/bokeh/release/bokeh-tables-2.0.0.min.js\", \"https://cdn.bokeh.org/bokeh/release/bokeh-gl-2.0.0.min.js\"];\n  var css_urls = [];\n  \n\n  var inline_js = [\n    function(Bokeh) {\n      Bokeh.set_log_level(\"info\");\n    },\n    function(Bokeh) {\n    \n    \n    }\n  ];\n\n  function run_inline_js() {\n    \n    if (root.Bokeh !== undefined || force === true) {\n      \n    for (var i = 0; i < inline_js.length; i++) {\n      inline_js[i].call(root, root.Bokeh);\n    }\n    if (force === true) {\n        display_loaded();\n      }} else if (Date.now() < root._bokeh_timeout) {\n      setTimeout(run_inline_js, 100);\n    } else if (!root._bokeh_failed_load) {\n      console.log(\"Bokeh: BokehJS failed to load within specified timeout.\");\n      root._bokeh_failed_load = true;\n    } else if (force !== true) {\n      var cell = $(document.getElementById(\"1001\")).parents('.cell').data().cell;\n      cell.output_area.append_execute_result(NB_LOAD_WARNING)\n    }\n\n  }\n\n  if (root._bokeh_is_loading === 0) {\n    console.debug(\"Bokeh: BokehJS loaded, going straight to plotting\");\n    run_inline_js();\n  } else {\n    load_libs(css_urls, js_urls, function() {\n      console.debug(\"Bokeh: BokehJS plotting callback run at\", now());\n      run_inline_js();\n    });\n  }\n}(window));"
     },
     "metadata": {},
     "output_type": "display_data"
    }
   ],
   "source": [
    "import load\n",
    "import matplotlib.pyplot as plt\n",
    "import seaborn as sns\n",
    "import plotly.graph_objects as go\n",
    "import plotly.express as px\n",
    "import numpy as np\n",
    "import pandas as pd\n",
    "\n",
    "%matplotlib inline\n",
    "\n",
    "from bokeh.io import output_notebook, export_svgs\n",
    "from bokeh.layouts import gridplot\n",
    "from bokeh.plotting import figure, show, ColumnDataSource\n",
    "output_notebook()\n"
   ]
  },
  {
   "cell_type": "markdown",
   "metadata": {},
   "source": [
    "# New Cases Data"
   ]
  },
  {
   "cell_type": "code",
   "execution_count": 4,
   "metadata": {},
   "outputs": [],
   "source": [
    "cases_df = load.load_confirmed_by_region(\"../data/usa/data_cases.csv\")"
   ]
  },
  {
   "cell_type": "code",
   "execution_count": 220,
   "metadata": {},
   "outputs": [],
   "source": [
    "def compute_rolling_mean_minus_var(cases_df, days=7):\n",
    "    \"\"\"Returns rolling mean - rolling var per county.\n",
    "        Aligned by days since first case\n",
    "    \"\"\"\n",
    "    cases = []\n",
    "\n",
    "    for region in cases_df.columns:\n",
    "        cases.append(cases_df[region].replace(0, np.nan).dropna().values)\n",
    "    \n",
    "    region_to_cases = {\n",
    "        region: pd.Series(cases[i]) for i, region in enumerate(cases_df.columns)\n",
    "    }\n",
    "    cases_since_start_df = pd.DataFrame(region_to_cases)\n",
    "    new_cases_since_start_df = cases_since_start_df.diff().iloc[1:,:]\n",
    "    rolling_df = new_cases_since_start_df.rolling(days).mean() - new_cases_since_start_df.rolling(days).var()\n",
    "    # drop first 7 days for which there is no rolling mean or var\n",
    "    rolling_df = rolling_df.iloc[days:, :]\n",
    "    rolling_df = rolling_df.reset_index(drop=True)\n",
    "    return rolling_df\n",
    "    \n",
    "def average_by_state(rolling_df):\n",
    "    \"\"\"average rolling mean - rolling var by state\n",
    "    Return new dataframe with states and day columns\n",
    "    \"\"\"\n",
    "    states = [region.split(\",\")[1].strip() for region in rolling_df.columns]\n",
    "    states_df = rolling_df.copy().T\n",
    "    states_df[\"region\"] = states\n",
    "    states_df = states_df.groupby(\"region\").mean()\n",
    "    states_df = states_df.stack().reset_index()\n",
    "    states_df = states_df.rename(columns={\n",
    "        states_df.columns[1]: \"Days (since first case)\", \n",
    "        states_df.columns[2]: \"7-day Rolling(Mean) - Rolling(Var)\", \n",
    "    })\n",
    "    return states_df"
   ]
  },
  {
   "cell_type": "code",
   "execution_count": 221,
   "metadata": {},
   "outputs": [],
   "source": [
    "rolling_df = compute_rolling_mean_minus_var(cases_df)"
   ]
  },
  {
   "cell_type": "markdown",
   "metadata": {},
   "source": [
    "# State Average: Rolling(Mean) - Rolling(Var) "
   ]
  },
  {
   "cell_type": "code",
   "execution_count": 222,
   "metadata": {},
   "outputs": [],
   "source": [
    "states_df = average_by_state(rolling_df)"
   ]
  },
  {
   "cell_type": "code",
   "execution_count": 251,
   "metadata": {},
   "outputs": [
    {
     "data": {
      "text/html": [
       "\n",
       "\n",
       "\n",
       "\n",
       "\n",
       "\n",
       "  <div class=\"bk-root\" id=\"64c7d5d6-f9ef-40d7-80c4-405cd5b3779c\" data-root-id=\"331518\"></div>\n"
      ]
     },
     "metadata": {},
     "output_type": "display_data"
    },
    {
     "data": {
      "application/javascript": [
       "(function(root) {\n",
       "  function embed_document(root) {\n",
       "    \n",
       "  var docs_json = {\"8c7a2e1a-1318-4705-93a9-c44008b4725e\":{\"roots\":{\"references\":[{\"attributes\":{\"below\":[{\"id\":\"331529\"}],\"center\":[{\"id\":\"331532\"},{\"id\":\"331535\"}],\"left\":[{\"id\":\"331533\"}],\"output_backend\":\"svg\",\"plot_height\":550,\"plot_width\":300,\"renderers\":[{\"id\":\"331545\"}],\"title\":{\"id\":\"331519\"},\"toolbar\":{\"id\":\"331538\"},\"x_range\":{\"id\":\"331521\"},\"x_scale\":{\"id\":\"331525\"},\"y_range\":{\"id\":\"331523\"},\"y_scale\":{\"id\":\"331527\"}},\"id\":\"331518\",\"subtype\":\"Figure\",\"type\":\"Plot\"},{\"attributes\":{\"data_source\":{\"id\":\"331541\"},\"glyph\":{\"id\":\"331543\"},\"hover_glyph\":null,\"muted_glyph\":null,\"nonselection_glyph\":{\"id\":\"331544\"},\"selection_glyph\":null,\"view\":{\"id\":\"331546\"}},\"id\":\"331545\",\"type\":\"GlyphRenderer\"},{\"attributes\":{},\"id\":\"331525\",\"type\":\"LogScale\"},{\"attributes\":{\"axis\":{\"id\":\"331533\"},\"dimension\":1,\"ticker\":null},\"id\":\"331535\",\"type\":\"Grid\"},{\"attributes\":{\"text\":\"Overdispersion - US States\"},\"id\":\"331519\",\"type\":\"Title\"},{\"attributes\":{\"active_drag\":\"auto\",\"active_inspect\":\"auto\",\"active_multi\":null,\"active_scroll\":\"auto\",\"active_tap\":\"auto\",\"tools\":[{\"id\":\"331536\"},{\"id\":\"331537\"}]},\"id\":\"331538\",\"type\":\"Toolbar\"},{\"attributes\":{\"factors\":[\"Arizona\",\"Arkansas\",\"California\",\"Colorado\",\"Connecticut\",\"Delaware\",\"District of Columbia\",\"Florida\",\"Georgia\",\"Illinois\",\"Indiana\",\"Iowa\",\"Kansas\",\"Kentucky\",\"Louisiana\",\"Maryland\",\"Massachusetts\",\"Michigan\",\"Minnesota\",\"Mississippi\",\"Missouri\",\"Nebraska\",\"Nevada\",\"New Hampshire\",\"New Jersey\",\"New York\",\"North Carolina\",\"North Dakota\",\"Ohio\",\"Oklahoma\",\"Pennsylvania\",\"Rhode Island\",\"South Dakota\",\"Tennessee\",\"Texas\",\"Utah\",\"Virginia\",\"Washington\",\"Wisconsin\"]},\"id\":\"331523\",\"type\":\"FactorRange\"},{\"attributes\":{},\"id\":\"331534\",\"type\":\"CategoricalTicker\"},{\"attributes\":{\"num_minor_ticks\":10},\"id\":\"331530\",\"type\":\"LogTicker\"},{\"attributes\":{\"ticker\":null},\"id\":\"334721\",\"type\":\"LogTickFormatter\"},{\"attributes\":{},\"id\":\"331536\",\"type\":\"SaveTool\"},{\"attributes\":{\"callback\":null},\"id\":\"331537\",\"type\":\"HoverTool\"},{\"attributes\":{\"axis\":{\"id\":\"331529\"},\"ticker\":null},\"id\":\"331532\",\"type\":\"Grid\"},{\"attributes\":{\"axis_label\":\"7-day Var(x) - Mean(x)\",\"formatter\":{\"id\":\"334721\"},\"ticker\":{\"id\":\"331530\"}},\"id\":\"331529\",\"type\":\"LogAxis\"},{\"attributes\":{\"data\":{\"7-day Rolling(Mean) - Rolling(Var)\":{\"__ndarray__\":\"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\",\"dtype\":\"float64\",\"shape\":[1428]},\"Days (since first case)\":[46,47,48,49,50,51,52,53,54,55,56,57,58,59,60,61,62,63,64,65,66,67,68,69,70,71,72,73,74,75,76,77,78,79,80,81,82,83,84,85,86,87,88,89,90,91,92,93,94,95,96,97,98,99,100,101,102,103,104,33,34,58,59,17,18,19,20,21,22,23,24,25,26,27,28,29,30,31,32,33,34,35,36,37,38,39,40,41,42,43,44,45,46,47,48,49,50,51,52,53,54,55,56,57,58,59,60,61,62,63,64,65,66,67,68,69,70,71,72,73,74,75,76,77,78,79,80,81,82,83,84,85,86,87,88,89,90,91,92,93,94,95,96,97,98,99,100,101,102,103,104,105,25,26,27,28,29,30,31,38,39,40,41,42,43,44,45,46,47,54,58,59,60,61,62,63,64,5,6,7,8,9,10,11,12,13,14,15,16,17,18,19,20,21,22,23,24,25,26,27,28,29,30,31,32,33,34,35,36,37,38,39,40,41,42,43,44,45,46,47,48,49,50,51,52,53,54,55,56,57,58,59,60,61,62,12,13,14,15,16,17,18,19,20,21,22,23,24,25,26,27,28,29,30,31,32,33,34,35,36,37,38,39,40,41,42,43,44,45,46,47,48,49,50,51,52,53,54,55,56,57,59,5,6,7,9,10,11,12,13,15,16,17,18,19,20,21,22,23,24,25,26,27,28,29,30,31,32,33,34,35,36,37,38,39,40,41,42,43,44,45,46,47,48,49,50,51,52,53,54,55,56,57,58,59,60,61,62,63,9,10,11,12,13,14,15,16,17,18,19,20,21,22,23,24,25,26,27,28,29,30,31,32,33,34,35,36,37,38,39,40,41,42,43,44,45,46,47,48,49,50,51,52,53,54,55,56,57,58,59,60,61,62,63,64,45,48,49,50,51,52,53,54,55,56,57,58,59,60,61,62,63,64,65,66,67,68,37,38,39,40,41,42,43,44,45,46,47,48,49,50,51,52,53,54,55,56,57,58,59,60,61,62,63,64,65,66,67,68,69,70,71,72,73,74,75,76,77,78,79,80,81,82,83,84,85,86,87,88,89,90,91,92,93,94,95,96,97,98,99,100,101,102,103,104,105,106,18,19,20,21,22,23,24,25,47,48,49,51,52,53,54,55,56,57,58,59,60,61,62,63,64,32,33,34,35,36,37,38,39,40,41,42,43,44,45,46,47,48,49,50,51,53,54,32,33,34,35,36,37,38,39,40,41,42,43,44,45,46,47,48,49,50,51,52,53,54,55,58,59,63,34,35,36,37,38,39,40,50,51,52,55,56,57,58,59,60,61,62,63,64,9,10,11,12,13,14,15,16,17,18,19,20,21,22,23,24,25,26,27,28,29,35,37,38,39,50,51,52,53,58,60,61,18,19,20,21,22,23,24,25,26,27,28,29,30,31,32,33,34,35,36,37,38,39,40,41,42,43,44,45,46,47,48,49,50,51,52,53,54,55,56,57,58,59,60,61,62,63,64,65,5,6,7,8,9,10,11,12,13,14,15,16,17,18,19,20,21,22,23,24,25,26,27,28,29,30,31,32,33,34,35,36,37,38,39,40,41,42,43,44,45,46,47,48,49,50,51,52,53,54,55,56,57,58,59,60,61,62,63,64,65,66,67,68,69,70,71,72,73,74,75,76,77,78,79,80,81,82,83,84,85,86,87,88,89,90,91,92,93,94,95,96,97,98,8,9,10,11,12,13,14,15,16,17,18,19,20,21,22,23,24,25,26,27,28,29,30,31,32,33,34,35,36,37,38,39,40,41,42,43,44,45,46,47,48,49,50,51,52,53,54,55,56,57,58,59,60,42,43,44,46,47,48,49,50,51,52,53,54,55,56,57,58,59,60,61,62,63,64,58,59,57,58,59,60,61,62,63,7,8,9,10,11,12,13,14,15,16,17,18,19,20,21,22,23,24,59,60,61,62,63,64,65,66,67,68,69,70,71,72,73,74,75,76,77,78,79,80,81,82,11,12,13,14,15,16,17,18,19,20,21,22,23,24,25,26,30,31,32,33,34,35,36,37,38,39,40,41,42,43,46,47,48,49,50,51,52,53,54,55,56,57,58,59,60,61,62,63,64,65,47,48,49,50,51,52,53,3,4,5,6,7,8,9,10,11,12,13,14,15,16,17,18,19,20,21,22,23,24,25,26,27,28,29,30,31,32,33,34,35,36,37,38,39,40,41,42,43,44,45,46,47,48,49,50,51,52,53,54,55,56,57,58,59,60,61,62,63,64,65,66,2,3,4,5,6,7,8,9,10,11,12,13,14,15,16,17,18,19,20,21,22,23,24,25,26,27,28,29,30,31,32,33,34,35,36,37,38,39,40,41,42,43,44,45,46,47,48,49,50,51,52,53,54,55,56,57,58,59,60,61,62,63,64,65,66,67,51,53,54,55,56,57,58,52,53,18,19,20,21,22,23,24,25,26,27,28,29,45,47,48,49,50,51,52,53,54,55,56,59,60,61,57,10,11,12,13,14,15,16,17,18,19,20,21,22,23,24,25,26,27,28,29,30,31,32,33,34,35,36,37,38,39,40,41,42,43,44,45,46,47,48,49,50,51,52,53,54,55,56,57,58,59,60,61,62,63,64,0,1,2,3,4,5,6,7,8,9,10,11,12,13,14,15,16,17,18,19,20,21,22,23,24,25,26,27,28,29,30,31,32,33,34,35,36,37,38,39,40,41,42,43,44,45,50,51,52,53,54,55,56,57,58,59,60,18,19,20,21,22,23,24,25,26,27,28,29,30,31,32,33,38,41,42,43,44,45,46,47,48,49,50,51,52,53,54,55,56,57,58,59,60,61,62,24,25,26,27,28,29,30,31,32,33,46,47,48,49,50,51,52,53,54,55,56,57,58,59,60,61,62,63,64,65,66,67,68,69,70,71,72,73,74,75,76,77,78,79,80,81,82,83,84,85,86,87,46,65,66,67,69,70,71,72,73,74,45,46,47,48,49,50,51,52,53,54,55,56,57,58,59,60,61,62,63,19,20,21,22,23,24,25,26,27,28,29,30,31,32,33,34,35,36,37,38,39,40,41,42,43,44,45,46,47,48,49,50,51,52,53,54,55,56,57,58,59,60,61,62,63,64,65,66,67,68,69,70,71,72,73,74,75,76,77,78,83,84,85,86,87,88,89,90,91,92,93,94,95,96,97,98,99,100,101,102,103,104,105,106,107,108,109,53,54,55,56,57],\"index\":[163,164,165,166,167,168,169,170,171,172,173,174,175,176,177,178,179,180,181,182,183,184,185,186,187,188,189,190,191,192,193,194,195,196,197,198,199,200,201,202,203,204,205,206,207,208,209,210,211,212,213,214,215,216,217,218,219,220,221,255,256,280,281,299,300,301,302,303,304,305,306,307,308,309,310,311,312,313,314,315,316,317,318,319,320,321,322,323,324,325,326,327,328,329,330,331,332,333,334,335,336,337,338,339,340,341,342,343,344,345,346,347,348,349,350,351,352,353,354,355,356,357,358,359,360,361,362,363,364,365,366,367,368,369,370,371,372,373,374,375,376,377,378,379,380,381,382,383,384,385,386,387,413,414,415,416,417,418,419,426,427,428,429,430,431,432,433,434,435,442,446,447,448,449,450,451,452,459,460,461,462,463,464,465,466,467,468,469,470,471,472,473,474,475,476,477,478,479,480,481,482,483,484,485,486,487,488,489,490,491,492,493,494,495,496,497,498,499,500,501,502,503,504,505,506,507,508,509,510,511,512,513,514,515,516,529,530,531,532,533,534,535,536,537,538,539,540,541,542,543,544,545,546,547,548,549,550,551,552,553,554,555,556,557,558,559,560,561,562,563,564,565,566,567,568,569,570,571,572,573,574,576,582,583,584,586,587,588,589,590,592,593,594,595,596,597,598,599,600,601,602,603,604,605,606,607,608,609,610,611,612,613,614,615,616,617,618,619,620,621,622,623,624,625,626,627,628,629,630,631,632,633,634,635,636,637,638,639,640,650,651,652,653,654,655,656,657,658,659,660,661,662,663,664,665,666,667,668,669,670,671,672,673,674,675,676,677,678,679,680,681,682,683,684,685,686,687,688,689,690,691,692,693,694,695,696,697,698,699,700,701,702,703,704,705,756,759,760,761,762,763,764,765,766,767,768,769,770,771,772,773,774,775,776,777,778,779,940,941,942,943,944,945,946,947,948,949,950,951,952,953,954,955,956,957,958,959,960,961,962,963,964,965,966,967,968,969,970,971,972,973,974,975,976,977,978,979,980,981,982,983,984,985,986,987,988,989,990,991,992,993,994,995,996,997,998,999,1000,1001,1002,1003,1004,1005,1006,1007,1008,1009,1028,1029,1030,1031,1032,1033,1034,1035,1057,1058,1059,1061,1062,1063,1064,1065,1066,1067,1068,1069,1070,1071,1072,1073,1074,1107,1108,1109,1110,1111,1112,1113,1114,1115,1116,1117,1118,1119,1120,1121,1122,1123,1124,1125,1126,1128,1129,1170,1171,1172,1173,1174,1175,1176,1177,1178,1179,1180,1181,1182,1183,1184,1185,1186,1187,1188,1189,1190,1191,1192,1193,1196,1197,1201,1236,1237,1238,1239,1240,1241,1242,1252,1253,1254,1257,1258,1259,1260,1261,1262,1263,1264,1265,1266,1276,1277,1278,1279,1280,1281,1282,1283,1284,1285,1286,1287,1288,1289,1290,1291,1292,1293,1294,1295,1296,1302,1304,1305,1306,1317,1318,1319,1320,1325,1327,1328,1406,1407,1408,1409,1410,1411,1412,1413,1414,1415,1416,1417,1418,1419,1420,1421,1422,1423,1424,1425,1426,1427,1428,1429,1430,1431,1432,1433,1434,1435,1436,1437,1438,1439,1440,1441,1442,1443,1444,1445,1446,1447,1448,1449,1450,1451,1452,1453,1459,1460,1461,1462,1463,1464,1465,1466,1467,1468,1469,1470,1471,1472,1473,1474,1475,1476,1477,1478,1479,1480,1481,1482,1483,1484,1485,1486,1487,1488,1489,1490,1491,1492,1493,1494,1495,1496,1497,1498,1499,1500,1501,1502,1503,1504,1505,1506,1507,1508,1509,1510,1511,1512,1513,1514,1515,1516,1517,1518,1519,1520,1521,1522,1523,1524,1525,1526,1527,1528,1529,1530,1531,1532,1533,1534,1535,1536,1537,1538,1539,1540,1541,1542,1543,1544,1545,1546,1547,1548,1549,1550,1551,1552,1561,1562,1563,1564,1565,1566,1567,1568,1569,1570,1571,1572,1573,1574,1575,1576,1577,1578,1579,1580,1581,1582,1583,1584,1585,1586,1587,1588,1589,1590,1591,1592,1593,1594,1595,1596,1597,1598,1599,1600,1601,1602,1603,1604,1605,1606,1607,1608,1609,1610,1611,1612,1613,1656,1657,1658,1660,1661,1662,1663,1664,1665,1666,1667,1668,1669,1670,1671,1672,1673,1674,1675,1676,1677,1678,1737,1738,1796,1797,1798,1799,1800,1801,1802,1868,1869,1870,1871,1872,1873,1874,1875,1876,1877,1878,1879,1880,1881,1882,1883,1884,1885,1920,1921,1922,1923,1924,1925,1926,1927,1928,1929,1930,1931,1932,1933,1934,1935,1936,1937,1938,1939,1940,1941,1942,1943,1955,1956,1957,1958,1959,1960,1961,1962,1963,1964,1965,1966,1967,1968,1969,1970,1974,1975,1976,1977,1978,1979,1980,1981,1982,1983,1984,1985,1986,1987,1990,1991,1992,1993,1994,1995,1996,1997,1998,1999,2000,2001,2002,2003,2004,2005,2006,2007,2008,2009,2057,2058,2059,2060,2061,2062,2063,2082,2083,2084,2085,2086,2087,2088,2089,2090,2091,2092,2093,2094,2095,2096,2097,2098,2099,2100,2101,2102,2103,2104,2105,2106,2107,2108,2109,2110,2111,2112,2113,2114,2115,2116,2117,2118,2119,2120,2121,2122,2123,2124,2125,2126,2127,2128,2129,2130,2131,2132,2133,2134,2135,2136,2137,2138,2139,2140,2141,2142,2143,2144,2145,2208,2209,2210,2211,2212,2213,2214,2215,2216,2217,2218,2219,2220,2221,2222,2223,2224,2225,2226,2227,2228,2229,2230,2231,2232,2233,2234,2235,2236,2237,2238,2239,2240,2241,2242,2243,2244,2245,2246,2247,2248,2249,2250,2251,2252,2253,2254,2255,2256,2257,2258,2259,2260,2261,2262,2263,2264,2265,2266,2267,2268,2269,2270,2271,2272,2273,2325,2327,2328,2329,2330,2331,2332,2394,2395,2420,2421,2422,2423,2424,2425,2426,2427,2428,2429,2430,2431,2447,2449,2450,2451,2452,2453,2454,2455,2456,2457,2458,2461,2462,2463,2521,2611,2612,2613,2614,2615,2616,2617,2618,2619,2620,2621,2622,2623,2624,2625,2626,2627,2628,2629,2630,2631,2632,2633,2634,2635,2636,2637,2638,2639,2640,2641,2642,2643,2644,2645,2646,2647,2648,2649,2650,2651,2652,2653,2654,2655,2656,2657,2658,2659,2660,2661,2662,2663,2664,2665,2666,2667,2668,2669,2670,2671,2672,2673,2674,2675,2676,2677,2678,2679,2680,2681,2682,2683,2684,2685,2686,2687,2688,2689,2690,2691,2692,2693,2694,2695,2696,2697,2698,2699,2700,2701,2702,2703,2704,2705,2706,2707,2708,2709,2710,2711,2827,2828,2829,2830,2831,2832,2833,2834,2835,2836,2837,2856,2857,2858,2859,2860,2861,2862,2863,2864,2865,2866,2867,2868,2869,2870,2871,2876,2879,2880,2881,2882,2883,2884,2885,2886,2887,2888,2889,2890,2891,2892,2893,2894,2895,2896,2897,2898,2899,2900,2928,2929,2930,2931,2932,2933,2934,2935,2936,2937,2950,2951,2952,2953,2954,2955,2956,2957,2958,2959,2960,2961,2962,2963,2964,2965,2966,2967,2968,2969,2970,2971,2972,2973,2974,2975,2976,2977,2978,2979,2980,2981,2982,2983,2984,2985,2986,2987,2988,2989,2990,2991,3038,3057,3058,3059,3061,3062,3063,3064,3065,3066,3176,3177,3178,3179,3180,3181,3182,3183,3184,3185,3186,3187,3188,3189,3190,3191,3192,3193,3194,3214,3215,3216,3217,3218,3219,3220,3221,3222,3223,3224,3225,3226,3227,3228,3229,3230,3231,3232,3233,3234,3235,3236,3237,3238,3239,3240,3241,3242,3243,3244,3245,3246,3247,3248,3249,3250,3251,3252,3253,3254,3255,3256,3257,3258,3259,3260,3261,3262,3263,3264,3265,3266,3267,3268,3269,3270,3271,3272,3273,3278,3279,3280,3281,3282,3283,3284,3285,3286,3287,3288,3289,3290,3291,3292,3293,3294,3295,3296,3297,3298,3299,3300,3301,3302,3303,3304,3412,3413,3414,3415,3416],\"region\":[\"Arizona\",\"Arizona\",\"Arizona\",\"Arizona\",\"Arizona\",\"Arizona\",\"Arizona\",\"Arizona\",\"Arizona\",\"Arizona\",\"Arizona\",\"Arizona\",\"Arizona\",\"Arizona\",\"Arizona\",\"Arizona\",\"Arizona\",\"Arizona\",\"Arizona\",\"Arizona\",\"Arizona\",\"Arizona\",\"Arizona\",\"Arizona\",\"Arizona\",\"Arizona\",\"Arizona\",\"Arizona\",\"Arizona\",\"Arizona\",\"Arizona\",\"Arizona\",\"Arizona\",\"Arizona\",\"Arizona\",\"Arizona\",\"Arizona\",\"Arizona\",\"Arizona\",\"Arizona\",\"Arizona\",\"Arizona\",\"Arizona\",\"Arizona\",\"Arizona\",\"Arizona\",\"Arizona\",\"Arizona\",\"Arizona\",\"Arizona\",\"Arizona\",\"Arizona\",\"Arizona\",\"Arizona\",\"Arizona\",\"Arizona\",\"Arizona\",\"Arizona\",\"Arizona\",\"Arkansas\",\"Arkansas\",\"Arkansas\",\"Arkansas\",\"California\",\"California\",\"California\",\"California\",\"California\",\"California\",\"California\",\"California\",\"California\",\"California\",\"California\",\"California\",\"California\",\"California\",\"California\",\"California\",\"California\",\"California\",\"California\",\"California\",\"California\",\"California\",\"California\",\"California\",\"California\",\"California\",\"California\",\"California\",\"California\",\"California\",\"California\",\"California\",\"California\",\"California\",\"California\",\"California\",\"California\",\"California\",\"California\",\"California\",\"California\",\"California\",\"California\",\"California\",\"California\",\"California\",\"California\",\"California\",\"California\",\"California\",\"California\",\"California\",\"California\",\"California\",\"California\",\"California\",\"California\",\"California\",\"California\",\"California\",\"California\",\"California\",\"California\",\"California\",\"California\",\"California\",\"California\",\"California\",\"California\",\"California\",\"California\",\"California\",\"California\",\"California\",\"California\",\"California\",\"California\",\"California\",\"California\",\"California\",\"California\",\"California\",\"California\",\"California\",\"California\",\"California\",\"California\",\"California\",\"California\",\"Colorado\",\"Colorado\",\"Colorado\",\"Colorado\",\"Colorado\",\"Colorado\",\"Colorado\",\"Colorado\",\"Colorado\",\"Colorado\",\"Colorado\",\"Colorado\",\"Colorado\",\"Colorado\",\"Colorado\",\"Colorado\",\"Colorado\",\"Colorado\",\"Colorado\",\"Colorado\",\"Colorado\",\"Colorado\",\"Colorado\",\"Colorado\",\"Colorado\",\"Connecticut\",\"Connecticut\",\"Connecticut\",\"Connecticut\",\"Connecticut\",\"Connecticut\",\"Connecticut\",\"Connecticut\",\"Connecticut\",\"Connecticut\",\"Connecticut\",\"Connecticut\",\"Connecticut\",\"Connecticut\",\"Connecticut\",\"Connecticut\",\"Connecticut\",\"Connecticut\",\"Connecticut\",\"Connecticut\",\"Connecticut\",\"Connecticut\",\"Connecticut\",\"Connecticut\",\"Connecticut\",\"Connecticut\",\"Connecticut\",\"Connecticut\",\"Connecticut\",\"Connecticut\",\"Connecticut\",\"Connecticut\",\"Connecticut\",\"Connecticut\",\"Connecticut\",\"Connecticut\",\"Connecticut\",\"Connecticut\",\"Connecticut\",\"Connecticut\",\"Connecticut\",\"Connecticut\",\"Connecticut\",\"Connecticut\",\"Connecticut\",\"Connecticut\",\"Connecticut\",\"Connecticut\",\"Connecticut\",\"Connecticut\",\"Connecticut\",\"Connecticut\",\"Connecticut\",\"Connecticut\",\"Connecticut\",\"Connecticut\",\"Connecticut\",\"Connecticut\",\"Delaware\",\"Delaware\",\"Delaware\",\"Delaware\",\"Delaware\",\"Delaware\",\"Delaware\",\"Delaware\",\"Delaware\",\"Delaware\",\"Delaware\",\"Delaware\",\"Delaware\",\"Delaware\",\"Delaware\",\"Delaware\",\"Delaware\",\"Delaware\",\"Delaware\",\"Delaware\",\"Delaware\",\"Delaware\",\"Delaware\",\"Delaware\",\"Delaware\",\"Delaware\",\"Delaware\",\"Delaware\",\"Delaware\",\"Delaware\",\"Delaware\",\"Delaware\",\"Delaware\",\"Delaware\",\"Delaware\",\"Delaware\",\"Delaware\",\"Delaware\",\"Delaware\",\"Delaware\",\"Delaware\",\"Delaware\",\"Delaware\",\"Delaware\",\"Delaware\",\"Delaware\",\"Delaware\",\"District of Columbia\",\"District of Columbia\",\"District of Columbia\",\"District of Columbia\",\"District of Columbia\",\"District of Columbia\",\"District of Columbia\",\"District of Columbia\",\"District of Columbia\",\"District of Columbia\",\"District of Columbia\",\"District of Columbia\",\"District of Columbia\",\"District of Columbia\",\"District of Columbia\",\"District of Columbia\",\"District of Columbia\",\"District of Columbia\",\"District of Columbia\",\"District of Columbia\",\"District of Columbia\",\"District of Columbia\",\"District of Columbia\",\"District of Columbia\",\"District of Columbia\",\"District of Columbia\",\"District of Columbia\",\"District of Columbia\",\"District of Columbia\",\"District of Columbia\",\"District of Columbia\",\"District of Columbia\",\"District of Columbia\",\"District of Columbia\",\"District of Columbia\",\"District of Columbia\",\"District of Columbia\",\"District of Columbia\",\"District of Columbia\",\"District of Columbia\",\"District of Columbia\",\"District of Columbia\",\"District of Columbia\",\"District of Columbia\",\"District of Columbia\",\"District of Columbia\",\"District of Columbia\",\"District of Columbia\",\"District of Columbia\",\"District of Columbia\",\"District of Columbia\",\"District of Columbia\",\"District of Columbia\",\"District of Columbia\",\"District of Columbia\",\"District of Columbia\",\"District of Columbia\",\"Florida\",\"Florida\",\"Florida\",\"Florida\",\"Florida\",\"Florida\",\"Florida\",\"Florida\",\"Florida\",\"Florida\",\"Florida\",\"Florida\",\"Florida\",\"Florida\",\"Florida\",\"Florida\",\"Florida\",\"Florida\",\"Florida\",\"Florida\",\"Florida\",\"Florida\",\"Florida\",\"Florida\",\"Florida\",\"Florida\",\"Florida\",\"Florida\",\"Florida\",\"Florida\",\"Florida\",\"Florida\",\"Florida\",\"Florida\",\"Florida\",\"Florida\",\"Florida\",\"Florida\",\"Florida\",\"Florida\",\"Florida\",\"Florida\",\"Florida\",\"Florida\",\"Florida\",\"Florida\",\"Florida\",\"Florida\",\"Florida\",\"Florida\",\"Florida\",\"Florida\",\"Florida\",\"Florida\",\"Florida\",\"Florida\",\"Georgia\",\"Georgia\",\"Georgia\",\"Georgia\",\"Georgia\",\"Georgia\",\"Georgia\",\"Georgia\",\"Georgia\",\"Georgia\",\"Georgia\",\"Georgia\",\"Georgia\",\"Georgia\",\"Georgia\",\"Georgia\",\"Georgia\",\"Georgia\",\"Georgia\",\"Georgia\",\"Georgia\",\"Georgia\",\"Illinois\",\"Illinois\",\"Illinois\",\"Illinois\",\"Illinois\",\"Illinois\",\"Illinois\",\"Illinois\",\"Illinois\",\"Illinois\",\"Illinois\",\"Illinois\",\"Illinois\",\"Illinois\",\"Illinois\",\"Illinois\",\"Illinois\",\"Illinois\",\"Illinois\",\"Illinois\",\"Illinois\",\"Illinois\",\"Illinois\",\"Illinois\",\"Illinois\",\"Illinois\",\"Illinois\",\"Illinois\",\"Illinois\",\"Illinois\",\"Illinois\",\"Illinois\",\"Illinois\",\"Illinois\",\"Illinois\",\"Illinois\",\"Illinois\",\"Illinois\",\"Illinois\",\"Illinois\",\"Illinois\",\"Illinois\",\"Illinois\",\"Illinois\",\"Illinois\",\"Illinois\",\"Illinois\",\"Illinois\",\"Illinois\",\"Illinois\",\"Illinois\",\"Illinois\",\"Illinois\",\"Illinois\",\"Illinois\",\"Illinois\",\"Illinois\",\"Illinois\",\"Illinois\",\"Illinois\",\"Illinois\",\"Illinois\",\"Illinois\",\"Illinois\",\"Illinois\",\"Illinois\",\"Illinois\",\"Illinois\",\"Illinois\",\"Illinois\",\"Indiana\",\"Indiana\",\"Indiana\",\"Indiana\",\"Indiana\",\"Indiana\",\"Indiana\",\"Indiana\",\"Indiana\",\"Indiana\",\"Indiana\",\"Indiana\",\"Indiana\",\"Indiana\",\"Indiana\",\"Indiana\",\"Indiana\",\"Indiana\",\"Indiana\",\"Indiana\",\"Indiana\",\"Indiana\",\"Indiana\",\"Indiana\",\"Indiana\",\"Iowa\",\"Iowa\",\"Iowa\",\"Iowa\",\"Iowa\",\"Iowa\",\"Iowa\",\"Iowa\",\"Iowa\",\"Iowa\",\"Iowa\",\"Iowa\",\"Iowa\",\"Iowa\",\"Iowa\",\"Iowa\",\"Iowa\",\"Iowa\",\"Iowa\",\"Iowa\",\"Iowa\",\"Iowa\",\"Kansas\",\"Kansas\",\"Kansas\",\"Kansas\",\"Kansas\",\"Kansas\",\"Kansas\",\"Kansas\",\"Kansas\",\"Kansas\",\"Kansas\",\"Kansas\",\"Kansas\",\"Kansas\",\"Kansas\",\"Kansas\",\"Kansas\",\"Kansas\",\"Kansas\",\"Kansas\",\"Kansas\",\"Kansas\",\"Kansas\",\"Kansas\",\"Kansas\",\"Kansas\",\"Kansas\",\"Kentucky\",\"Kentucky\",\"Kentucky\",\"Kentucky\",\"Kentucky\",\"Kentucky\",\"Kentucky\",\"Kentucky\",\"Kentucky\",\"Kentucky\",\"Kentucky\",\"Kentucky\",\"Kentucky\",\"Kentucky\",\"Kentucky\",\"Kentucky\",\"Kentucky\",\"Kentucky\",\"Kentucky\",\"Kentucky\",\"Louisiana\",\"Louisiana\",\"Louisiana\",\"Louisiana\",\"Louisiana\",\"Louisiana\",\"Louisiana\",\"Louisiana\",\"Louisiana\",\"Louisiana\",\"Louisiana\",\"Louisiana\",\"Louisiana\",\"Louisiana\",\"Louisiana\",\"Louisiana\",\"Louisiana\",\"Louisiana\",\"Louisiana\",\"Louisiana\",\"Louisiana\",\"Louisiana\",\"Louisiana\",\"Louisiana\",\"Louisiana\",\"Louisiana\",\"Louisiana\",\"Louisiana\",\"Louisiana\",\"Louisiana\",\"Louisiana\",\"Louisiana\",\"Maryland\",\"Maryland\",\"Maryland\",\"Maryland\",\"Maryland\",\"Maryland\",\"Maryland\",\"Maryland\",\"Maryland\",\"Maryland\",\"Maryland\",\"Maryland\",\"Maryland\",\"Maryland\",\"Maryland\",\"Maryland\",\"Maryland\",\"Maryland\",\"Maryland\",\"Maryland\",\"Maryland\",\"Maryland\",\"Maryland\",\"Maryland\",\"Maryland\",\"Maryland\",\"Maryland\",\"Maryland\",\"Maryland\",\"Maryland\",\"Maryland\",\"Maryland\",\"Maryland\",\"Maryland\",\"Maryland\",\"Maryland\",\"Maryland\",\"Maryland\",\"Maryland\",\"Maryland\",\"Maryland\",\"Maryland\",\"Maryland\",\"Maryland\",\"Maryland\",\"Maryland\",\"Maryland\",\"Maryland\",\"Massachusetts\",\"Massachusetts\",\"Massachusetts\",\"Massachusetts\",\"Massachusetts\",\"Massachusetts\",\"Massachusetts\",\"Massachusetts\",\"Massachusetts\",\"Massachusetts\",\"Massachusetts\",\"Massachusetts\",\"Massachusetts\",\"Massachusetts\",\"Massachusetts\",\"Massachusetts\",\"Massachusetts\",\"Massachusetts\",\"Massachusetts\",\"Massachusetts\",\"Massachusetts\",\"Massachusetts\",\"Massachusetts\",\"Massachusetts\",\"Massachusetts\",\"Massachusetts\",\"Massachusetts\",\"Massachusetts\",\"Massachusetts\",\"Massachusetts\",\"Massachusetts\",\"Massachusetts\",\"Massachusetts\",\"Massachusetts\",\"Massachusetts\",\"Massachusetts\",\"Massachusetts\",\"Massachusetts\",\"Massachusetts\",\"Massachusetts\",\"Massachusetts\",\"Massachusetts\",\"Massachusetts\",\"Massachusetts\",\"Massachusetts\",\"Massachusetts\",\"Massachusetts\",\"Massachusetts\",\"Massachusetts\",\"Massachusetts\",\"Massachusetts\",\"Massachusetts\",\"Massachusetts\",\"Massachusetts\",\"Massachusetts\",\"Massachusetts\",\"Massachusetts\",\"Massachusetts\",\"Massachusetts\",\"Massachusetts\",\"Massachusetts\",\"Massachusetts\",\"Massachusetts\",\"Massachusetts\",\"Massachusetts\",\"Massachusetts\",\"Massachusetts\",\"Massachusetts\",\"Massachusetts\",\"Massachusetts\",\"Massachusetts\",\"Massachusetts\",\"Massachusetts\",\"Massachusetts\",\"Massachusetts\",\"Massachusetts\",\"Massachusetts\",\"Massachusetts\",\"Massachusetts\",\"Massachusetts\",\"Massachusetts\",\"Massachusetts\",\"Massachusetts\",\"Massachusetts\",\"Massachusetts\",\"Massachusetts\",\"Massachusetts\",\"Massachusetts\",\"Massachusetts\",\"Massachusetts\",\"Massachusetts\",\"Massachusetts\",\"Massachusetts\",\"Massachusetts\",\"Michigan\",\"Michigan\",\"Michigan\",\"Michigan\",\"Michigan\",\"Michigan\",\"Michigan\",\"Michigan\",\"Michigan\",\"Michigan\",\"Michigan\",\"Michigan\",\"Michigan\",\"Michigan\",\"Michigan\",\"Michigan\",\"Michigan\",\"Michigan\",\"Michigan\",\"Michigan\",\"Michigan\",\"Michigan\",\"Michigan\",\"Michigan\",\"Michigan\",\"Michigan\",\"Michigan\",\"Michigan\",\"Michigan\",\"Michigan\",\"Michigan\",\"Michigan\",\"Michigan\",\"Michigan\",\"Michigan\",\"Michigan\",\"Michigan\",\"Michigan\",\"Michigan\",\"Michigan\",\"Michigan\",\"Michigan\",\"Michigan\",\"Michigan\",\"Michigan\",\"Michigan\",\"Michigan\",\"Michigan\",\"Michigan\",\"Michigan\",\"Michigan\",\"Michigan\",\"Michigan\",\"Minnesota\",\"Minnesota\",\"Minnesota\",\"Minnesota\",\"Minnesota\",\"Minnesota\",\"Minnesota\",\"Minnesota\",\"Minnesota\",\"Minnesota\",\"Minnesota\",\"Minnesota\",\"Minnesota\",\"Minnesota\",\"Minnesota\",\"Minnesota\",\"Minnesota\",\"Minnesota\",\"Minnesota\",\"Minnesota\",\"Minnesota\",\"Minnesota\",\"Mississippi\",\"Mississippi\",\"Missouri\",\"Missouri\",\"Missouri\",\"Missouri\",\"Missouri\",\"Missouri\",\"Missouri\",\"Nebraska\",\"Nebraska\",\"Nebraska\",\"Nebraska\",\"Nebraska\",\"Nebraska\",\"Nebraska\",\"Nebraska\",\"Nebraska\",\"Nebraska\",\"Nebraska\",\"Nebraska\",\"Nebraska\",\"Nebraska\",\"Nebraska\",\"Nebraska\",\"Nebraska\",\"Nebraska\",\"Nebraska\",\"Nebraska\",\"Nebraska\",\"Nebraska\",\"Nebraska\",\"Nebraska\",\"Nebraska\",\"Nebraska\",\"Nebraska\",\"Nebraska\",\"Nebraska\",\"Nebraska\",\"Nebraska\",\"Nebraska\",\"Nebraska\",\"Nebraska\",\"Nebraska\",\"Nebraska\",\"Nebraska\",\"Nebraska\",\"Nebraska\",\"Nebraska\",\"Nebraska\",\"Nebraska\",\"Nevada\",\"Nevada\",\"Nevada\",\"Nevada\",\"Nevada\",\"Nevada\",\"Nevada\",\"Nevada\",\"Nevada\",\"Nevada\",\"Nevada\",\"Nevada\",\"Nevada\",\"Nevada\",\"Nevada\",\"Nevada\",\"Nevada\",\"Nevada\",\"Nevada\",\"Nevada\",\"Nevada\",\"Nevada\",\"Nevada\",\"Nevada\",\"Nevada\",\"Nevada\",\"Nevada\",\"Nevada\",\"Nevada\",\"Nevada\",\"Nevada\",\"Nevada\",\"Nevada\",\"Nevada\",\"Nevada\",\"Nevada\",\"Nevada\",\"Nevada\",\"Nevada\",\"Nevada\",\"Nevada\",\"Nevada\",\"Nevada\",\"Nevada\",\"Nevada\",\"Nevada\",\"Nevada\",\"Nevada\",\"Nevada\",\"Nevada\",\"New Hampshire\",\"New Hampshire\",\"New Hampshire\",\"New Hampshire\",\"New Hampshire\",\"New Hampshire\",\"New Hampshire\",\"New Jersey\",\"New Jersey\",\"New Jersey\",\"New Jersey\",\"New Jersey\",\"New Jersey\",\"New Jersey\",\"New Jersey\",\"New Jersey\",\"New Jersey\",\"New Jersey\",\"New Jersey\",\"New Jersey\",\"New Jersey\",\"New Jersey\",\"New Jersey\",\"New Jersey\",\"New Jersey\",\"New Jersey\",\"New Jersey\",\"New Jersey\",\"New Jersey\",\"New Jersey\",\"New Jersey\",\"New Jersey\",\"New Jersey\",\"New Jersey\",\"New Jersey\",\"New Jersey\",\"New Jersey\",\"New Jersey\",\"New Jersey\",\"New Jersey\",\"New Jersey\",\"New Jersey\",\"New Jersey\",\"New Jersey\",\"New Jersey\",\"New Jersey\",\"New Jersey\",\"New Jersey\",\"New Jersey\",\"New Jersey\",\"New Jersey\",\"New Jersey\",\"New Jersey\",\"New Jersey\",\"New Jersey\",\"New Jersey\",\"New Jersey\",\"New Jersey\",\"New Jersey\",\"New Jersey\",\"New Jersey\",\"New Jersey\",\"New Jersey\",\"New Jersey\",\"New Jersey\",\"New Jersey\",\"New Jersey\",\"New Jersey\",\"New Jersey\",\"New Jersey\",\"New Jersey\",\"New York\",\"New York\",\"New York\",\"New York\",\"New York\",\"New York\",\"New York\",\"New York\",\"New York\",\"New York\",\"New York\",\"New York\",\"New York\",\"New York\",\"New York\",\"New York\",\"New York\",\"New York\",\"New York\",\"New York\",\"New York\",\"New York\",\"New York\",\"New York\",\"New York\",\"New York\",\"New York\",\"New York\",\"New York\",\"New York\",\"New York\",\"New York\",\"New York\",\"New York\",\"New York\",\"New York\",\"New York\",\"New York\",\"New York\",\"New York\",\"New York\",\"New York\",\"New York\",\"New York\",\"New York\",\"New York\",\"New York\",\"New York\",\"New York\",\"New York\",\"New York\",\"New York\",\"New York\",\"New York\",\"New York\",\"New York\",\"New York\",\"New York\",\"New York\",\"New York\",\"New York\",\"New York\",\"New York\",\"New York\",\"New York\",\"New York\",\"North Carolina\",\"North Carolina\",\"North Carolina\",\"North Carolina\",\"North Carolina\",\"North Carolina\",\"North Carolina\",\"North Dakota\",\"North Dakota\",\"Ohio\",\"Ohio\",\"Ohio\",\"Ohio\",\"Ohio\",\"Ohio\",\"Ohio\",\"Ohio\",\"Ohio\",\"Ohio\",\"Ohio\",\"Ohio\",\"Ohio\",\"Ohio\",\"Ohio\",\"Ohio\",\"Ohio\",\"Ohio\",\"Ohio\",\"Ohio\",\"Ohio\",\"Ohio\",\"Ohio\",\"Ohio\",\"Ohio\",\"Ohio\",\"Oklahoma\",\"Pennsylvania\",\"Pennsylvania\",\"Pennsylvania\",\"Pennsylvania\",\"Pennsylvania\",\"Pennsylvania\",\"Pennsylvania\",\"Pennsylvania\",\"Pennsylvania\",\"Pennsylvania\",\"Pennsylvania\",\"Pennsylvania\",\"Pennsylvania\",\"Pennsylvania\",\"Pennsylvania\",\"Pennsylvania\",\"Pennsylvania\",\"Pennsylvania\",\"Pennsylvania\",\"Pennsylvania\",\"Pennsylvania\",\"Pennsylvania\",\"Pennsylvania\",\"Pennsylvania\",\"Pennsylvania\",\"Pennsylvania\",\"Pennsylvania\",\"Pennsylvania\",\"Pennsylvania\",\"Pennsylvania\",\"Pennsylvania\",\"Pennsylvania\",\"Pennsylvania\",\"Pennsylvania\",\"Pennsylvania\",\"Pennsylvania\",\"Pennsylvania\",\"Pennsylvania\",\"Pennsylvania\",\"Pennsylvania\",\"Pennsylvania\",\"Pennsylvania\",\"Pennsylvania\",\"Pennsylvania\",\"Pennsylvania\",\"Pennsylvania\",\"Pennsylvania\",\"Pennsylvania\",\"Pennsylvania\",\"Pennsylvania\",\"Pennsylvania\",\"Pennsylvania\",\"Pennsylvania\",\"Pennsylvania\",\"Pennsylvania\",\"Rhode Island\",\"Rhode Island\",\"Rhode Island\",\"Rhode Island\",\"Rhode Island\",\"Rhode Island\",\"Rhode Island\",\"Rhode Island\",\"Rhode Island\",\"Rhode Island\",\"Rhode Island\",\"Rhode Island\",\"Rhode Island\",\"Rhode Island\",\"Rhode Island\",\"Rhode Island\",\"Rhode Island\",\"Rhode Island\",\"Rhode Island\",\"Rhode Island\",\"Rhode Island\",\"Rhode Island\",\"Rhode Island\",\"Rhode Island\",\"Rhode Island\",\"Rhode Island\",\"Rhode Island\",\"Rhode Island\",\"Rhode Island\",\"Rhode Island\",\"Rhode Island\",\"Rhode Island\",\"Rhode Island\",\"Rhode Island\",\"Rhode Island\",\"Rhode Island\",\"Rhode Island\",\"Rhode Island\",\"Rhode Island\",\"Rhode Island\",\"Rhode Island\",\"Rhode Island\",\"Rhode Island\",\"Rhode Island\",\"Rhode Island\",\"Rhode Island\",\"South Dakota\",\"South Dakota\",\"South Dakota\",\"South Dakota\",\"South Dakota\",\"South Dakota\",\"South Dakota\",\"South Dakota\",\"South Dakota\",\"South Dakota\",\"South Dakota\",\"Tennessee\",\"Tennessee\",\"Tennessee\",\"Tennessee\",\"Tennessee\",\"Tennessee\",\"Tennessee\",\"Tennessee\",\"Tennessee\",\"Tennessee\",\"Tennessee\",\"Tennessee\",\"Tennessee\",\"Tennessee\",\"Tennessee\",\"Tennessee\",\"Tennessee\",\"Tennessee\",\"Tennessee\",\"Tennessee\",\"Tennessee\",\"Tennessee\",\"Tennessee\",\"Tennessee\",\"Tennessee\",\"Tennessee\",\"Tennessee\",\"Tennessee\",\"Tennessee\",\"Tennessee\",\"Tennessee\",\"Tennessee\",\"Tennessee\",\"Tennessee\",\"Tennessee\",\"Tennessee\",\"Tennessee\",\"Tennessee\",\"Tennessee\",\"Texas\",\"Texas\",\"Texas\",\"Texas\",\"Texas\",\"Texas\",\"Texas\",\"Texas\",\"Texas\",\"Texas\",\"Texas\",\"Texas\",\"Texas\",\"Texas\",\"Texas\",\"Texas\",\"Texas\",\"Texas\",\"Texas\",\"Texas\",\"Texas\",\"Texas\",\"Texas\",\"Texas\",\"Texas\",\"Texas\",\"Texas\",\"Texas\",\"Texas\",\"Texas\",\"Texas\",\"Texas\",\"Texas\",\"Texas\",\"Texas\",\"Texas\",\"Texas\",\"Texas\",\"Texas\",\"Texas\",\"Texas\",\"Texas\",\"Texas\",\"Texas\",\"Texas\",\"Texas\",\"Texas\",\"Texas\",\"Texas\",\"Texas\",\"Texas\",\"Texas\",\"Utah\",\"Utah\",\"Utah\",\"Utah\",\"Utah\",\"Utah\",\"Utah\",\"Utah\",\"Utah\",\"Utah\",\"Virginia\",\"Virginia\",\"Virginia\",\"Virginia\",\"Virginia\",\"Virginia\",\"Virginia\",\"Virginia\",\"Virginia\",\"Virginia\",\"Virginia\",\"Virginia\",\"Virginia\",\"Virginia\",\"Virginia\",\"Virginia\",\"Virginia\",\"Virginia\",\"Virginia\",\"Washington\",\"Washington\",\"Washington\",\"Washington\",\"Washington\",\"Washington\",\"Washington\",\"Washington\",\"Washington\",\"Washington\",\"Washington\",\"Washington\",\"Washington\",\"Washington\",\"Washington\",\"Washington\",\"Washington\",\"Washington\",\"Washington\",\"Washington\",\"Washington\",\"Washington\",\"Washington\",\"Washington\",\"Washington\",\"Washington\",\"Washington\",\"Washington\",\"Washington\",\"Washington\",\"Washington\",\"Washington\",\"Washington\",\"Washington\",\"Washington\",\"Washington\",\"Washington\",\"Washington\",\"Washington\",\"Washington\",\"Washington\",\"Washington\",\"Washington\",\"Washington\",\"Washington\",\"Washington\",\"Washington\",\"Washington\",\"Washington\",\"Washington\",\"Washington\",\"Washington\",\"Washington\",\"Washington\",\"Washington\",\"Washington\",\"Washington\",\"Washington\",\"Washington\",\"Washington\",\"Washington\",\"Washington\",\"Washington\",\"Washington\",\"Washington\",\"Washington\",\"Washington\",\"Washington\",\"Washington\",\"Washington\",\"Washington\",\"Washington\",\"Washington\",\"Washington\",\"Washington\",\"Washington\",\"Washington\",\"Washington\",\"Washington\",\"Washington\",\"Washington\",\"Washington\",\"Washington\",\"Washington\",\"Washington\",\"Washington\",\"Washington\",\"Wisconsin\",\"Wisconsin\",\"Wisconsin\",\"Wisconsin\",\"Wisconsin\"],\"y\":{\"__ndarray__\":\"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\",\"dtype\":\"float64\",\"shape\":[1428]}},\"selected\":{\"id\":\"334724\"},\"selection_policy\":{\"id\":\"334723\"}},\"id\":\"331541\",\"type\":\"ColumnDataSource\"},{\"attributes\":{},\"id\":\"334719\",\"type\":\"CategoricalTickFormatter\"},{\"attributes\":{\"source\":{\"id\":\"331541\"}},\"id\":\"331546\",\"type\":\"CDSView\"},{\"attributes\":{\"fill_alpha\":{\"value\":0.4},\"fill_color\":{\"value\":\"#1f77b4\"},\"line_alpha\":{\"value\":0.4},\"line_color\":{\"value\":\"#1f77b4\"},\"size\":{\"units\":\"screen\",\"value\":5},\"x\":{\"field\":\"y\"},\"y\":{\"field\":\"region\"}},\"id\":\"331543\",\"type\":\"Circle\"},{\"attributes\":{\"formatter\":{\"id\":\"334719\"},\"ticker\":{\"id\":\"331534\"}},\"id\":\"331533\",\"type\":\"CategoricalAxis\"},{\"attributes\":{},\"id\":\"331527\",\"type\":\"CategoricalScale\"},{\"attributes\":{},\"id\":\"331521\",\"type\":\"DataRange1d\"},{\"attributes\":{},\"id\":\"334724\",\"type\":\"Selection\"},{\"attributes\":{},\"id\":\"334723\",\"type\":\"UnionRenderers\"},{\"attributes\":{\"fill_alpha\":{\"value\":0.1},\"fill_color\":{\"value\":\"#1f77b4\"},\"line_alpha\":{\"value\":0.1},\"line_color\":{\"value\":\"#1f77b4\"},\"size\":{\"units\":\"screen\",\"value\":5},\"x\":{\"field\":\"y\"},\"y\":{\"field\":\"region\"}},\"id\":\"331544\",\"type\":\"Circle\"}],\"root_ids\":[\"331518\"]},\"title\":\"Bokeh Application\",\"version\":\"2.0.0\"}};\n",
       "  var render_items = [{\"docid\":\"8c7a2e1a-1318-4705-93a9-c44008b4725e\",\"root_ids\":[\"331518\"],\"roots\":{\"331518\":\"64c7d5d6-f9ef-40d7-80c4-405cd5b3779c\"}}];\n",
       "  root.Bokeh.embed.embed_items_notebook(docs_json, render_items);\n",
       "\n",
       "  }\n",
       "  if (root.Bokeh !== undefined) {\n",
       "    embed_document(root);\n",
       "  } else {\n",
       "    var attempts = 0;\n",
       "    var timer = setInterval(function(root) {\n",
       "      if (root.Bokeh !== undefined) {\n",
       "        clearInterval(timer);\n",
       "        embed_document(root);\n",
       "      } else {\n",
       "        attempts++;\n",
       "        if (attempts > 100) {\n",
       "          clearInterval(timer);\n",
       "          console.log(\"Bokeh: ERROR: Unable to run BokehJS code because BokehJS library is missing\");\n",
       "        }\n",
       "      }\n",
       "    }, 10, root)\n",
       "  }\n",
       "})(window);"
      ],
      "application/vnd.bokehjs_exec.v0+json": ""
     },
     "metadata": {
      "application/vnd.bokehjs_exec.v0+json": {
       "id": "331518"
      }
     },
     "output_type": "display_data"
    }
   ],
   "source": [
    "#fig = px.line(states_df, \n",
    "#             x=\"Days (since first case)\",\n",
    "#             y=\"7-day Rolling(Mean) - Rolling(Var)\",\n",
    "#             color=\"state\")\n",
    "\n",
    "#fig.update_layout(title_text=\"Average State Dispersion\")\n",
    "#\n",
    "#fig.show()\n",
    "def plot_overdispersion(df, title, width=300, height=550):\n",
    "    p = figure(\n",
    "        plot_height=height, \n",
    "        plot_width=width, \n",
    "        title=title, \n",
    "        tools=\"save,hover\",\n",
    "        y_range=df['region'].unique(),\n",
    "        #x_axis_label='Days since first confirmed case', \n",
    "        x_axis_label='7-day Var(x) - Mean(x)',\n",
    "        x_axis_type='log',\n",
    "    )\n",
    "    p.circle(y='region', x='y', size=5, alpha=0.4, source=ColumnDataSource(df))\n",
    "    #p.xaxis.major_label_orientation = np.pi/3\n",
    "    p.output_backend = 'svg'\n",
    "    return p\n",
    "states_df = states_df.loc[states_df.iloc[:, 2] < -100]\n",
    "states_df['y'] = np.abs(states_df.iloc[:, 2].values)\n",
    "p = plot_overdispersion(states_df, 'Overdispersion - US States')\n",
    "show(p)"
   ]
  },
  {
   "cell_type": "markdown",
   "metadata": {},
   "source": [
    "# Top 20 Counties (by cumulative cases)"
   ]
  },
  {
   "cell_type": "code",
   "execution_count": 226,
   "metadata": {},
   "outputs": [],
   "source": [
    "def stack_counties(rolling_df):\n",
    "    counties_df = rolling_df.stack().reset_index()\n",
    "    counties_df = counties_df.rename(columns={\n",
    "        counties_df.columns[0]: \"Days (since first case)\", \n",
    "        counties_df.columns[1]: \"region\", \n",
    "        counties_df.columns[2]: \"7-day Rolling(Mean) - Rolling(Var)\", \n",
    "    })\n",
    "    return counties_df"
   ]
  },
  {
   "cell_type": "code",
   "execution_count": 249,
   "metadata": {},
   "outputs": [],
   "source": [
    "top_20_counties = list(cases_df.iloc[-1, :].sort_values().index[-len(states_df['region'].unique()):])\n",
    "top_20_rolling_df = compute_rolling_mean_minus_var(cases_df[top_20_counties])\n",
    "top_20_counties_df = stack_counties(top_20_rolling_df)"
   ]
  },
  {
   "cell_type": "code",
   "execution_count": 252,
   "metadata": {},
   "outputs": [
    {
     "name": "stderr",
     "output_type": "stream",
     "text": [
      "/private/home/maxn/.conda/envs/timelord/lib/python3.7/site-packages/ipykernel_launcher.py:10: SettingWithCopyWarning:\n",
      "\n",
      "\n",
      "A value is trying to be set on a copy of a slice from a DataFrame.\n",
      "Try using .loc[row_indexer,col_indexer] = value instead\n",
      "\n",
      "See the caveats in the documentation: https://pandas.pydata.org/pandas-docs/stable/user_guide/indexing.html#returning-a-view-versus-a-copy\n",
      "\n"
     ]
    },
    {
     "data": {
      "text/html": [
       "\n",
       "\n",
       "\n",
       "\n",
       "\n",
       "\n",
       "  <div class=\"bk-root\" id=\"5c5fc7bc-8a44-48f5-82d2-81d352a4fd93\" data-root-id=\"334767\"></div>\n"
      ]
     },
     "metadata": {},
     "output_type": "display_data"
    },
    {
     "data": {
      "application/javascript": [
       "(function(root) {\n",
       "  function embed_document(root) {\n",
       "    \n",
       "  var docs_json = {\"762c10a0-833b-463c-89ab-3dd91d1f622a\":{\"roots\":{\"references\":[{\"attributes\":{\"below\":[{\"id\":\"334778\"}],\"center\":[{\"id\":\"334781\"},{\"id\":\"334784\"}],\"left\":[{\"id\":\"334782\"}],\"output_backend\":\"svg\",\"plot_height\":550,\"plot_width\":400,\"renderers\":[{\"id\":\"334794\"}],\"title\":{\"id\":\"334768\"},\"toolbar\":{\"id\":\"334787\"},\"x_range\":{\"id\":\"334770\"},\"x_scale\":{\"id\":\"334774\"},\"y_range\":{\"id\":\"334772\"},\"y_scale\":{\"id\":\"334776\"}},\"id\":\"334767\",\"subtype\":\"Figure\",\"type\":\"Plot\"},{\"attributes\":{},\"id\":\"334776\",\"type\":\"CategoricalScale\"},{\"attributes\":{},\"id\":\"334774\",\"type\":\"LogScale\"},{\"attributes\":{},\"id\":\"337975\",\"type\":\"CategoricalTickFormatter\"},{\"attributes\":{},\"id\":\"337980\",\"type\":\"Selection\"},{\"attributes\":{\"data_source\":{\"id\":\"334790\"},\"glyph\":{\"id\":\"334792\"},\"hover_glyph\":null,\"muted_glyph\":null,\"nonselection_glyph\":{\"id\":\"334793\"},\"selection_glyph\":null,\"view\":{\"id\":\"334795\"}},\"id\":\"334794\",\"type\":\"GlyphRenderer\"},{\"attributes\":{\"formatter\":{\"id\":\"337975\"},\"ticker\":{\"id\":\"334783\"}},\"id\":\"334782\",\"type\":\"CategoricalAxis\"},{\"attributes\":{\"active_drag\":\"auto\",\"active_inspect\":\"auto\",\"active_multi\":null,\"active_scroll\":\"auto\",\"active_tap\":\"auto\",\"tools\":[{\"id\":\"334785\"},{\"id\":\"334786\"}]},\"id\":\"334787\",\"type\":\"Toolbar\"},{\"attributes\":{\"axis_label\":\"7-day Var(x) - Mean(x)\",\"formatter\":{\"id\":\"337977\"},\"ticker\":{\"id\":\"334779\"}},\"id\":\"334778\",\"type\":\"LogAxis\"},{\"attributes\":{},\"id\":\"334783\",\"type\":\"CategoricalTicker\"},{\"attributes\":{},\"id\":\"334770\",\"type\":\"DataRange1d\"},{\"attributes\":{\"num_minor_ticks\":10},\"id\":\"334779\",\"type\":\"LogTicker\"},{\"attributes\":{\"axis\":{\"id\":\"334778\"},\"ticker\":null},\"id\":\"334781\",\"type\":\"Grid\"},{\"attributes\":{},\"id\":\"334785\",\"type\":\"SaveTool\"},{\"attributes\":{\"fill_alpha\":{\"value\":0.1},\"fill_color\":{\"value\":\"#1f77b4\"},\"line_alpha\":{\"value\":0.1},\"line_color\":{\"value\":\"#1f77b4\"},\"size\":{\"units\":\"screen\",\"value\":5},\"x\":{\"field\":\"y\"},\"y\":{\"field\":\"region\"}},\"id\":\"334793\",\"type\":\"Circle\"},{\"attributes\":{\"text\":\"Overdispersion - US Counties\"},\"id\":\"334768\",\"type\":\"Title\"},{\"attributes\":{\"source\":{\"id\":\"334790\"}},\"id\":\"334795\",\"type\":\"CDSView\"},{\"attributes\":{\"ticker\":null},\"id\":\"337977\",\"type\":\"LogTickFormatter\"},{\"attributes\":{\"data\":{\"7-day Rolling(Mean) - Rolling(Var)\":{\"__ndarray__\":\"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\",\"dtype\":\"float64\",\"shape\":[2238]},\"Days (since first case)\":[0,0,0,0,0,0,0,1,1,1,1,1,1,1,1,1,1,1,2,2,2,2,2,2,2,2,2,2,2,2,2,2,2,3,3,3,3,3,3,3,3,3,3,3,3,3,3,3,3,4,4,4,4,4,4,4,4,4,4,4,4,4,4,4,4,4,4,4,5,5,5,5,5,5,5,5,5,5,5,5,5,5,5,5,5,5,5,5,5,5,5,6,6,6,6,6,6,6,6,6,6,6,6,6,6,6,6,6,6,6,6,6,6,6,6,6,6,7,7,7,7,7,7,7,7,7,7,7,7,7,7,7,7,7,7,7,7,7,7,7,7,7,7,7,7,8,8,8,8,8,8,8,8,8,8,8,8,8,8,8,8,8,8,8,8,8,8,8,8,8,8,8,8,8,9,9,9,9,9,9,9,9,9,9,9,9,9,9,9,9,9,9,9,9,9,9,9,9,9,9,9,9,9,9,10,10,10,10,10,10,10,10,10,10,10,10,10,10,10,10,10,10,10,10,10,10,10,10,10,10,10,10,10,10,10,11,11,11,11,11,11,11,11,11,11,11,11,11,11,11,11,11,11,11,11,11,11,11,11,11,11,11,11,11,11,11,11,11,11,12,12,12,12,12,12,12,12,12,12,12,12,12,12,12,12,12,12,12,12,12,12,12,12,12,12,12,12,12,12,12,12,12,12,13,13,13,13,13,13,13,13,13,13,13,13,13,13,13,13,13,13,13,13,13,13,13,13,13,13,13,13,13,13,13,13,13,13,14,14,14,14,14,14,14,14,14,14,14,14,14,14,14,14,14,14,14,14,14,14,14,14,14,14,14,14,14,14,14,14,14,14,14,14,15,15,15,15,15,15,15,15,15,15,15,15,15,15,15,15,15,15,15,15,15,15,15,15,15,15,15,15,15,15,15,15,15,15,16,16,16,16,16,16,16,16,16,16,16,16,16,16,16,16,16,16,16,16,16,16,16,16,16,16,16,16,16,16,16,16,16,16,16,17,17,17,17,17,17,17,17,17,17,17,17,17,17,17,17,17,17,17,17,17,17,17,17,17,17,17,17,17,17,17,17,17,17,17,17,18,18,18,18,18,18,18,18,18,18,18,18,18,18,18,18,18,18,18,18,18,18,18,18,18,18,18,18,18,18,18,18,18,18,19,19,19,19,19,19,19,19,19,19,19,19,19,19,19,19,19,19,19,19,19,19,19,19,19,19,19,19,19,19,19,19,19,19,20,20,20,20,20,20,20,20,20,20,20,20,20,20,20,20,20,20,20,20,20,20,20,20,20,20,20,20,20,20,20,20,20,20,20,21,21,21,21,21,21,21,21,21,21,21,21,21,21,21,21,21,21,21,21,21,21,21,21,21,21,21,21,21,21,21,21,21,21,21,22,22,22,22,22,22,22,22,22,22,22,22,22,22,22,22,22,22,22,22,22,22,22,22,22,22,22,22,22,22,22,22,22,22,22,22,23,23,23,23,23,23,23,23,23,23,23,23,23,23,23,23,23,23,23,23,23,23,23,23,23,23,23,23,23,23,23,23,23,23,23,24,24,24,24,24,24,24,24,24,24,24,24,24,24,24,24,24,24,24,24,24,24,24,24,24,24,24,24,24,24,24,24,24,24,24,24,25,25,25,25,25,25,25,25,25,25,25,25,25,25,25,25,25,25,25,25,25,25,25,25,25,25,25,25,25,25,25,25,25,25,25,25,26,26,26,26,26,26,26,26,26,26,26,26,26,26,26,26,26,26,26,26,26,26,26,26,26,26,26,26,26,26,26,26,26,26,26,26,27,27,27,27,27,27,27,27,27,27,27,27,27,27,27,27,27,27,27,27,27,27,27,27,27,27,27,27,27,27,27,27,27,27,27,27,28,28,28,28,28,28,28,28,28,28,28,28,28,28,28,28,28,28,28,28,28,28,28,28,28,28,28,28,28,28,28,28,28,28,28,28,29,29,29,29,29,29,29,29,29,29,29,29,29,29,29,29,29,29,29,29,29,29,29,29,29,29,29,29,29,29,29,29,29,29,29,29,30,30,30,30,30,30,30,30,30,30,30,30,30,30,30,30,30,30,30,30,30,30,30,30,30,30,30,30,30,30,30,30,30,30,30,30,31,31,31,31,31,31,31,31,31,31,31,31,31,31,31,31,31,31,31,31,31,31,31,31,31,31,31,31,31,31,31,31,31,31,31,31,32,32,32,32,32,32,32,32,32,32,32,32,32,32,32,32,32,32,32,32,32,32,32,32,32,32,32,32,32,32,32,32,32,32,32,32,33,33,33,33,33,33,33,33,33,33,33,33,33,33,33,33,33,33,33,33,33,33,33,33,33,33,33,33,33,33,33,33,33,33,33,33,34,34,34,34,34,34,34,34,34,34,34,34,34,34,34,34,34,34,34,34,34,34,34,34,34,34,34,34,34,34,34,34,34,34,34,34,35,35,35,35,35,35,35,35,35,35,35,35,35,35,35,35,35,35,35,35,35,35,35,35,35,35,35,35,35,35,35,35,35,35,35,35,36,36,36,36,36,36,36,36,36,36,36,36,36,36,36,36,36,36,36,36,36,36,36,36,36,36,36,36,36,36,36,36,36,36,36,36,37,37,37,37,37,37,37,37,37,37,37,37,37,37,37,37,37,37,37,37,37,37,37,37,37,37,37,37,37,37,37,37,37,37,37,37,38,38,38,38,38,38,38,38,38,38,38,38,38,38,38,38,38,38,38,38,38,38,38,38,38,38,38,38,38,38,38,38,38,38,38,39,39,39,39,39,39,39,39,39,39,39,39,39,39,39,39,39,39,39,39,39,39,39,39,39,39,39,39,39,39,39,39,39,39,39,40,40,40,40,40,40,40,40,40,40,40,40,40,40,40,40,40,40,40,40,40,40,40,40,40,40,40,40,40,40,40,40,40,40,40,41,41,41,41,41,41,41,41,41,41,41,41,41,41,41,41,41,41,41,41,41,41,41,41,41,41,41,41,41,41,41,41,41,41,41,41,42,42,42,42,42,42,42,42,42,42,42,42,42,42,42,42,42,42,42,42,42,42,42,42,42,42,42,42,42,42,42,42,42,42,42,42,43,43,43,43,43,43,43,43,43,43,43,43,43,43,43,43,43,43,43,43,43,43,43,43,43,43,43,43,43,43,43,43,43,43,43,43,43,44,44,44,44,44,44,44,44,44,44,44,44,44,44,44,44,44,44,44,44,44,44,44,44,44,44,44,44,44,44,44,44,44,44,44,44,44,44,45,45,45,45,45,45,45,45,45,45,45,45,45,45,45,45,45,45,45,45,45,45,45,45,45,45,45,45,45,45,45,45,45,45,45,45,45,45,45,46,46,46,46,46,46,46,46,46,46,46,46,46,46,46,46,46,46,46,46,46,46,46,46,46,46,46,46,46,46,46,46,46,46,46,46,46,46,47,47,47,47,47,47,47,47,47,47,47,47,47,47,47,47,47,47,47,47,47,47,47,47,47,47,47,47,47,47,47,47,47,47,47,47,47,47,48,48,48,48,48,48,48,48,48,48,48,48,48,48,48,48,48,48,48,48,48,48,48,48,48,48,48,48,48,48,48,48,48,48,48,48,48,48,49,49,49,49,49,49,49,49,49,49,49,49,49,49,49,49,49,49,49,49,49,49,49,49,49,49,49,49,49,49,49,49,49,49,49,49,49,49,50,50,50,50,50,50,50,50,50,50,50,50,50,50,50,50,50,50,50,50,50,50,50,50,50,50,50,50,50,50,50,50,50,50,50,50,50,50,51,51,51,51,51,51,51,51,51,51,51,51,51,51,51,51,51,51,51,51,51,51,51,51,51,51,51,51,51,51,51,51,51,51,51,51,51,51,52,52,52,52,52,52,52,52,52,52,52,52,52,52,52,52,52,52,52,52,52,52,52,52,52,52,52,52,52,52,52,52,52,52,52,52,52,53,53,53,53,53,53,53,53,53,53,53,53,53,53,53,53,53,53,53,53,53,53,53,53,53,53,53,53,53,53,53,53,53,53,53,53,53,54,54,54,54,54,54,54,54,54,54,54,54,54,54,54,54,54,54,54,54,54,54,54,54,54,54,54,54,54,54,54,54,54,54,54,54,54,55,55,55,55,55,55,55,55,55,55,55,55,55,55,55,55,55,55,55,55,55,55,55,55,55,55,55,55,55,55,55,55,55,55,55,55,56,56,56,56,56,56,56,56,56,56,56,56,56,56,56,56,56,56,56,56,56,56,56,56,56,56,56,56,56,56,56,56,56,56,56,56,57,57,57,57,57,57,57,57,57,57,57,57,57,57,57,57,57,57,57,57,57,57,57,57,57,57,57,57,57,57,57,57,57,57,58,58,58,58,58,58,58,58,58,58,58,58,58,58,58,58,58,58,58,58,58,58,58,58,58,58,58,58,58,58,58,58,58,58,59,59,59,59,59,59,59,59,59,59,59,59,59,59,59,59,59,59,59,59,59,59,59,59,59,59,59,59,59,59,59,59,59,60,60,60,60,60,60,60,60,60,60,60,60,60,60,60,60,60,60,60,60,60,60,60,60,60,60,60,60,60,60,61,61,61,61,61,61,61,61,61,61,61,61,61,61,61,61,61,61,61,61,61,61,61,61,61,62,62,62,62,62,62,62,62,62,62,62,62,62,62,62,62,62,62,62,62,63,63,63,63,63,63,63,63,63,63,63,63,63,63,63,63,63,64,64,64,64,64,64,64,64,64,64,64,64,64,64,64,65,65,65,65,65,65,65,65,65,65,65,65,66,66,66,66,66,66,66,67,67,67,67,67,67,68,68,68,68,68,69,69,69,69,70,70,70,70,71,71,71,71,72,72,72,73,73,73,74,74,74,75,75,75,76,76,76,77,77,77,78,78,78,79,79,79,80,80,80,81,81,81,82,82,82,83,83,83,84,84,84,85,85,85,86,86,86,87,87,87,88,88,88,89,89,89,90,90,90,91,91,91,92,92,92,93,93,93,94,94,94,95,95,95,96,96,96,97,97,97,98,98,98,99,99,100,100,101,101,102,102,103,103,104,104,105,106],\"index\":[9,12,17,22,31,35,37,43,44,48,51,56,61,66,69,70,74,76,82,83,87,90,91,95,97,100,101,105,108,109,111,113,115,120,121,122,126,129,130,134,135,136,139,140,144,147,150,152,154,156,159,160,161,165,168,169,173,175,176,178,179,183,186,189,190,191,192,193,198,199,200,203,204,207,208,211,212,214,215,217,218,220,222,224,225,226,228,229,230,231,232,237,238,239,242,243,246,247,249,250,251,252,253,254,256,257,259,260,261,263,264,265,267,268,269,270,271,273,276,277,278,281,282,285,286,288,289,290,291,292,293,294,295,296,298,299,300,302,303,304,306,307,308,309,310,312,315,316,317,319,320,321,324,325,327,328,329,330,331,332,333,334,335,337,338,339,341,342,343,345,346,347,348,349,351,354,355,356,358,359,360,361,363,364,366,367,368,369,370,371,372,373,374,376,377,378,380,381,382,384,385,386,387,388,390,393,394,395,397,398,399,400,402,403,404,405,406,407,408,409,410,411,412,413,415,416,417,419,420,421,423,424,425,426,427,429,431,432,433,434,436,437,438,439,440,441,442,443,444,445,446,447,448,449,450,451,452,454,455,456,457,458,459,460,462,463,464,465,466,468,470,471,472,473,475,476,477,478,479,480,481,482,483,484,485,486,487,488,489,490,491,493,494,495,496,497,498,499,501,502,503,504,505,507,509,510,511,512,514,515,516,517,518,519,520,521,522,523,524,525,526,527,528,529,530,532,533,534,535,536,537,538,540,541,542,543,544,546,547,548,549,550,551,552,553,554,555,556,557,558,559,560,561,562,563,564,565,566,567,568,569,571,572,573,574,575,576,577,579,580,581,582,583,585,586,587,588,589,590,591,592,593,594,596,597,598,600,601,602,603,604,605,606,607,608,610,611,612,613,614,615,616,618,619,620,621,622,624,625,626,627,628,629,630,631,632,633,634,635,636,637,639,640,641,642,643,644,645,646,647,649,650,651,652,653,654,655,657,658,659,660,661,663,664,665,666,667,668,669,670,671,672,673,674,675,676,677,678,679,680,681,682,683,684,685,686,688,689,690,691,692,693,694,696,697,698,699,700,703,704,705,706,707,709,710,711,712,713,714,715,716,717,718,719,720,721,722,723,724,725,727,728,729,730,731,732,733,735,736,737,738,739,741,742,744,745,746,748,749,750,751,752,753,754,755,756,757,758,759,760,761,762,763,764,766,767,768,769,770,771,772,774,775,776,777,778,780,781,782,783,784,785,787,788,789,790,791,792,793,794,795,796,797,798,799,800,801,802,803,805,806,807,808,809,810,811,813,814,815,816,817,819,820,821,822,823,824,826,827,828,829,830,831,832,833,834,835,836,837,838,839,840,841,842,844,845,846,847,848,849,850,852,853,854,855,856,858,859,860,861,862,863,864,865,866,867,868,869,870,871,872,873,874,875,876,877,878,879,880,881,883,884,885,886,887,888,889,891,892,893,894,895,897,898,899,900,901,902,904,905,906,907,908,909,910,911,912,913,914,915,916,917,918,919,920,922,923,924,925,926,927,928,930,931,932,933,934,936,937,938,939,940,941,942,943,944,945,946,947,948,949,950,951,952,953,954,955,956,957,958,959,961,962,963,964,965,966,967,969,970,971,972,973,975,976,977,978,979,980,981,982,983,984,985,986,987,988,989,990,991,992,993,994,995,996,997,998,1000,1001,1002,1003,1004,1005,1006,1008,1009,1010,1011,1012,1014,1015,1016,1017,1018,1019,1020,1021,1022,1023,1024,1025,1026,1027,1028,1029,1030,1031,1032,1033,1034,1035,1036,1037,1039,1040,1041,1042,1043,1044,1045,1047,1048,1049,1050,1051,1053,1054,1055,1056,1057,1058,1059,1060,1061,1062,1063,1064,1065,1066,1067,1068,1069,1070,1071,1072,1073,1074,1075,1076,1078,1079,1080,1081,1082,1083,1084,1086,1087,1088,1089,1090,1092,1093,1094,1095,1096,1097,1098,1099,1100,1101,1102,1103,1104,1105,1106,1107,1108,1109,1110,1111,1112,1113,1114,1115,1117,1118,1119,1120,1121,1122,1123,1125,1126,1127,1128,1129,1131,1132,1133,1134,1135,1136,1137,1138,1139,1140,1141,1142,1143,1144,1145,1146,1147,1148,1149,1150,1151,1152,1153,1154,1156,1157,1158,1159,1160,1161,1162,1164,1165,1166,1167,1168,1170,1171,1172,1173,1174,1175,1176,1177,1178,1179,1180,1181,1182,1183,1184,1185,1186,1187,1188,1189,1190,1191,1192,1193,1195,1196,1197,1198,1199,1200,1201,1203,1204,1205,1206,1207,1209,1210,1211,1212,1213,1214,1215,1216,1217,1218,1219,1220,1221,1222,1223,1224,1225,1226,1227,1228,1229,1230,1231,1232,1234,1235,1236,1237,1238,1239,1240,1242,1243,1244,1245,1246,1248,1249,1250,1251,1252,1253,1254,1255,1256,1257,1258,1259,1260,1261,1262,1263,1264,1265,1266,1267,1268,1269,1270,1271,1273,1274,1275,1276,1277,1278,1279,1281,1282,1283,1284,1285,1287,1288,1289,1290,1291,1292,1293,1294,1295,1296,1297,1298,1299,1300,1301,1302,1303,1304,1305,1306,1307,1308,1309,1310,1312,1313,1314,1315,1316,1317,1318,1320,1321,1322,1323,1324,1326,1327,1328,1329,1330,1331,1332,1333,1334,1335,1336,1337,1338,1339,1340,1341,1342,1343,1344,1345,1346,1347,1348,1349,1351,1352,1353,1354,1355,1356,1357,1359,1360,1361,1362,1363,1365,1366,1367,1368,1369,1370,1371,1372,1373,1374,1375,1376,1377,1378,1379,1380,1381,1382,1383,1384,1385,1386,1387,1388,1390,1391,1392,1393,1394,1395,1396,1398,1399,1400,1401,1402,1404,1405,1406,1407,1408,1409,1410,1411,1412,1413,1414,1415,1416,1417,1418,1419,1420,1421,1422,1423,1424,1425,1426,1427,1429,1430,1431,1432,1433,1434,1435,1437,1438,1439,1440,1441,1443,1444,1445,1446,1447,1448,1449,1450,1451,1452,1453,1454,1455,1456,1457,1458,1459,1460,1461,1462,1463,1464,1465,1466,1468,1469,1470,1471,1472,1473,1474,1476,1477,1478,1479,1480,1483,1484,1485,1486,1487,1488,1489,1490,1491,1492,1493,1494,1495,1496,1497,1498,1499,1500,1501,1502,1503,1504,1505,1507,1508,1509,1510,1511,1512,1513,1515,1516,1517,1518,1519,1522,1523,1524,1525,1526,1527,1528,1529,1530,1531,1532,1533,1534,1535,1536,1537,1538,1539,1540,1541,1542,1543,1544,1546,1547,1548,1549,1550,1551,1552,1554,1555,1556,1557,1558,1561,1562,1563,1564,1565,1566,1567,1568,1569,1570,1571,1572,1573,1574,1575,1576,1577,1578,1579,1580,1581,1582,1583,1585,1586,1587,1588,1589,1590,1591,1593,1594,1595,1596,1597,1599,1600,1601,1602,1603,1604,1605,1606,1607,1608,1609,1610,1611,1612,1613,1614,1615,1616,1617,1618,1619,1620,1621,1622,1624,1625,1626,1627,1628,1629,1630,1632,1633,1634,1635,1636,1638,1639,1640,1641,1642,1643,1644,1645,1646,1647,1648,1649,1650,1651,1652,1653,1654,1655,1656,1657,1658,1659,1660,1661,1663,1664,1665,1666,1667,1668,1669,1671,1672,1673,1674,1675,1677,1678,1679,1680,1681,1682,1683,1684,1685,1686,1687,1688,1689,1690,1691,1692,1693,1694,1695,1696,1697,1698,1699,1700,1702,1703,1704,1705,1706,1707,1708,1709,1710,1711,1712,1713,1714,1716,1717,1718,1719,1720,1721,1722,1723,1724,1725,1726,1727,1728,1729,1730,1731,1732,1733,1734,1735,1736,1737,1738,1739,1740,1741,1742,1743,1744,1745,1746,1747,1748,1749,1750,1751,1752,1753,1755,1756,1757,1758,1759,1760,1761,1762,1763,1764,1765,1766,1767,1768,1769,1770,1771,1772,1773,1774,1775,1776,1777,1778,1779,1780,1781,1782,1783,1784,1785,1786,1787,1788,1789,1790,1791,1792,1793,1794,1795,1796,1797,1798,1799,1800,1801,1802,1803,1804,1805,1806,1807,1808,1809,1810,1811,1812,1813,1814,1815,1816,1817,1818,1819,1820,1821,1822,1823,1824,1825,1826,1827,1828,1829,1830,1831,1832,1833,1834,1835,1836,1837,1838,1839,1840,1841,1842,1843,1844,1845,1846,1847,1848,1849,1850,1851,1852,1853,1854,1855,1856,1857,1858,1859,1860,1861,1862,1863,1864,1865,1866,1867,1868,1869,1870,1871,1872,1873,1874,1875,1876,1877,1878,1879,1880,1881,1882,1883,1884,1885,1886,1887,1888,1889,1890,1891,1892,1893,1894,1895,1896,1897,1898,1899,1900,1901,1902,1903,1904,1905,1906,1907,1908,1909,1910,1911,1912,1913,1914,1915,1916,1917,1918,1919,1920,1921,1922,1923,1924,1925,1926,1927,1928,1929,1930,1931,1932,1933,1934,1935,1936,1937,1938,1939,1940,1941,1942,1943,1944,1945,1946,1947,1948,1949,1950,1951,1952,1953,1954,1955,1956,1957,1958,1959,1960,1961,1962,1963,1964,1965,1966,1967,1968,1969,1970,1971,1972,1973,1974,1975,1976,1977,1978,1979,1980,1981,1982,1983,1984,1985,1986,1987,1988,1989,1990,1991,1992,1993,1994,1995,1996,1997,1998,1999,2000,2001,2002,2003,2004,2005,2006,2007,2008,2009,2010,2011,2012,2013,2014,2015,2016,2017,2018,2019,2020,2021,2023,2024,2025,2026,2027,2028,2029,2030,2031,2032,2033,2034,2035,2036,2037,2038,2039,2040,2041,2042,2043,2044,2045,2046,2047,2048,2049,2050,2051,2052,2053,2054,2055,2056,2057,2058,2059,2061,2062,2063,2064,2065,2066,2067,2068,2069,2070,2071,2072,2073,2074,2075,2076,2077,2078,2079,2080,2081,2082,2083,2084,2085,2086,2087,2088,2089,2090,2091,2092,2093,2094,2095,2096,2097,2099,2100,2101,2102,2103,2104,2105,2106,2107,2108,2109,2110,2111,2112,2113,2114,2115,2116,2117,2118,2119,2120,2121,2122,2123,2124,2125,2126,2127,2128,2129,2130,2131,2132,2133,2134,2135,2137,2138,2139,2140,2141,2142,2143,2144,2145,2146,2147,2148,2149,2150,2152,2153,2154,2155,2156,2157,2158,2159,2160,2161,2162,2163,2164,2165,2166,2167,2168,2169,2170,2171,2172,2173,2175,2176,2177,2178,2179,2180,2181,2182,2183,2184,2185,2186,2187,2188,2190,2191,2192,2193,2194,2195,2196,2197,2198,2199,2200,2201,2202,2203,2204,2205,2206,2207,2208,2209,2210,2211,2213,2214,2215,2216,2217,2218,2219,2220,2221,2223,2224,2225,2226,2227,2228,2229,2230,2231,2232,2233,2234,2235,2236,2237,2238,2239,2240,2241,2242,2243,2244,2245,2246,2247,2248,2249,2250,2251,2252,2253,2254,2255,2256,2258,2259,2260,2261,2262,2263,2264,2265,2266,2267,2268,2269,2270,2271,2272,2273,2274,2275,2276,2277,2278,2279,2280,2281,2282,2283,2284,2285,2286,2287,2288,2289,2290,2291,2292,2293,2294,2295,2296,2297,2298,2299,2300,2301,2302,2303,2304,2305,2306,2307,2308,2309,2310,2311,2312,2313,2314,2315,2316,2317,2318,2319,2320,2321,2322,2323,2324,2325,2326,2327,2328,2329,2330,2331,2332,2333,2334,2335,2336,2337,2338,2339,2340,2341,2342,2343,2344,2345,2346,2347,2348,2349,2350,2351,2352,2353,2354,2355,2356,2357,2358,2359,2360,2361,2362,2363,2364,2365,2366,2367,2368,2369,2370,2371,2372,2373,2374,2375,2376,2377,2378,2379,2380,2381,2382,2383,2384,2385,2386,2387,2388,2389,2390,2391,2392,2393,2394,2395,2396,2397,2398,2399,2400,2401,2402,2403,2404,2405,2406,2407,2408,2409,2410,2411,2412,2413,2414,2415,2416,2417,2418,2419,2420,2421,2422,2423,2424,2425,2426,2427,2428,2429,2430,2431,2432,2433,2434,2435,2436,2437,2438,2439,2440,2441,2442,2443,2444,2445,2446,2447,2448,2449,2450,2451,2452,2453,2454,2455,2456,2457,2458,2459,2460,2461,2462,2463,2464,2465,2466,2467,2468,2469,2470,2471,2472,2473,2474,2475,2476,2477,2478,2479,2480,2481,2482,2483,2484,2485,2486,2487,2488,2489,2490,2491,2492,2493,2494,2495,2496,2497,2498,2499,2500,2501,2502,2503,2504,2505,2506,2507,2508,2509,2510,2511,2512,2513,2514,2515,2516,2517,2518,2519,2520,2521,2522,2523,2524,2525,2526,2527,2528,2529,2530,2531,2532,2533,2534,2535,2536,2537,2538,2539,2540,2541,2542,2543,2544,2545,2546,2547,2548,2549,2550,2551,2552,2553,2554,2555,2556,2557,2558,2559],\"region\":[\"Providence, Rhode Island\",\"Orange, New York\",\"Richmond, New York\",\"Miami-Dade, Florida\",\"Westchester, New York\",\"Bronx, New York\",\"Queens, New York\",\"Ocean, New Jersey\",\"Oakland, Michigan\",\"Providence, Rhode Island\",\"Orange, New York\",\"Richmond, New York\",\"Miami-Dade, Florida\",\"Wayne, Michigan\",\"New York, New York\",\"Westchester, New York\",\"Bronx, New York\",\"Queens, New York\",\"Ocean, New Jersey\",\"Oakland, Michigan\",\"Providence, Rhode Island\",\"Orange, New York\",\"New Haven, Connecticut\",\"Richmond, New York\",\"Middlesex, New Jersey\",\"Miami-Dade, Florida\",\"Essex, New Jersey\",\"Wayne, Michigan\",\"New York, New York\",\"Westchester, New York\",\"Suffolk, New York\",\"Bronx, New York\",\"Queens, New York\",\"King, Washington\",\"Ocean, New Jersey\",\"Oakland, Michigan\",\"Providence, Rhode Island\",\"Orange, New York\",\"New Haven, Connecticut\",\"Richmond, New York\",\"Fairfield, Connecticut\",\"Middlesex, New Jersey\",\"Miami-Dade, Florida\",\"Essex, New Jersey\",\"Wayne, Michigan\",\"New York, New York\",\"Suffolk, New York\",\"Bronx, New York\",\"Queens, New York\",\"Dallas, Texas\",\"King, Washington\",\"Ocean, New Jersey\",\"Oakland, Michigan\",\"Providence, Rhode Island\",\"Orange, New York\",\"New Haven, Connecticut\",\"Richmond, New York\",\"Middlesex, New Jersey\",\"Union, New Jersey\",\"Miami-Dade, Florida\",\"Essex, New Jersey\",\"Wayne, Michigan\",\"New York, New York\",\"Suffolk, New York\",\"Nassau, New York\",\"Bronx, New York\",\"Kings, New York\",\"Queens, New York\",\"King, Washington\",\"Ocean, New Jersey\",\"Oakland, Michigan\",\"Hartford, Connecticut\",\"Providence, Rhode Island\",\"Orange, New York\",\"New Haven, Connecticut\",\"Rockland, New York\",\"Richmond, New York\",\"Middlesex, New Jersey\",\"Union, New Jersey\",\"Miami-Dade, Florida\",\"Essex, New Jersey\",\"Bergen, New Jersey\",\"Wayne, Michigan\",\"Philadelphia, Pennsylvania\",\"New York, New York\",\"Westchester, New York\",\"Suffolk, New York\",\"Nassau, New York\",\"Bronx, New York\",\"Kings, New York\",\"Queens, New York\",\"King, Washington\",\"Ocean, New Jersey\",\"Oakland, Michigan\",\"Hartford, Connecticut\",\"Providence, Rhode Island\",\"Orange, New York\",\"New Haven, Connecticut\",\"Essex, Massachusetts\",\"Rockland, New York\",\"Richmond, New York\",\"Fairfield, Connecticut\",\"Middlesex, New Jersey\",\"Union, New Jersey\",\"Miami-Dade, Florida\",\"Essex, New Jersey\",\"Bergen, New Jersey\",\"Hudson, New Jersey\",\"Wayne, Michigan\",\"Philadelphia, Pennsylvania\",\"New York, New York\",\"Westchester, New York\",\"Suffolk, New York\",\"Nassau, New York\",\"Bronx, New York\",\"Kings, New York\",\"Queens, New York\",\"Dallas, Texas\",\"King, Washington\",\"Ocean, New Jersey\",\"Oakland, Michigan\",\"Hartford, Connecticut\",\"Providence, Rhode Island\",\"Orange, New York\",\"New Haven, Connecticut\",\"Essex, Massachusetts\",\"Rockland, New York\",\"Richmond, New York\",\"Fairfield, Connecticut\",\"Middlesex, New Jersey\",\"Union, New Jersey\",\"Passaic, New Jersey\",\"Miami-Dade, Florida\",\"Essex, New Jersey\",\"Bergen, New Jersey\",\"Hudson, New Jersey\",\"Wayne, Michigan\",\"Philadelphia, Pennsylvania\",\"New York, New York\",\"Westchester, New York\",\"Suffolk, New York\",\"Nassau, New York\",\"Bronx, New York\",\"Kings, New York\",\"Queens, New York\",\"Dallas, Texas\",\"King, Washington\",\"Ocean, New Jersey\",\"Oakland, Michigan\",\"Marion, Indiana\",\"Hartford, Connecticut\",\"Providence, Rhode Island\",\"Orange, New York\",\"New Haven, Connecticut\",\"Essex, Massachusetts\",\"Rockland, New York\",\"Richmond, New York\",\"Fairfield, Connecticut\",\"Middlesex, New Jersey\",\"Union, New Jersey\",\"Passaic, New Jersey\",\"Miami-Dade, Florida\",\"Essex, New Jersey\",\"Bergen, New Jersey\",\"Hudson, New Jersey\",\"Wayne, Michigan\",\"Philadelphia, Pennsylvania\",\"New York, New York\",\"Westchester, New York\",\"Suffolk, New York\",\"Nassau, New York\",\"Bronx, New York\",\"Kings, New York\",\"Queens, New York\",\"Dallas, Texas\",\"King, Washington\",\"Ocean, New Jersey\",\"Oakland, Michigan\",\"Marion, Indiana\",\"Hartford, Connecticut\",\"Providence, Rhode Island\",\"Worcester, Massachusetts\",\"Orange, New York\",\"New Haven, Connecticut\",\"Essex, Massachusetts\",\"Rockland, New York\",\"Richmond, New York\",\"Fairfield, Connecticut\",\"Middlesex, New Jersey\",\"Union, New Jersey\",\"Passaic, New Jersey\",\"Miami-Dade, Florida\",\"Essex, New Jersey\",\"Bergen, New Jersey\",\"Hudson, New Jersey\",\"Wayne, Michigan\",\"Philadelphia, Pennsylvania\",\"New York, New York\",\"Westchester, New York\",\"Suffolk, New York\",\"Nassau, New York\",\"Bronx, New York\",\"Kings, New York\",\"Queens, New York\",\"Dallas, Texas\",\"King, Washington\",\"Ocean, New Jersey\",\"Oakland, Michigan\",\"Marion, Indiana\",\"Hartford, Connecticut\",\"Providence, Rhode Island\",\"Worcester, Massachusetts\",\"Orange, New York\",\"New Haven, Connecticut\",\"Prince George's, Maryland\",\"Essex, Massachusetts\",\"Rockland, New York\",\"Richmond, New York\",\"Fairfield, Connecticut\",\"Middlesex, New Jersey\",\"Union, New Jersey\",\"Passaic, New Jersey\",\"Miami-Dade, Florida\",\"Essex, New Jersey\",\"Bergen, New Jersey\",\"Hudson, New Jersey\",\"Wayne, Michigan\",\"Philadelphia, Pennsylvania\",\"New York, New York\",\"Westchester, New York\",\"Suffolk, New York\",\"Nassau, New York\",\"Bronx, New York\",\"Kings, New York\",\"Queens, New York\",\"Dallas, Texas\",\"Fairfax, Virginia\",\"King, Washington\",\"Ocean, New Jersey\",\"Oakland, Michigan\",\"Marion, Indiana\",\"Hartford, Connecticut\",\"Providence, Rhode Island\",\"Worcester, Massachusetts\",\"Harris, Texas\",\"Orange, New York\",\"New Haven, Connecticut\",\"Prince George's, Maryland\",\"Essex, Massachusetts\",\"Rockland, New York\",\"Richmond, New York\",\"Fairfield, Connecticut\",\"Middlesex, New Jersey\",\"Union, New Jersey\",\"Passaic, New Jersey\",\"Miami-Dade, Florida\",\"Essex, New Jersey\",\"Bergen, New Jersey\",\"Hudson, New Jersey\",\"Wayne, Michigan\",\"Middlesex, Massachusetts\",\"Philadelphia, Pennsylvania\",\"New York, New York\",\"Westchester, New York\",\"Suffolk, New York\",\"Nassau, New York\",\"Bronx, New York\",\"Kings, New York\",\"Queens, New York\",\"Dallas, Texas\",\"Fairfax, Virginia\",\"King, Washington\",\"Ocean, New Jersey\",\"Oakland, Michigan\",\"Marion, Indiana\",\"Hartford, Connecticut\",\"Providence, Rhode Island\",\"Worcester, Massachusetts\",\"Harris, Texas\",\"Orange, New York\",\"New Haven, Connecticut\",\"Prince George's, Maryland\",\"Essex, Massachusetts\",\"Rockland, New York\",\"Richmond, New York\",\"Fairfield, Connecticut\",\"Middlesex, New Jersey\",\"Union, New Jersey\",\"Passaic, New Jersey\",\"Miami-Dade, Florida\",\"Essex, New Jersey\",\"Bergen, New Jersey\",\"Hudson, New Jersey\",\"Wayne, Michigan\",\"Middlesex, Massachusetts\",\"Philadelphia, Pennsylvania\",\"New York, New York\",\"Westchester, New York\",\"Suffolk, New York\",\"Nassau, New York\",\"Bronx, New York\",\"Kings, New York\",\"Queens, New York\",\"Dallas, Texas\",\"Fairfax, Virginia\",\"King, Washington\",\"Ocean, New Jersey\",\"Oakland, Michigan\",\"Marion, Indiana\",\"Hartford, Connecticut\",\"Providence, Rhode Island\",\"Worcester, Massachusetts\",\"Harris, Texas\",\"Orange, New York\",\"New Haven, Connecticut\",\"Prince George's, Maryland\",\"Essex, Massachusetts\",\"Rockland, New York\",\"Richmond, New York\",\"Fairfield, Connecticut\",\"Middlesex, New Jersey\",\"Union, New Jersey\",\"Passaic, New Jersey\",\"Miami-Dade, Florida\",\"Essex, New Jersey\",\"Bergen, New Jersey\",\"Hudson, New Jersey\",\"Wayne, Michigan\",\"Middlesex, Massachusetts\",\"Philadelphia, Pennsylvania\",\"New York, New York\",\"Westchester, New York\",\"Suffolk, New York\",\"Nassau, New York\",\"Bronx, New York\",\"Kings, New York\",\"Queens, New York\",\"Dallas, Texas\",\"Norfolk, Massachusetts\",\"Fairfax, Virginia\",\"King, Washington\",\"Ocean, New Jersey\",\"Oakland, Michigan\",\"Montgomery, Maryland\",\"Marion, Indiana\",\"Hartford, Connecticut\",\"Providence, Rhode Island\",\"Worcester, Massachusetts\",\"Harris, Texas\",\"Orange, New York\",\"New Haven, Connecticut\",\"Prince George's, Maryland\",\"Essex, Massachusetts\",\"Rockland, New York\",\"Richmond, New York\",\"Fairfield, Connecticut\",\"Middlesex, New Jersey\",\"Union, New Jersey\",\"Passaic, New Jersey\",\"Miami-Dade, Florida\",\"Essex, New Jersey\",\"Bergen, New Jersey\",\"Hudson, New Jersey\",\"Wayne, Michigan\",\"Middlesex, Massachusetts\",\"Philadelphia, Pennsylvania\",\"New York, New York\",\"Westchester, New York\",\"Suffolk, New York\",\"Nassau, New York\",\"Bronx, New York\",\"Kings, New York\",\"Queens, New York\",\"Dallas, Texas\",\"Norfolk, Massachusetts\",\"Fairfax, Virginia\",\"King, Washington\",\"Ocean, New Jersey\",\"Oakland, Michigan\",\"Montgomery, Maryland\",\"Marion, Indiana\",\"Hartford, Connecticut\",\"Providence, Rhode Island\",\"Harris, Texas\",\"Orange, New York\",\"New Haven, Connecticut\",\"Essex, Massachusetts\",\"Rockland, New York\",\"Richmond, New York\",\"Fairfield, Connecticut\",\"Middlesex, New Jersey\",\"Union, New Jersey\",\"Passaic, New Jersey\",\"Miami-Dade, Florida\",\"Essex, New Jersey\",\"Bergen, New Jersey\",\"Hudson, New Jersey\",\"Wayne, Michigan\",\"Middlesex, Massachusetts\",\"Philadelphia, Pennsylvania\",\"New York, New York\",\"Westchester, New York\",\"Suffolk, New York\",\"Nassau, New York\",\"Bronx, New York\",\"Kings, New York\",\"Queens, New York\",\"Dallas, Texas\",\"Norfolk, Massachusetts\",\"Fairfax, Virginia\",\"King, Washington\",\"Ocean, New Jersey\",\"Oakland, Michigan\",\"Montgomery, Maryland\",\"Marion, Indiana\",\"Hartford, Connecticut\",\"Providence, Rhode Island\",\"Worcester, Massachusetts\",\"Harris, Texas\",\"Orange, New York\",\"New Haven, Connecticut\",\"Essex, Massachusetts\",\"Rockland, New York\",\"Richmond, New York\",\"Fairfield, Connecticut\",\"Middlesex, New Jersey\",\"Union, New Jersey\",\"Passaic, New Jersey\",\"Miami-Dade, Florida\",\"Essex, New Jersey\",\"Bergen, New Jersey\",\"Hudson, New Jersey\",\"Wayne, Michigan\",\"Middlesex, Massachusetts\",\"Philadelphia, Pennsylvania\",\"New York, New York\",\"Westchester, New York\",\"Suffolk, New York\",\"Nassau, New York\",\"Bronx, New York\",\"Kings, New York\",\"Queens, New York\",\"Dallas, Texas\",\"Norfolk, Massachusetts\",\"Fairfax, Virginia\",\"King, Washington\",\"Ocean, New Jersey\",\"Oakland, Michigan\",\"Montgomery, Maryland\",\"Marion, Indiana\",\"Hartford, Connecticut\",\"Providence, Rhode Island\",\"Worcester, Massachusetts\",\"Harris, Texas\",\"Orange, New York\",\"New Haven, Connecticut\",\"Prince George's, Maryland\",\"Essex, Massachusetts\",\"Rockland, New York\",\"Richmond, New York\",\"Fairfield, Connecticut\",\"Middlesex, New Jersey\",\"Union, New Jersey\",\"Passaic, New Jersey\",\"Miami-Dade, Florida\",\"Essex, New Jersey\",\"Bergen, New Jersey\",\"Hudson, New Jersey\",\"Wayne, Michigan\",\"Middlesex, Massachusetts\",\"Philadelphia, Pennsylvania\",\"New York, New York\",\"Westchester, New York\",\"Suffolk, New York\",\"Nassau, New York\",\"Bronx, New York\",\"Kings, New York\",\"Queens, New York\",\"Norfolk, Massachusetts\",\"Fairfax, Virginia\",\"King, Washington\",\"Ocean, New Jersey\",\"Oakland, Michigan\",\"Marion, Indiana\",\"Hartford, Connecticut\",\"Providence, Rhode Island\",\"Worcester, Massachusetts\",\"Harris, Texas\",\"Orange, New York\",\"New Haven, Connecticut\",\"Prince George's, Maryland\",\"Essex, Massachusetts\",\"Rockland, New York\",\"Richmond, New York\",\"Fairfield, Connecticut\",\"Middlesex, New Jersey\",\"Union, New Jersey\",\"Passaic, New Jersey\",\"Miami-Dade, Florida\",\"Essex, New Jersey\",\"Bergen, New Jersey\",\"Hudson, New Jersey\",\"Wayne, Michigan\",\"Middlesex, Massachusetts\",\"Philadelphia, Pennsylvania\",\"New York, New York\",\"Westchester, New York\",\"Suffolk, New York\",\"Nassau, New York\",\"Bronx, New York\",\"Kings, New York\",\"Queens, New York\",\"Dallas, Texas\",\"Norfolk, Massachusetts\",\"King, Washington\",\"Ocean, New Jersey\",\"Oakland, Michigan\",\"Marion, Indiana\",\"Hartford, Connecticut\",\"Providence, Rhode Island\",\"Worcester, Massachusetts\",\"Harris, Texas\",\"Orange, New York\",\"New Haven, Connecticut\",\"Prince George's, Maryland\",\"Essex, Massachusetts\",\"Rockland, New York\",\"Richmond, New York\",\"Fairfield, Connecticut\",\"Middlesex, New Jersey\",\"Union, New Jersey\",\"Passaic, New Jersey\",\"Miami-Dade, Florida\",\"Essex, New Jersey\",\"Bergen, New Jersey\",\"Hudson, New Jersey\",\"Wayne, Michigan\",\"Middlesex, Massachusetts\",\"Philadelphia, Pennsylvania\",\"New York, New York\",\"Westchester, New York\",\"Suffolk, New York\",\"Nassau, New York\",\"Bronx, New York\",\"Kings, New York\",\"Queens, New York\",\"Dallas, Texas\",\"Norfolk, Massachusetts\",\"Fairfax, Virginia\",\"King, Washington\",\"Ocean, New Jersey\",\"Oakland, Michigan\",\"Marion, Indiana\",\"Hartford, Connecticut\",\"Providence, Rhode Island\",\"Worcester, Massachusetts\",\"Harris, Texas\",\"Orange, New York\",\"New Haven, Connecticut\",\"Prince George's, Maryland\",\"Essex, Massachusetts\",\"Rockland, New York\",\"Richmond, New York\",\"Fairfield, Connecticut\",\"Middlesex, New Jersey\",\"Union, New Jersey\",\"Passaic, New Jersey\",\"Miami-Dade, Florida\",\"Essex, New Jersey\",\"Bergen, New Jersey\",\"Hudson, New Jersey\",\"Wayne, Michigan\",\"Middlesex, Massachusetts\",\"Philadelphia, Pennsylvania\",\"New York, New York\",\"Westchester, New York\",\"Suffolk, New York\",\"Nassau, New York\",\"Bronx, New York\",\"Kings, New York\",\"Queens, New York\",\"Dallas, Texas\",\"Norfolk, Massachusetts\",\"Fairfax, Virginia\",\"King, Washington\",\"Ocean, New Jersey\",\"Oakland, Michigan\",\"Marion, Indiana\",\"Hartford, Connecticut\",\"Providence, Rhode Island\",\"Worcester, Massachusetts\",\"Harris, Texas\",\"Orange, New York\",\"New Haven, Connecticut\",\"Prince George's, Maryland\",\"Essex, Massachusetts\",\"Rockland, New York\",\"Richmond, New York\",\"Fairfield, Connecticut\",\"Middlesex, New Jersey\",\"Union, New Jersey\",\"Passaic, New Jersey\",\"Miami-Dade, Florida\",\"Essex, New Jersey\",\"Bergen, New Jersey\",\"Hudson, New Jersey\",\"Wayne, Michigan\",\"Middlesex, Massachusetts\",\"Philadelphia, Pennsylvania\",\"New York, New York\",\"Westchester, New York\",\"Suffolk, New York\",\"Nassau, New York\",\"Bronx, New York\",\"Kings, New York\",\"Queens, New York\",\"Dallas, Texas\",\"Norfolk, Massachusetts\",\"Fairfax, Virginia\",\"King, Washington\",\"Ocean, New Jersey\",\"Oakland, Michigan\",\"Montgomery, Maryland\",\"Marion, Indiana\",\"Hartford, Connecticut\",\"Providence, Rhode Island\",\"Worcester, Massachusetts\",\"Harris, Texas\",\"Orange, New York\",\"New Haven, Connecticut\",\"Prince George's, Maryland\",\"Essex, Massachusetts\",\"Rockland, New York\",\"Richmond, New York\",\"Fairfield, Connecticut\",\"Middlesex, New Jersey\",\"Union, New Jersey\",\"Passaic, New Jersey\",\"Miami-Dade, Florida\",\"Essex, New Jersey\",\"Bergen, New Jersey\",\"Hudson, New Jersey\",\"Wayne, Michigan\",\"Middlesex, Massachusetts\",\"Philadelphia, Pennsylvania\",\"New York, New York\",\"Westchester, New York\",\"Suffolk, New York\",\"Nassau, New York\",\"Bronx, New York\",\"Kings, New York\",\"Queens, New York\",\"Dallas, Texas\",\"Norfolk, Massachusetts\",\"Fairfax, Virginia\",\"King, Washington\",\"Ocean, New Jersey\",\"Oakland, Michigan\",\"Marion, Indiana\",\"Hartford, Connecticut\",\"Providence, Rhode Island\",\"Worcester, Massachusetts\",\"Harris, Texas\",\"Orange, New York\",\"New Haven, Connecticut\",\"Prince George's, Maryland\",\"Essex, Massachusetts\",\"Rockland, New York\",\"Richmond, New York\",\"Fairfield, Connecticut\",\"Middlesex, New Jersey\",\"Union, New Jersey\",\"Passaic, New Jersey\",\"Miami-Dade, Florida\",\"Essex, New Jersey\",\"Bergen, New Jersey\",\"Hudson, New Jersey\",\"Wayne, Michigan\",\"Middlesex, Massachusetts\",\"Philadelphia, Pennsylvania\",\"New York, New York\",\"Westchester, New York\",\"Suffolk, New York\",\"Nassau, New York\",\"Bronx, New York\",\"Kings, New York\",\"Queens, New York\",\"Dallas, Texas\",\"Norfolk, Massachusetts\",\"Fairfax, Virginia\",\"King, Washington\",\"Ocean, New Jersey\",\"Oakland, Michigan\",\"Montgomery, Maryland\",\"Marion, Indiana\",\"Hartford, Connecticut\",\"Providence, Rhode Island\",\"Worcester, Massachusetts\",\"Harris, Texas\",\"Orange, New York\",\"New Haven, Connecticut\",\"Prince George's, Maryland\",\"Essex, Massachusetts\",\"Rockland, New York\",\"Richmond, New York\",\"Fairfield, Connecticut\",\"Middlesex, New Jersey\",\"Union, New Jersey\",\"Passaic, New Jersey\",\"Miami-Dade, Florida\",\"Essex, New Jersey\",\"Bergen, New Jersey\",\"Hudson, New Jersey\",\"Wayne, Michigan\",\"Middlesex, Massachusetts\",\"Philadelphia, Pennsylvania\",\"New York, New York\",\"Westchester, New York\",\"Suffolk, New York\",\"Nassau, New York\",\"Bronx, New York\",\"Kings, New York\",\"Queens, New York\",\"Dallas, Texas\",\"Norfolk, Massachusetts\",\"Fairfax, Virginia\",\"King, Washington\",\"Ocean, New Jersey\",\"Oakland, Michigan\",\"Montgomery, Maryland\",\"Marion, Indiana\",\"Hartford, Connecticut\",\"Providence, Rhode Island\",\"Worcester, Massachusetts\",\"Harris, Texas\",\"Orange, New York\",\"New Haven, Connecticut\",\"Prince George's, Maryland\",\"Essex, Massachusetts\",\"Rockland, New York\",\"Richmond, New York\",\"Fairfield, Connecticut\",\"Middlesex, New Jersey\",\"Union, New Jersey\",\"Passaic, New Jersey\",\"Miami-Dade, Florida\",\"Essex, New Jersey\",\"Bergen, New Jersey\",\"Hudson, New Jersey\",\"Wayne, Michigan\",\"Middlesex, Massachusetts\",\"Philadelphia, Pennsylvania\",\"New York, New York\",\"Westchester, New York\",\"Suffolk, New York\",\"Nassau, New York\",\"Bronx, New York\",\"Kings, New York\",\"Queens, New York\",\"Dallas, Texas\",\"Norfolk, Massachusetts\",\"Fairfax, Virginia\",\"King, Washington\",\"Ocean, New Jersey\",\"Oakland, Michigan\",\"Montgomery, Maryland\",\"Marion, Indiana\",\"Hartford, Connecticut\",\"Providence, Rhode Island\",\"Worcester, Massachusetts\",\"Harris, Texas\",\"Orange, New York\",\"New Haven, Connecticut\",\"Prince George's, Maryland\",\"Essex, Massachusetts\",\"Rockland, New York\",\"Richmond, New York\",\"Fairfield, Connecticut\",\"Middlesex, New Jersey\",\"Union, New Jersey\",\"Passaic, New Jersey\",\"Miami-Dade, Florida\",\"Essex, New Jersey\",\"Bergen, New Jersey\",\"Hudson, New Jersey\",\"Wayne, Michigan\",\"Middlesex, Massachusetts\",\"Philadelphia, Pennsylvania\",\"New York, New York\",\"Westchester, New York\",\"Suffolk, New York\",\"Nassau, New York\",\"Bronx, New York\",\"Kings, New York\",\"Queens, New York\",\"Dallas, Texas\",\"Norfolk, Massachusetts\",\"Fairfax, Virginia\",\"King, Washington\",\"Ocean, New Jersey\",\"Oakland, Michigan\",\"Montgomery, Maryland\",\"Marion, Indiana\",\"Hartford, Connecticut\",\"Providence, Rhode Island\",\"Worcester, Massachusetts\",\"Harris, Texas\",\"Orange, New York\",\"New Haven, Connecticut\",\"Prince George's, Maryland\",\"Essex, Massachusetts\",\"Rockland, New York\",\"Richmond, New York\",\"Fairfield, Connecticut\",\"Middlesex, New Jersey\",\"Union, New Jersey\",\"Passaic, New Jersey\",\"Miami-Dade, Florida\",\"Essex, New Jersey\",\"Bergen, New Jersey\",\"Hudson, New Jersey\",\"Wayne, Michigan\",\"Middlesex, Massachusetts\",\"Philadelphia, Pennsylvania\",\"New York, New York\",\"Westchester, New York\",\"Suffolk, New York\",\"Nassau, New York\",\"Bronx, New York\",\"Kings, New York\",\"Queens, New York\",\"Dallas, Texas\",\"Norfolk, Massachusetts\",\"Fairfax, Virginia\",\"King, Washington\",\"Ocean, New Jersey\",\"Oakland, Michigan\",\"Montgomery, Maryland\",\"Marion, Indiana\",\"Hartford, Connecticut\",\"Providence, Rhode Island\",\"Worcester, Massachusetts\",\"Harris, Texas\",\"Orange, New York\",\"New Haven, Connecticut\",\"Prince George's, Maryland\",\"Essex, Massachusetts\",\"Rockland, New York\",\"Richmond, New York\",\"Fairfield, Connecticut\",\"Middlesex, New Jersey\",\"Union, New Jersey\",\"Passaic, New Jersey\",\"Miami-Dade, Florida\",\"Essex, New Jersey\",\"Bergen, New Jersey\",\"Hudson, New Jersey\",\"Wayne, Michigan\",\"Middlesex, Massachusetts\",\"Philadelphia, Pennsylvania\",\"New York, New York\",\"Westchester, New York\",\"Suffolk, New York\",\"Nassau, New York\",\"Bronx, New York\",\"Kings, New York\",\"Queens, New York\",\"Dallas, Texas\",\"Norfolk, Massachusetts\",\"Fairfax, Virginia\",\"King, Washington\",\"Ocean, New Jersey\",\"Oakland, Michigan\",\"Montgomery, Maryland\",\"Marion, Indiana\",\"Hartford, Connecticut\",\"Providence, Rhode Island\",\"Worcester, Massachusetts\",\"Harris, Texas\",\"Orange, New York\",\"New Haven, Connecticut\",\"Prince George's, Maryland\",\"Essex, Massachusetts\",\"Rockland, New York\",\"Richmond, New York\",\"Fairfield, Connecticut\",\"Middlesex, New Jersey\",\"Union, New Jersey\",\"Passaic, New Jersey\",\"Miami-Dade, Florida\",\"Essex, New Jersey\",\"Bergen, New Jersey\",\"Hudson, New Jersey\",\"Wayne, Michigan\",\"Middlesex, Massachusetts\",\"Philadelphia, Pennsylvania\",\"New York, New York\",\"Westchester, New York\",\"Suffolk, New York\",\"Nassau, New York\",\"Bronx, New York\",\"Kings, New York\",\"Queens, New York\",\"Dallas, Texas\",\"Norfolk, Massachusetts\",\"Fairfax, Virginia\",\"King, Washington\",\"Ocean, New Jersey\",\"Oakland, Michigan\",\"Montgomery, Maryland\",\"Marion, Indiana\",\"Hartford, Connecticut\",\"Providence, Rhode Island\",\"Worcester, Massachusetts\",\"Harris, Texas\",\"Orange, New York\",\"New Haven, Connecticut\",\"Prince George's, Maryland\",\"Essex, Massachusetts\",\"Rockland, New York\",\"Richmond, New York\",\"Fairfield, Connecticut\",\"Middlesex, New Jersey\",\"Union, New Jersey\",\"Passaic, New Jersey\",\"Miami-Dade, Florida\",\"Essex, New Jersey\",\"Bergen, New Jersey\",\"Hudson, New Jersey\",\"Wayne, Michigan\",\"Middlesex, Massachusetts\",\"Philadelphia, Pennsylvania\",\"New York, New York\",\"Westchester, New York\",\"Suffolk, New York\",\"Nassau, New York\",\"Bronx, New York\",\"Kings, New York\",\"Queens, New York\",\"Dallas, Texas\",\"Norfolk, Massachusetts\",\"Fairfax, Virginia\",\"King, Washington\",\"Ocean, New Jersey\",\"Oakland, Michigan\",\"Montgomery, Maryland\",\"Marion, Indiana\",\"Hartford, Connecticut\",\"Providence, Rhode Island\",\"Worcester, Massachusetts\",\"Harris, Texas\",\"Orange, New York\",\"New Haven, Connecticut\",\"Prince George's, Maryland\",\"Essex, Massachusetts\",\"Rockland, New York\",\"Richmond, New York\",\"Fairfield, Connecticut\",\"Middlesex, New Jersey\",\"Union, New Jersey\",\"Passaic, New Jersey\",\"Miami-Dade, Florida\",\"Essex, New Jersey\",\"Bergen, New Jersey\",\"Hudson, New Jersey\",\"Wayne, Michigan\",\"Middlesex, Massachusetts\",\"Philadelphia, Pennsylvania\",\"New York, New York\",\"Westchester, New York\",\"Suffolk, New York\",\"Nassau, New York\",\"Bronx, New York\",\"Kings, New York\",\"Queens, New York\",\"Dallas, Texas\",\"Norfolk, Massachusetts\",\"Fairfax, Virginia\",\"King, Washington\",\"Ocean, New Jersey\",\"Oakland, Michigan\",\"Montgomery, Maryland\",\"Marion, Indiana\",\"Hartford, Connecticut\",\"Providence, Rhode Island\",\"Worcester, Massachusetts\",\"Harris, Texas\",\"Orange, New York\",\"New Haven, Connecticut\",\"Prince George's, Maryland\",\"Essex, Massachusetts\",\"Rockland, New York\",\"Richmond, New York\",\"Fairfield, Connecticut\",\"Middlesex, New Jersey\",\"Union, New Jersey\",\"Passaic, New Jersey\",\"Miami-Dade, Florida\",\"Essex, New Jersey\",\"Bergen, New Jersey\",\"Hudson, New Jersey\",\"Wayne, Michigan\",\"Middlesex, Massachusetts\",\"Philadelphia, Pennsylvania\",\"New York, New York\",\"Westchester, New York\",\"Suffolk, New York\",\"Nassau, New York\",\"Bronx, New York\",\"Kings, New York\",\"Queens, New York\",\"Dallas, Texas\",\"Norfolk, Massachusetts\",\"Fairfax, Virginia\",\"King, Washington\",\"Ocean, New Jersey\",\"Oakland, Michigan\",\"Montgomery, Maryland\",\"Marion, Indiana\",\"Hartford, Connecticut\",\"Providence, Rhode Island\",\"Worcester, Massachusetts\",\"Harris, Texas\",\"Orange, New York\",\"New Haven, Connecticut\",\"Prince George's, Maryland\",\"Essex, Massachusetts\",\"Rockland, New York\",\"Richmond, New York\",\"Fairfield, Connecticut\",\"Middlesex, New Jersey\",\"Union, New Jersey\",\"Passaic, New Jersey\",\"Miami-Dade, Florida\",\"Essex, New Jersey\",\"Bergen, New Jersey\",\"Hudson, New Jersey\",\"Wayne, Michigan\",\"Middlesex, Massachusetts\",\"Philadelphia, Pennsylvania\",\"New York, New York\",\"Westchester, New York\",\"Suffolk, New York\",\"Nassau, New York\",\"Bronx, New York\",\"Kings, New York\",\"Queens, New York\",\"Dallas, Texas\",\"Norfolk, Massachusetts\",\"Fairfax, Virginia\",\"King, Washington\",\"Ocean, New Jersey\",\"Oakland, Michigan\",\"Montgomery, Maryland\",\"Marion, Indiana\",\"Hartford, Connecticut\",\"Providence, Rhode Island\",\"Worcester, Massachusetts\",\"Harris, Texas\",\"Orange, New York\",\"New Haven, Connecticut\",\"Prince George's, Maryland\",\"Essex, Massachusetts\",\"Rockland, New York\",\"Richmond, New York\",\"Fairfield, Connecticut\",\"Middlesex, New Jersey\",\"Union, New Jersey\",\"Passaic, New Jersey\",\"Miami-Dade, Florida\",\"Essex, New Jersey\",\"Bergen, New Jersey\",\"Hudson, New Jersey\",\"Wayne, Michigan\",\"Middlesex, Massachusetts\",\"Philadelphia, Pennsylvania\",\"New York, New York\",\"Westchester, New York\",\"Suffolk, New York\",\"Nassau, New York\",\"Bronx, New York\",\"Kings, New York\",\"Queens, New York\",\"Dallas, Texas\",\"Norfolk, Massachusetts\",\"Fairfax, Virginia\",\"King, Washington\",\"Ocean, New Jersey\",\"Oakland, Michigan\",\"Montgomery, Maryland\",\"Marion, Indiana\",\"Hartford, Connecticut\",\"Providence, Rhode Island\",\"Worcester, Massachusetts\",\"Harris, Texas\",\"Orange, New York\",\"New Haven, Connecticut\",\"Prince George's, Maryland\",\"Essex, Massachusetts\",\"Rockland, New York\",\"Richmond, New York\",\"Fairfield, Connecticut\",\"Middlesex, New Jersey\",\"Union, New Jersey\",\"Passaic, New Jersey\",\"Miami-Dade, Florida\",\"Essex, New Jersey\",\"Bergen, New Jersey\",\"Hudson, New Jersey\",\"Wayne, Michigan\",\"Middlesex, Massachusetts\",\"Philadelphia, Pennsylvania\",\"New York, New York\",\"Westchester, New York\",\"Suffolk, New York\",\"Nassau, New York\",\"Bronx, New York\",\"Kings, New York\",\"Queens, New York\",\"Dallas, Texas\",\"Norfolk, Massachusetts\",\"Fairfax, Virginia\",\"King, Washington\",\"Ocean, New Jersey\",\"Oakland, Michigan\",\"Montgomery, Maryland\",\"Marion, Indiana\",\"Hartford, Connecticut\",\"Providence, Rhode Island\",\"Worcester, Massachusetts\",\"Harris, Texas\",\"Orange, New York\",\"New Haven, Connecticut\",\"Prince George's, Maryland\",\"Essex, Massachusetts\",\"Rockland, New York\",\"Richmond, New York\",\"Fairfield, Connecticut\",\"Middlesex, New Jersey\",\"Union, New Jersey\",\"Passaic, New Jersey\",\"Miami-Dade, Florida\",\"Essex, New Jersey\",\"Bergen, New Jersey\",\"Hudson, New Jersey\",\"Wayne, Michigan\",\"Middlesex, Massachusetts\",\"Philadelphia, Pennsylvania\",\"New York, New York\",\"Westchester, New York\",\"Suffolk, New York\",\"Nassau, New York\",\"Bronx, New York\",\"Kings, New York\",\"Queens, New York\",\"Dallas, Texas\",\"Norfolk, Massachusetts\",\"Fairfax, Virginia\",\"King, Washington\",\"Ocean, New Jersey\",\"Oakland, Michigan\",\"Montgomery, Maryland\",\"Marion, Indiana\",\"Hartford, Connecticut\",\"Providence, Rhode Island\",\"Worcester, Massachusetts\",\"Harris, Texas\",\"Orange, New York\",\"New Haven, Connecticut\",\"Prince George's, Maryland\",\"Essex, Massachusetts\",\"Rockland, New York\",\"Richmond, New York\",\"Fairfield, Connecticut\",\"Middlesex, New Jersey\",\"Union, New Jersey\",\"Passaic, New Jersey\",\"Miami-Dade, Florida\",\"Essex, New Jersey\",\"Bergen, New Jersey\",\"Hudson, New Jersey\",\"Wayne, Michigan\",\"Middlesex, Massachusetts\",\"Philadelphia, Pennsylvania\",\"New York, New York\",\"Westchester, New York\",\"Suffolk, New York\",\"Nassau, New York\",\"Bronx, New York\",\"Kings, New York\",\"Queens, New York\",\"Norfolk, Massachusetts\",\"Fairfax, Virginia\",\"King, Washington\",\"Ocean, New Jersey\",\"Oakland, Michigan\",\"Montgomery, Maryland\",\"Marion, Indiana\",\"Hartford, Connecticut\",\"Providence, Rhode Island\",\"Worcester, Massachusetts\",\"Harris, Texas\",\"Orange, New York\",\"New Haven, Connecticut\",\"Prince George's, Maryland\",\"Essex, Massachusetts\",\"Rockland, New York\",\"Richmond, New York\",\"Fairfield, Connecticut\",\"Middlesex, New Jersey\",\"Union, New Jersey\",\"Passaic, New Jersey\",\"Miami-Dade, Florida\",\"Essex, New Jersey\",\"Bergen, New Jersey\",\"Hudson, New Jersey\",\"Wayne, Michigan\",\"Middlesex, Massachusetts\",\"Philadelphia, Pennsylvania\",\"New York, New York\",\"Westchester, New York\",\"Suffolk, New York\",\"Nassau, New York\",\"Bronx, New York\",\"Kings, New York\",\"Queens, New York\",\"Norfolk, Massachusetts\",\"Fairfax, Virginia\",\"King, Washington\",\"Ocean, New Jersey\",\"Oakland, Michigan\",\"Montgomery, Maryland\",\"Marion, Indiana\",\"Hartford, Connecticut\",\"Providence, Rhode Island\",\"Worcester, Massachusetts\",\"Harris, Texas\",\"Orange, New York\",\"New Haven, Connecticut\",\"Prince George's, Maryland\",\"Essex, Massachusetts\",\"Rockland, New York\",\"Richmond, New York\",\"Fairfield, Connecticut\",\"Middlesex, New Jersey\",\"Union, New Jersey\",\"Passaic, New Jersey\",\"Miami-Dade, Florida\",\"Essex, New Jersey\",\"Bergen, New Jersey\",\"Hudson, New Jersey\",\"Wayne, Michigan\",\"Middlesex, Massachusetts\",\"Philadelphia, Pennsylvania\",\"New York, New York\",\"Westchester, New York\",\"Suffolk, New York\",\"Nassau, New York\",\"Bronx, New York\",\"Kings, New York\",\"Queens, New York\",\"Norfolk, Massachusetts\",\"Fairfax, Virginia\",\"King, Washington\",\"Ocean, New Jersey\",\"Oakland, Michigan\",\"Montgomery, Maryland\",\"Marion, Indiana\",\"Hartford, Connecticut\",\"Providence, Rhode Island\",\"Worcester, Massachusetts\",\"Harris, Texas\",\"Orange, New York\",\"New Haven, Connecticut\",\"Prince George's, Maryland\",\"Essex, Massachusetts\",\"Rockland, New York\",\"Richmond, New York\",\"Fairfield, Connecticut\",\"Middlesex, New Jersey\",\"Union, New Jersey\",\"Passaic, New Jersey\",\"Miami-Dade, Florida\",\"Essex, New Jersey\",\"Bergen, New Jersey\",\"Hudson, New Jersey\",\"Wayne, Michigan\",\"Middlesex, Massachusetts\",\"Philadelphia, Pennsylvania\",\"New York, New York\",\"Westchester, New York\",\"Suffolk, New York\",\"Nassau, New York\",\"Bronx, New York\",\"Kings, New York\",\"Queens, New York\",\"Dallas, Texas\",\"Norfolk, Massachusetts\",\"Fairfax, Virginia\",\"King, Washington\",\"Ocean, New Jersey\",\"Oakland, Michigan\",\"Montgomery, Maryland\",\"Marion, Indiana\",\"Hartford, Connecticut\",\"Providence, Rhode Island\",\"Worcester, Massachusetts\",\"Harris, Texas\",\"Orange, New York\",\"New Haven, Connecticut\",\"Prince George's, Maryland\",\"Essex, Massachusetts\",\"Rockland, New York\",\"Richmond, New York\",\"Fairfield, Connecticut\",\"Middlesex, New Jersey\",\"Union, New Jersey\",\"Passaic, New Jersey\",\"Miami-Dade, Florida\",\"Essex, New Jersey\",\"Bergen, New Jersey\",\"Hudson, New Jersey\",\"Wayne, Michigan\",\"Middlesex, Massachusetts\",\"Philadelphia, Pennsylvania\",\"New York, New York\",\"Westchester, New York\",\"Suffolk, New York\",\"Nassau, New York\",\"Bronx, New York\",\"Kings, New York\",\"Queens, New York\",\"Dallas, Texas\",\"Norfolk, Massachusetts\",\"Fairfax, Virginia\",\"King, Washington\",\"Ocean, New Jersey\",\"Oakland, Michigan\",\"Montgomery, Maryland\",\"Marion, Indiana\",\"Hartford, Connecticut\",\"Providence, Rhode Island\",\"Worcester, Massachusetts\",\"Harris, Texas\",\"Orange, New York\",\"New Haven, Connecticut\",\"Prince George's, Maryland\",\"Essex, Massachusetts\",\"Rockland, New York\",\"Richmond, New York\",\"Fairfield, Connecticut\",\"Middlesex, New Jersey\",\"Union, New Jersey\",\"Passaic, New Jersey\",\"Miami-Dade, Florida\",\"Essex, New Jersey\",\"Bergen, New Jersey\",\"Hudson, New Jersey\",\"Wayne, Michigan\",\"Middlesex, Massachusetts\",\"Philadelphia, Pennsylvania\",\"New York, New York\",\"Westchester, New York\",\"Suffolk, New York\",\"Nassau, New York\",\"Bronx, New York\",\"Kings, New York\",\"Queens, New York\",\"Dallas, Texas\",\"Norfolk, Massachusetts\",\"Fairfax, Virginia\",\"King, Washington\",\"Ocean, New Jersey\",\"Oakland, Michigan\",\"Montgomery, Maryland\",\"Marion, Indiana\",\"Hartford, Connecticut\",\"Providence, Rhode Island\",\"Worcester, Massachusetts\",\"Harris, Texas\",\"Orange, New York\",\"New Haven, Connecticut\",\"Prince George's, Maryland\",\"Essex, Massachusetts\",\"Rockland, New York\",\"Richmond, New York\",\"Fairfield, Connecticut\",\"Middlesex, New Jersey\",\"Union, New Jersey\",\"Passaic, New Jersey\",\"Miami-Dade, Florida\",\"Essex, New Jersey\",\"Bergen, New Jersey\",\"Hudson, New Jersey\",\"Wayne, Michigan\",\"Middlesex, Massachusetts\",\"Philadelphia, Pennsylvania\",\"New York, New York\",\"Westchester, New York\",\"Los Angeles, California\",\"Suffolk, New York\",\"Nassau, New York\",\"Bronx, New York\",\"Kings, New York\",\"Queens, New York\",\"Dallas, Texas\",\"Norfolk, Massachusetts\",\"Fairfax, Virginia\",\"King, Washington\",\"Ocean, New Jersey\",\"Oakland, Michigan\",\"Montgomery, Maryland\",\"Marion, Indiana\",\"Hartford, Connecticut\",\"Providence, Rhode Island\",\"Worcester, Massachusetts\",\"Harris, Texas\",\"Orange, New York\",\"New Haven, Connecticut\",\"Prince George's, Maryland\",\"Essex, Massachusetts\",\"Rockland, New York\",\"Richmond, New York\",\"Fairfield, Connecticut\",\"Middlesex, New Jersey\",\"Union, New Jersey\",\"Passaic, New Jersey\",\"Miami-Dade, Florida\",\"Essex, New Jersey\",\"Suffolk, Massachusetts\",\"Bergen, New Jersey\",\"Hudson, New Jersey\",\"Wayne, Michigan\",\"Middlesex, Massachusetts\",\"Philadelphia, Pennsylvania\",\"New York, New York\",\"Westchester, New York\",\"Los Angeles, California\",\"Suffolk, New York\",\"Nassau, New York\",\"Bronx, New York\",\"Kings, New York\",\"Queens, New York\",\"Dallas, Texas\",\"Norfolk, Massachusetts\",\"Fairfax, Virginia\",\"King, Washington\",\"Ocean, New Jersey\",\"Oakland, Michigan\",\"Montgomery, Maryland\",\"Marion, Indiana\",\"Hartford, Connecticut\",\"Providence, Rhode Island\",\"Worcester, Massachusetts\",\"Harris, Texas\",\"Orange, New York\",\"New Haven, Connecticut\",\"Prince George's, Maryland\",\"Essex, Massachusetts\",\"Rockland, New York\",\"Richmond, New York\",\"Fairfield, Connecticut\",\"Middlesex, New Jersey\",\"Union, New Jersey\",\"Passaic, New Jersey\",\"Miami-Dade, Florida\",\"Essex, New Jersey\",\"Suffolk, Massachusetts\",\"Bergen, New Jersey\",\"Hudson, New Jersey\",\"Wayne, Michigan\",\"Middlesex, Massachusetts\",\"Philadelphia, Pennsylvania\",\"New York, New York\",\"Westchester, New York\",\"Los Angeles, California\",\"Suffolk, New York\",\"Nassau, New York\",\"Bronx, New York\",\"Kings, New York\",\"Queens, New York\",\"Cook, Illinois\",\"Dallas, Texas\",\"Norfolk, Massachusetts\",\"Fairfax, Virginia\",\"King, Washington\",\"Ocean, New Jersey\",\"Oakland, Michigan\",\"Montgomery, Maryland\",\"Marion, Indiana\",\"Hartford, Connecticut\",\"Worcester, Massachusetts\",\"Harris, Texas\",\"Orange, New York\",\"New Haven, Connecticut\",\"Prince George's, Maryland\",\"Essex, Massachusetts\",\"Rockland, New York\",\"Richmond, New York\",\"Fairfield, Connecticut\",\"Middlesex, New Jersey\",\"Union, New Jersey\",\"Passaic, New Jersey\",\"Miami-Dade, Florida\",\"Essex, New Jersey\",\"Suffolk, Massachusetts\",\"Bergen, New Jersey\",\"Hudson, New Jersey\",\"Wayne, Michigan\",\"Middlesex, Massachusetts\",\"Philadelphia, Pennsylvania\",\"New York, New York\",\"Westchester, New York\",\"Los Angeles, California\",\"Suffolk, New York\",\"Nassau, New York\",\"Bronx, New York\",\"Kings, New York\",\"Queens, New York\",\"Cook, Illinois\",\"Dallas, Texas\",\"Norfolk, Massachusetts\",\"Fairfax, Virginia\",\"King, Washington\",\"Ocean, New Jersey\",\"Oakland, Michigan\",\"Montgomery, Maryland\",\"Marion, Indiana\",\"Hartford, Connecticut\",\"Worcester, Massachusetts\",\"Harris, Texas\",\"Orange, New York\",\"New Haven, Connecticut\",\"Prince George's, Maryland\",\"Essex, Massachusetts\",\"Rockland, New York\",\"Richmond, New York\",\"Fairfield, Connecticut\",\"Middlesex, New Jersey\",\"Union, New Jersey\",\"Passaic, New Jersey\",\"Miami-Dade, Florida\",\"Essex, New Jersey\",\"Suffolk, Massachusetts\",\"Bergen, New Jersey\",\"Hudson, New Jersey\",\"Wayne, Michigan\",\"Middlesex, Massachusetts\",\"Philadelphia, Pennsylvania\",\"New York, New York\",\"Westchester, New York\",\"Los Angeles, California\",\"Suffolk, New York\",\"Nassau, New York\",\"Bronx, New York\",\"Kings, New York\",\"Queens, New York\",\"Cook, Illinois\",\"Dallas, Texas\",\"Norfolk, Massachusetts\",\"Fairfax, Virginia\",\"King, Washington\",\"Ocean, New Jersey\",\"Oakland, Michigan\",\"Montgomery, Maryland\",\"Marion, Indiana\",\"Hartford, Connecticut\",\"Worcester, Massachusetts\",\"Harris, Texas\",\"Orange, New York\",\"New Haven, Connecticut\",\"Prince George's, Maryland\",\"Essex, Massachusetts\",\"Rockland, New York\",\"Richmond, New York\",\"Fairfield, Connecticut\",\"Middlesex, New Jersey\",\"Union, New Jersey\",\"Passaic, New Jersey\",\"Miami-Dade, Florida\",\"Essex, New Jersey\",\"Suffolk, Massachusetts\",\"Bergen, New Jersey\",\"Hudson, New Jersey\",\"Wayne, Michigan\",\"Middlesex, Massachusetts\",\"Philadelphia, Pennsylvania\",\"New York, New York\",\"Westchester, New York\",\"Los Angeles, California\",\"Suffolk, New York\",\"Nassau, New York\",\"Bronx, New York\",\"Kings, New York\",\"Queens, New York\",\"Cook, Illinois\",\"Dallas, Texas\",\"Norfolk, Massachusetts\",\"Fairfax, Virginia\",\"King, Washington\",\"Ocean, New Jersey\",\"Oakland, Michigan\",\"Montgomery, Maryland\",\"Marion, Indiana\",\"Hartford, Connecticut\",\"Worcester, Massachusetts\",\"Harris, Texas\",\"Orange, New York\",\"New Haven, Connecticut\",\"Prince George's, Maryland\",\"Essex, Massachusetts\",\"Rockland, New York\",\"Richmond, New York\",\"Fairfield, Connecticut\",\"Middlesex, New Jersey\",\"Union, New Jersey\",\"Passaic, New Jersey\",\"Miami-Dade, Florida\",\"Essex, New Jersey\",\"Suffolk, Massachusetts\",\"Bergen, New Jersey\",\"Hudson, New Jersey\",\"Wayne, Michigan\",\"Middlesex, Massachusetts\",\"Philadelphia, Pennsylvania\",\"New York, New York\",\"Westchester, New York\",\"Los Angeles, California\",\"Suffolk, New York\",\"Nassau, New York\",\"Bronx, New York\",\"Kings, New York\",\"Queens, New York\",\"Cook, Illinois\",\"Dallas, Texas\",\"Norfolk, Massachusetts\",\"Fairfax, Virginia\",\"King, Washington\",\"Ocean, New Jersey\",\"Oakland, Michigan\",\"Montgomery, Maryland\",\"Marion, Indiana\",\"Hartford, Connecticut\",\"Worcester, Massachusetts\",\"Harris, Texas\",\"Orange, New York\",\"New Haven, Connecticut\",\"Prince George's, Maryland\",\"Essex, Massachusetts\",\"Rockland, New York\",\"Richmond, New York\",\"Fairfield, Connecticut\",\"Middlesex, New Jersey\",\"Union, New Jersey\",\"Passaic, New Jersey\",\"Miami-Dade, Florida\",\"Essex, New Jersey\",\"Suffolk, Massachusetts\",\"Bergen, New Jersey\",\"Hudson, New Jersey\",\"Wayne, Michigan\",\"Middlesex, Massachusetts\",\"Philadelphia, Pennsylvania\",\"New York, New York\",\"Westchester, New York\",\"Los Angeles, California\",\"Suffolk, New York\",\"Nassau, New York\",\"Bronx, New York\",\"Kings, New York\",\"Queens, New York\",\"Cook, Illinois\",\"Dallas, Texas\",\"Norfolk, Massachusetts\",\"Fairfax, Virginia\",\"King, Washington\",\"Ocean, New Jersey\",\"Oakland, Michigan\",\"Montgomery, Maryland\",\"Marion, Indiana\",\"Hartford, Connecticut\",\"Worcester, Massachusetts\",\"Harris, Texas\",\"Orange, New York\",\"New Haven, Connecticut\",\"Prince George's, Maryland\",\"Essex, Massachusetts\",\"Rockland, New York\",\"Richmond, New York\",\"Fairfield, Connecticut\",\"Middlesex, New Jersey\",\"Union, New Jersey\",\"Passaic, New Jersey\",\"Miami-Dade, Florida\",\"Essex, New Jersey\",\"Suffolk, Massachusetts\",\"Bergen, New Jersey\",\"Hudson, New Jersey\",\"Wayne, Michigan\",\"Middlesex, Massachusetts\",\"Philadelphia, Pennsylvania\",\"New York, New York\",\"Westchester, New York\",\"Los Angeles, California\",\"Suffolk, New York\",\"Nassau, New York\",\"Bronx, New York\",\"Kings, New York\",\"Queens, New York\",\"Cook, Illinois\",\"Norfolk, Massachusetts\",\"Fairfax, Virginia\",\"King, Washington\",\"Ocean, New Jersey\",\"Oakland, Michigan\",\"Montgomery, Maryland\",\"Marion, Indiana\",\"Hartford, Connecticut\",\"Worcester, Massachusetts\",\"Harris, Texas\",\"Orange, New York\",\"New Haven, Connecticut\",\"Prince George's, Maryland\",\"Essex, Massachusetts\",\"Rockland, New York\",\"Richmond, New York\",\"Fairfield, Connecticut\",\"Middlesex, New Jersey\",\"Union, New Jersey\",\"Passaic, New Jersey\",\"Miami-Dade, Florida\",\"Essex, New Jersey\",\"Suffolk, Massachusetts\",\"Bergen, New Jersey\",\"Hudson, New Jersey\",\"Wayne, Michigan\",\"Middlesex, Massachusetts\",\"Philadelphia, Pennsylvania\",\"New York, New York\",\"Westchester, New York\",\"Los Angeles, California\",\"Suffolk, New York\",\"Nassau, New York\",\"Bronx, New York\",\"Kings, New York\",\"Queens, New York\",\"Cook, Illinois\",\"Norfolk, Massachusetts\",\"Fairfax, Virginia\",\"King, Washington\",\"Ocean, New Jersey\",\"Oakland, Michigan\",\"Montgomery, Maryland\",\"Marion, Indiana\",\"Hartford, Connecticut\",\"Worcester, Massachusetts\",\"Harris, Texas\",\"Orange, New York\",\"New Haven, Connecticut\",\"Prince George's, Maryland\",\"Essex, Massachusetts\",\"Rockland, New York\",\"Richmond, New York\",\"Fairfield, Connecticut\",\"Middlesex, New Jersey\",\"Union, New Jersey\",\"Passaic, New Jersey\",\"Miami-Dade, Florida\",\"Essex, New Jersey\",\"Suffolk, Massachusetts\",\"Bergen, New Jersey\",\"Hudson, New Jersey\",\"Wayne, Michigan\",\"Middlesex, Massachusetts\",\"Philadelphia, Pennsylvania\",\"New York, New York\",\"Westchester, New York\",\"Los Angeles, California\",\"Suffolk, New York\",\"Nassau, New York\",\"Bronx, New York\",\"Kings, New York\",\"Queens, New York\",\"Cook, Illinois\",\"Norfolk, Massachusetts\",\"Fairfax, Virginia\",\"King, Washington\",\"Ocean, New Jersey\",\"Oakland, Michigan\",\"Montgomery, Maryland\",\"Marion, Indiana\",\"Hartford, Connecticut\",\"Worcester, Massachusetts\",\"Harris, Texas\",\"Orange, New York\",\"New Haven, Connecticut\",\"Prince George's, Maryland\",\"Essex, Massachusetts\",\"Rockland, New York\",\"Richmond, New York\",\"Fairfield, Connecticut\",\"Middlesex, New Jersey\",\"Union, New Jersey\",\"Passaic, New Jersey\",\"Miami-Dade, Florida\",\"Essex, New Jersey\",\"Suffolk, Massachusetts\",\"Bergen, New Jersey\",\"Hudson, New Jersey\",\"Wayne, Michigan\",\"Middlesex, Massachusetts\",\"Philadelphia, Pennsylvania\",\"New York, New York\",\"Westchester, New York\",\"Los Angeles, California\",\"Suffolk, New York\",\"Nassau, New York\",\"Bronx, New York\",\"Kings, New York\",\"Queens, New York\",\"Cook, Illinois\",\"Norfolk, Massachusetts\",\"Fairfax, Virginia\",\"King, Washington\",\"Ocean, New Jersey\",\"Oakland, Michigan\",\"Montgomery, Maryland\",\"Marion, Indiana\",\"Hartford, Connecticut\",\"Worcester, Massachusetts\",\"Harris, Texas\",\"Orange, New York\",\"New Haven, Connecticut\",\"Prince George's, Maryland\",\"Essex, Massachusetts\",\"Richmond, New York\",\"Fairfield, Connecticut\",\"Middlesex, New Jersey\",\"Union, New Jersey\",\"Passaic, New Jersey\",\"Miami-Dade, Florida\",\"Essex, New Jersey\",\"Suffolk, Massachusetts\",\"Bergen, New Jersey\",\"Hudson, New Jersey\",\"Wayne, Michigan\",\"Middlesex, Massachusetts\",\"Philadelphia, Pennsylvania\",\"New York, New York\",\"Westchester, New York\",\"Los Angeles, California\",\"Suffolk, New York\",\"Nassau, New York\",\"Bronx, New York\",\"Kings, New York\",\"Queens, New York\",\"Cook, Illinois\",\"Norfolk, Massachusetts\",\"Fairfax, Virginia\",\"King, Washington\",\"Ocean, New Jersey\",\"Oakland, Michigan\",\"Montgomery, Maryland\",\"Marion, Indiana\",\"Hartford, Connecticut\",\"Worcester, Massachusetts\",\"Harris, Texas\",\"Orange, New York\",\"New Haven, Connecticut\",\"Prince George's, Maryland\",\"Essex, Massachusetts\",\"Richmond, New York\",\"Fairfield, Connecticut\",\"Middlesex, New Jersey\",\"Union, New Jersey\",\"Passaic, New Jersey\",\"Miami-Dade, Florida\",\"Essex, New Jersey\",\"Suffolk, Massachusetts\",\"Bergen, New Jersey\",\"Hudson, New Jersey\",\"Wayne, Michigan\",\"Middlesex, Massachusetts\",\"Philadelphia, Pennsylvania\",\"New York, New York\",\"Westchester, New York\",\"Los Angeles, California\",\"Suffolk, New York\",\"Nassau, New York\",\"Bronx, New York\",\"Kings, New York\",\"Queens, New York\",\"Cook, Illinois\",\"Norfolk, Massachusetts\",\"Fairfax, Virginia\",\"King, Washington\",\"Ocean, New Jersey\",\"Oakland, Michigan\",\"Montgomery, Maryland\",\"Marion, Indiana\",\"Worcester, Massachusetts\",\"Harris, Texas\",\"Prince George's, Maryland\",\"Essex, Massachusetts\",\"Rockland, New York\",\"Richmond, New York\",\"Fairfield, Connecticut\",\"Middlesex, New Jersey\",\"Union, New Jersey\",\"Passaic, New Jersey\",\"Miami-Dade, Florida\",\"Essex, New Jersey\",\"Suffolk, Massachusetts\",\"Bergen, New Jersey\",\"Hudson, New Jersey\",\"Wayne, Michigan\",\"Middlesex, Massachusetts\",\"Philadelphia, Pennsylvania\",\"New York, New York\",\"Westchester, New York\",\"Los Angeles, California\",\"Suffolk, New York\",\"Nassau, New York\",\"Bronx, New York\",\"Kings, New York\",\"Queens, New York\",\"Cook, Illinois\",\"Dallas, Texas\",\"Norfolk, Massachusetts\",\"Fairfax, Virginia\",\"King, Washington\",\"Oakland, Michigan\",\"Montgomery, Maryland\",\"Marion, Indiana\",\"Worcester, Massachusetts\",\"Harris, Texas\",\"Prince George's, Maryland\",\"Essex, Massachusetts\",\"Rockland, New York\",\"Richmond, New York\",\"Fairfield, Connecticut\",\"Middlesex, New Jersey\",\"Union, New Jersey\",\"Passaic, New Jersey\",\"Miami-Dade, Florida\",\"Essex, New Jersey\",\"Suffolk, Massachusetts\",\"Bergen, New Jersey\",\"Hudson, New Jersey\",\"Wayne, Michigan\",\"Middlesex, Massachusetts\",\"Philadelphia, Pennsylvania\",\"New York, New York\",\"Westchester, New York\",\"Los Angeles, California\",\"Suffolk, New York\",\"Nassau, New York\",\"Bronx, New York\",\"Kings, New York\",\"Queens, New York\",\"Cook, Illinois\",\"Dallas, Texas\",\"Norfolk, Massachusetts\",\"Fairfax, Virginia\",\"King, Washington\",\"Oakland, Michigan\",\"Montgomery, Maryland\",\"Marion, Indiana\",\"Worcester, Massachusetts\",\"Harris, Texas\",\"Prince George's, Maryland\",\"Essex, Massachusetts\",\"Rockland, New York\",\"Richmond, New York\",\"Fairfield, Connecticut\",\"Middlesex, New Jersey\",\"Union, New Jersey\",\"Passaic, New Jersey\",\"Miami-Dade, Florida\",\"Suffolk, Massachusetts\",\"Bergen, New Jersey\",\"Hudson, New Jersey\",\"Wayne, Michigan\",\"Middlesex, Massachusetts\",\"Philadelphia, Pennsylvania\",\"New York, New York\",\"Westchester, New York\",\"Los Angeles, California\",\"Suffolk, New York\",\"Nassau, New York\",\"Bronx, New York\",\"Kings, New York\",\"Queens, New York\",\"Cook, Illinois\",\"Dallas, Texas\",\"Norfolk, Massachusetts\",\"Fairfax, Virginia\",\"King, Washington\",\"Oakland, Michigan\",\"Montgomery, Maryland\",\"Marion, Indiana\",\"Worcester, Massachusetts\",\"Harris, Texas\",\"Prince George's, Maryland\",\"Essex, Massachusetts\",\"Rockland, New York\",\"Fairfield, Connecticut\",\"Union, New Jersey\",\"Passaic, New Jersey\",\"Suffolk, Massachusetts\",\"Bergen, New Jersey\",\"Hudson, New Jersey\",\"Wayne, Michigan\",\"Middlesex, Massachusetts\",\"Philadelphia, Pennsylvania\",\"New York, New York\",\"Westchester, New York\",\"Los Angeles, California\",\"Suffolk, New York\",\"Nassau, New York\",\"Bronx, New York\",\"Kings, New York\",\"Queens, New York\",\"Cook, Illinois\",\"Norfolk, Massachusetts\",\"Fairfax, Virginia\",\"King, Washington\",\"Montgomery, Maryland\",\"Marion, Indiana\",\"Worcester, Massachusetts\",\"Harris, Texas\",\"Prince George's, Maryland\",\"Rockland, New York\",\"Fairfield, Connecticut\",\"Union, New Jersey\",\"Passaic, New Jersey\",\"Suffolk, Massachusetts\",\"Bergen, New Jersey\",\"Hudson, New Jersey\",\"Middlesex, Massachusetts\",\"New York, New York\",\"Westchester, New York\",\"Los Angeles, California\",\"Suffolk, New York\",\"Nassau, New York\",\"Bronx, New York\",\"Kings, New York\",\"Queens, New York\",\"Cook, Illinois\",\"Norfolk, Massachusetts\",\"Fairfax, Virginia\",\"King, Washington\",\"Montgomery, Maryland\",\"Marion, Indiana\",\"Worcester, Massachusetts\",\"Harris, Texas\",\"Rockland, New York\",\"Fairfield, Connecticut\",\"Passaic, New Jersey\",\"Suffolk, Massachusetts\",\"Bergen, New Jersey\",\"Middlesex, Massachusetts\",\"New York, New York\",\"Westchester, New York\",\"Los Angeles, California\",\"Nassau, New York\",\"Kings, New York\",\"Queens, New York\",\"Cook, Illinois\",\"Norfolk, Massachusetts\",\"Fairfax, Virginia\",\"King, Washington\",\"Montgomery, Maryland\",\"Marion, Indiana\",\"Harris, Texas\",\"Rockland, New York\",\"Suffolk, Massachusetts\",\"Bergen, New Jersey\",\"Middlesex, Massachusetts\",\"New York, New York\",\"Westchester, New York\",\"Los Angeles, California\",\"Nassau, New York\",\"Kings, New York\",\"Queens, New York\",\"Cook, Illinois\",\"Norfolk, Massachusetts\",\"King, Washington\",\"Montgomery, Maryland\",\"Marion, Indiana\",\"Harris, Texas\",\"Suffolk, Massachusetts\",\"Bergen, New Jersey\",\"Middlesex, Massachusetts\",\"New York, New York\",\"Westchester, New York\",\"Los Angeles, California\",\"Nassau, New York\",\"Kings, New York\",\"Queens, New York\",\"Cook, Illinois\",\"Norfolk, Massachusetts\",\"King, Washington\",\"Montgomery, Maryland\",\"Harris, Texas\",\"Suffolk, Massachusetts\",\"Bergen, New Jersey\",\"Middlesex, Massachusetts\",\"New York, New York\",\"Westchester, New York\",\"Los Angeles, California\",\"Kings, New York\",\"Cook, Illinois\",\"Norfolk, Massachusetts\",\"King, Washington\",\"Suffolk, Massachusetts\",\"Bergen, New Jersey\",\"Westchester, New York\",\"Los Angeles, California\",\"Cook, Illinois\",\"Norfolk, Massachusetts\",\"King, Washington\",\"Suffolk, Massachusetts\",\"Westchester, New York\",\"Los Angeles, California\",\"Cook, Illinois\",\"Norfolk, Massachusetts\",\"King, Washington\",\"Suffolk, Massachusetts\",\"Los Angeles, California\",\"Cook, Illinois\",\"King, Washington\",\"Suffolk, Massachusetts\",\"Los Angeles, California\",\"Cook, Illinois\",\"King, Washington\",\"Suffolk, Massachusetts\",\"Los Angeles, California\",\"Cook, Illinois\",\"King, Washington\",\"Suffolk, Massachusetts\",\"Los Angeles, California\",\"Cook, Illinois\",\"Suffolk, Massachusetts\",\"Los Angeles, California\",\"Cook, Illinois\",\"Suffolk, Massachusetts\",\"Los Angeles, California\",\"Cook, Illinois\",\"Suffolk, Massachusetts\",\"Los Angeles, California\",\"Cook, Illinois\",\"Suffolk, Massachusetts\",\"Los Angeles, California\",\"Cook, Illinois\",\"Suffolk, Massachusetts\",\"Los Angeles, California\",\"Cook, Illinois\",\"Suffolk, Massachusetts\",\"Los Angeles, California\",\"Cook, Illinois\",\"Suffolk, Massachusetts\",\"Los Angeles, California\",\"Cook, Illinois\",\"Suffolk, Massachusetts\",\"Los Angeles, California\",\"Cook, Illinois\",\"Suffolk, Massachusetts\",\"Los Angeles, California\",\"Cook, Illinois\",\"Suffolk, Massachusetts\",\"Los Angeles, California\",\"Cook, Illinois\",\"Suffolk, Massachusetts\",\"Los Angeles, California\",\"Cook, Illinois\",\"Suffolk, Massachusetts\",\"Los Angeles, California\",\"Cook, Illinois\",\"Suffolk, Massachusetts\",\"Los Angeles, California\",\"Cook, Illinois\",\"Suffolk, Massachusetts\",\"Los Angeles, California\",\"Cook, Illinois\",\"Suffolk, Massachusetts\",\"Los Angeles, California\",\"Cook, Illinois\",\"Suffolk, Massachusetts\",\"Los Angeles, California\",\"Cook, Illinois\",\"Suffolk, Massachusetts\",\"Los Angeles, California\",\"Cook, Illinois\",\"Suffolk, Massachusetts\",\"Los Angeles, California\",\"Cook, Illinois\",\"Suffolk, Massachusetts\",\"Los Angeles, California\",\"Cook, Illinois\",\"Suffolk, Massachusetts\",\"Los Angeles, California\",\"Cook, Illinois\",\"Suffolk, Massachusetts\",\"Los Angeles, California\",\"Cook, Illinois\",\"Suffolk, Massachusetts\",\"Los Angeles, California\",\"Cook, Illinois\",\"Suffolk, Massachusetts\",\"Los Angeles, California\",\"Cook, Illinois\",\"Suffolk, Massachusetts\",\"Los Angeles, California\",\"Cook, Illinois\",\"Suffolk, Massachusetts\",\"Los Angeles, California\",\"Cook, Illinois\",\"Suffolk, Massachusetts\",\"Los Angeles, California\",\"Cook, Illinois\",\"Suffolk, Massachusetts\",\"Los Angeles, California\",\"Cook, Illinois\",\"Los Angeles, California\",\"Cook, Illinois\",\"Los Angeles, California\",\"Cook, Illinois\",\"Los Angeles, California\",\"Cook, Illinois\",\"Los Angeles, California\",\"Cook, Illinois\",\"Los Angeles, California\",\"Cook, Illinois\",\"Los Angeles, California\",\"Cook, Illinois\",\"Cook, Illinois\",\"Cook, Illinois\"],\"y\":{\"__ndarray__\":\"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\",\"dtype\":\"float64\",\"shape\":[2238]}},\"selected\":{\"id\":\"337980\"},\"selection_policy\":{\"id\":\"337979\"}},\"id\":\"334790\",\"type\":\"ColumnDataSource\"},{\"attributes\":{\"axis\":{\"id\":\"334782\"},\"dimension\":1,\"ticker\":null},\"id\":\"334784\",\"type\":\"Grid\"},{\"attributes\":{\"factors\":[\"Providence, Rhode Island\",\"Orange, New York\",\"Richmond, New York\",\"Miami-Dade, Florida\",\"Westchester, New York\",\"Bronx, New York\",\"Queens, New York\",\"Ocean, New Jersey\",\"Oakland, Michigan\",\"Wayne, Michigan\",\"New York, New York\",\"New Haven, Connecticut\",\"Middlesex, New Jersey\",\"Essex, New Jersey\",\"Suffolk, New York\",\"King, Washington\",\"Fairfield, Connecticut\",\"Dallas, Texas\",\"Union, New Jersey\",\"Nassau, New York\",\"Kings, New York\",\"Hartford, Connecticut\",\"Rockland, New York\",\"Bergen, New Jersey\",\"Philadelphia, Pennsylvania\",\"Essex, Massachusetts\",\"Hudson, New Jersey\",\"Passaic, New Jersey\",\"Marion, Indiana\",\"Worcester, Massachusetts\",\"Prince George's, Maryland\",\"Fairfax, Virginia\",\"Harris, Texas\",\"Middlesex, Massachusetts\",\"Norfolk, Massachusetts\",\"Montgomery, Maryland\",\"Los Angeles, California\",\"Suffolk, Massachusetts\",\"Cook, Illinois\"]},\"id\":\"334772\",\"type\":\"FactorRange\"},{\"attributes\":{\"callback\":null},\"id\":\"334786\",\"type\":\"HoverTool\"},{\"attributes\":{},\"id\":\"337979\",\"type\":\"UnionRenderers\"},{\"attributes\":{\"fill_alpha\":{\"value\":0.4},\"fill_color\":{\"value\":\"#1f77b4\"},\"line_alpha\":{\"value\":0.4},\"line_color\":{\"value\":\"#1f77b4\"},\"size\":{\"units\":\"screen\",\"value\":5},\"x\":{\"field\":\"y\"},\"y\":{\"field\":\"region\"}},\"id\":\"334792\",\"type\":\"Circle\"}],\"root_ids\":[\"334767\"]},\"title\":\"Bokeh Application\",\"version\":\"2.0.0\"}};\n",
       "  var render_items = [{\"docid\":\"762c10a0-833b-463c-89ab-3dd91d1f622a\",\"root_ids\":[\"334767\"],\"roots\":{\"334767\":\"5c5fc7bc-8a44-48f5-82d2-81d352a4fd93\"}}];\n",
       "  root.Bokeh.embed.embed_items_notebook(docs_json, render_items);\n",
       "\n",
       "  }\n",
       "  if (root.Bokeh !== undefined) {\n",
       "    embed_document(root);\n",
       "  } else {\n",
       "    var attempts = 0;\n",
       "    var timer = setInterval(function(root) {\n",
       "      if (root.Bokeh !== undefined) {\n",
       "        clearInterval(timer);\n",
       "        embed_document(root);\n",
       "      } else {\n",
       "        attempts++;\n",
       "        if (attempts > 100) {\n",
       "          clearInterval(timer);\n",
       "          console.log(\"Bokeh: ERROR: Unable to run BokehJS code because BokehJS library is missing\");\n",
       "        }\n",
       "      }\n",
       "    }, 10, root)\n",
       "  }\n",
       "})(window);"
      ],
      "application/vnd.bokehjs_exec.v0+json": ""
     },
     "metadata": {
      "application/vnd.bokehjs_exec.v0+json": {
       "id": "334767"
      }
     },
     "output_type": "display_data"
    }
   ],
   "source": [
    "#fig = px.line(top_20_counties_df, \n",
    "#             x=\"Days (since first case)\",\n",
    "#             y=\"7-day Rolling(Mean) - Rolling(Var)\",\n",
    "#             color=\"county\")\n",
    "#\n",
    "#fig.update_layout(title_text=\"Dispersion: Top 20 Counties (by cumulative cases)\")\n",
    "#\n",
    "#fig.show()\n",
    "counties_df = top_20_counties_df.loc[top_20_counties_df.iloc[:, 2] < -100]\n",
    "counties_df['y'] = np.abs(counties_df.iloc[:, 2].values)\n",
    "p = plot_overdispersion(counties_df, 'Overdispersion - US Counties', width=400)\n",
    "show(p)"
   ]
  },
  {
   "cell_type": "markdown",
   "metadata": {},
   "source": [
    "# Median 20 Counties (by cumulative cases)"
   ]
  },
  {
   "cell_type": "code",
   "execution_count": 13,
   "metadata": {},
   "outputs": [],
   "source": [
    "median = len(cases_df.columns) // 2\n",
    "median_20_counties = list(cases_df.iloc[-1, :].sort_values().index[median - 10: median + 10])\n",
    "median_20_rolling_df = compute_rolling_mean_minus_var(cases_df[median_20_counties])\n",
    "median_20_counties_df = stack_counties(median_20_rolling_df)"
   ]
  },
  {
   "cell_type": "code",
   "execution_count": 14,
   "metadata": {},
   "outputs": [
    {
     "data": {
      "application/vnd.plotly.v1+json": {
       "config": {
        "plotlyServerURL": "https://plot.ly"
       },
       "data": [
        {
         "hoverlabel": {
          "namelength": 0
         },
         "hovertemplate": "county=East Carroll, Louisiana<br>Days (since first case)=%{x}<br>7-day Rolling(Mean) - Rolling(Var)=%{y}",
         "legendgroup": "county=East Carroll, Louisiana",
         "line": {
          "color": "#636efa",
          "dash": "solid"
         },
         "mode": "lines",
         "name": "county=East Carroll, Louisiana",
         "showlegend": true,
         "type": "scatter",
         "x": [
          0,
          1,
          2,
          3,
          4,
          5,
          6,
          7,
          8,
          9,
          10,
          11,
          12,
          13,
          14,
          15,
          16,
          17,
          18,
          19,
          20,
          21,
          22,
          23,
          24,
          25,
          26,
          27,
          28,
          29,
          30,
          31,
          32,
          33,
          34,
          35,
          36,
          37,
          38,
          39,
          40,
          41,
          42
         ],
         "xaxis": "x",
         "y": [
          0,
          0,
          0,
          0,
          0,
          0,
          0,
          0,
          0,
          0,
          0,
          0,
          0,
          0,
          0,
          0,
          0,
          -1.7142857142857142,
          -1.7142857142857142,
          -1.5238095238095233,
          -1.5238095238095233,
          -1.5238095238095233,
          -1.5238095238095233,
          -1.333333333333333,
          -0.19047619047619008,
          -0.04761904761904723,
          -0.19047619047619008,
          -0.19047619047619008,
          -0.19047619047619008,
          -0.19047619047619008,
          4.163336342344337e-16,
          -0.19047619047619008,
          -0.8571428571428569,
          -0.619047619047619,
          -0.33333333333333326,
          -0.33333333333333326,
          -2.333333333333333,
          -1.666666666666667,
          -2,
          -2.7142857142857144,
          -2.7142857142857144,
          -5,
          -3.857142857142857
         ],
         "yaxis": "y"
        },
        {
         "hoverlabel": {
          "namelength": 0
         },
         "hovertemplate": "county=Lewis, Washington<br>Days (since first case)=%{x}<br>7-day Rolling(Mean) - Rolling(Var)=%{y}",
         "legendgroup": "county=Lewis, Washington",
         "line": {
          "color": "#EF553B",
          "dash": "solid"
         },
         "mode": "lines",
         "name": "county=Lewis, Washington",
         "showlegend": true,
         "type": "scatter",
         "x": [
          0,
          1,
          2,
          3,
          4,
          5,
          6,
          7,
          8,
          9,
          10,
          11,
          12,
          13,
          14,
          15,
          16,
          17,
          18,
          19,
          20,
          21,
          22,
          23,
          24,
          25,
          26,
          27,
          28,
          29,
          30,
          31,
          32,
          33,
          34,
          35,
          36,
          37,
          38,
          39,
          40,
          41,
          42,
          43,
          44,
          45,
          46,
          47,
          48,
          49,
          50,
          51,
          52,
          53,
          54,
          55
         ],
         "xaxis": "x",
         "y": [
          -2.7755575615628914e-17,
          -2.7755575615628914e-17,
          -0.7142857142857142,
          -0.7142857142857142,
          -0.8571428571428569,
          -0.8571428571428569,
          -1,
          -1,
          -1,
          -0.8571428571428571,
          -0.6666666666666667,
          -0.8571428571428571,
          -0.8571428571428571,
          -1.619047619047619,
          -1.619047619047619,
          -1.619047619047619,
          -1.3333333333333335,
          -1.2857142857142856,
          -1.2857142857142856,
          -1.2857142857142856,
          0.047619047619047866,
          0.047619047619047866,
          0.14285714285714302,
          0.047619047619047866,
          3.0531133177191805e-16,
          -0.1904761904761903,
          -0.1904761904761903,
          -0.1904761904761903,
          -0.1904761904761903,
          -0.2857142857142855,
          -0.1904761904761903,
          -0.6190476190476192,
          -0.7142857142857144,
          -1.666666666666667,
          -1.666666666666667,
          -1.666666666666667,
          -1.666666666666667,
          -2,
          -1.7142857142857146,
          -1.7142857142857146,
          -2.9605947323337506e-16,
          -2.9605947323337506e-16,
          -2.9605947323337506e-16,
          -2.9605947323337506e-16,
          -2.9605947323337506e-16,
          -3.0531133177191805e-16,
          -3.0531133177191805e-16,
          -3.0531133177191805e-16,
          -3.0531133177191805e-16,
          -3.0531133177191805e-16,
          -0.19047619047619085,
          -0.19047619047619085,
          -0.28571428571428603,
          -0.28571428571428603,
          -0.38095238095238126,
          -0.38095238095238126
         ],
         "yaxis": "y"
        },
        {
         "hoverlabel": {
          "namelength": 0
         },
         "hovertemplate": "county=Marshall, Kentucky<br>Days (since first case)=%{x}<br>7-day Rolling(Mean) - Rolling(Var)=%{y}",
         "legendgroup": "county=Marshall, Kentucky",
         "line": {
          "color": "#00cc96",
          "dash": "solid"
         },
         "mode": "lines",
         "name": "county=Marshall, Kentucky",
         "showlegend": true,
         "type": "scatter",
         "x": [
          0,
          1,
          2,
          3,
          4,
          5,
          6,
          7,
          8,
          9,
          10,
          11,
          12,
          13,
          14,
          15,
          16,
          17,
          18,
          19,
          20,
          21,
          22,
          23,
          24,
          25,
          26,
          27,
          28,
          29,
          30,
          31,
          32,
          33,
          34,
          35,
          36,
          37,
          38,
          39,
          40
         ],
         "xaxis": "x",
         "y": [
          -2.8571428571428568,
          -2.6666666666666665,
          -2.6666666666666665,
          -2.2857142857142856,
          -1.8571428571428565,
          -1.8571428571428565,
          -1.8571428571428565,
          0.04761904761904834,
          -0.047619047619046784,
          -0.047619047619046784,
          0.04761904761904853,
          9.71445146547012e-16,
          9.71445146547012e-16,
          -0.19047619047618963,
          -0.38095238095238027,
          -1.3333333333333326,
          -1.0476190476190468,
          -1.0476190476190468,
          -0.6666666666666661,
          0.4761904761904767,
          0.4761904761904767,
          -0.047619047619047006,
          -0.9999999999999996,
          -1.7142857142857137,
          -1.7142857142857137,
          -1.3333333333333326,
          -0.19047619047618974,
          7.216449660063518e-16,
          0,
          0,
          0,
          0,
          0,
          0,
          0,
          0,
          0,
          0,
          7.216449660063518e-16,
          7.216449660063518e-16,
          7.216449660063518e-16
         ],
         "yaxis": "y"
        },
        {
         "hoverlabel": {
          "namelength": 0
         },
         "hovertemplate": "county=Carteret, North Carolina<br>Days (since first case)=%{x}<br>7-day Rolling(Mean) - Rolling(Var)=%{y}",
         "legendgroup": "county=Carteret, North Carolina",
         "line": {
          "color": "#ab63fa",
          "dash": "solid"
         },
         "mode": "lines",
         "name": "county=Carteret, North Carolina",
         "showlegend": true,
         "type": "scatter",
         "x": [
          0,
          1,
          2,
          3,
          4,
          5,
          6,
          7,
          8,
          9,
          10,
          11,
          12,
          13,
          14,
          15,
          16,
          17,
          18,
          19,
          20,
          21,
          22,
          23,
          24,
          25,
          26,
          27,
          28,
          29,
          30,
          31,
          32,
          33,
          34,
          35,
          36,
          37,
          38,
          39,
          40,
          41,
          42,
          43,
          44,
          45,
          46,
          47,
          48,
          49,
          50
         ],
         "xaxis": "x",
         "y": [
          0.14285714285714302,
          0.04761904761904778,
          0.04761904761904778,
          0.3333333333333335,
          3.3306690738754696e-16,
          0.3333333333333335,
          0.7142857142857146,
          0.7142857142857146,
          0.3333333333333336,
          0.3333333333333336,
          0.14285714285714324,
          0.38095238095238126,
          0.38095238095238126,
          0.38095238095238126,
          0.38095238095238126,
          0.38095238095238126,
          0.4761904761904766,
          0.4761904761904766,
          0.2857142857142861,
          0.14285714285714324,
          0.047619047619048005,
          3.885780586188048e-16,
          3.885780586188048e-16,
          0,
          0,
          0,
          0,
          0,
          -1.7142857142857137,
          -1.7142857142857137,
          -1.6190476190476186,
          -1.6190476190476186,
          -1.6190476190476186,
          -1.6190476190476186,
          -1.3333333333333326,
          -0.19047619047618974,
          -0.19047619047618974,
          7.216449660063518e-16,
          7.216449660063518e-16,
          7.216449660063518e-16,
          7.216449660063518e-16,
          0,
          0,
          -0.28571428571428503,
          -0.28571428571428503,
          -0.19047619047618974,
          -0.1904761904761898,
          -0.1904761904761898,
          0.04761904761904823,
          0.04761904761904823,
          -0.047619047619047006
         ],
         "yaxis": "y"
        },
        {
         "hoverlabel": {
          "namelength": 0
         },
         "hovertemplate": "county=Bullock, Alabama<br>Days (since first case)=%{x}<br>7-day Rolling(Mean) - Rolling(Var)=%{y}",
         "legendgroup": "county=Bullock, Alabama",
         "line": {
          "color": "#FFA15A",
          "dash": "solid"
         },
         "mode": "lines",
         "name": "county=Bullock, Alabama",
         "showlegend": true,
         "type": "scatter",
         "x": [
          0,
          1,
          2,
          3,
          4,
          5,
          6,
          7,
          8,
          9,
          10,
          11,
          12,
          13,
          14,
          15,
          16,
          17,
          18,
          19,
          20,
          21,
          22,
          23,
          24,
          25,
          26,
          27,
          28,
          29,
          30,
          31,
          32,
          33,
          34,
          35,
          36,
          37,
          38,
          39,
          40,
          41,
          42,
          43,
          44
         ],
         "xaxis": "x",
         "y": [
          -2.7755575615628914e-17,
          -1.850371707708594e-17,
          -1.850371707708594e-17,
          -1.850371707708594e-17,
          -1.850371707708594e-17,
          -1.850371707708594e-17,
          -2.7755575615628914e-17,
          -2.7755575615628914e-17,
          -2.7755575615628914e-17,
          -2.7755575615628914e-17,
          -0.19047619047619052,
          -0.19047619047619047,
          -0.19047619047619047,
          -0.38095238095238104,
          -0.38095238095238104,
          -0.19047619047619047,
          -0.19047619047619047,
          -0.19047619047619047,
          -0.1904761904761904,
          -0.1904761904761904,
          -0.04761904761904756,
          -0.04761904761904756,
          -0.1904761904761904,
          -0.1904761904761904,
          5.551115123125783e-17,
          5.551115123125783e-17,
          5.551115123125783e-17,
          5.551115123125783e-17,
          0.04761904761904767,
          0.04761904761904767,
          0.04761904761904767,
          -0.04761904761904756,
          0.04761904761904778,
          0.04761904761904778,
          -0.19047619047619024,
          -0.6666666666666663,
          -0.33333333333333326,
          0.047619047619047894,
          -0.19047619047619002,
          -0.6666666666666663,
          -0.19047619047619002,
          -0.19047619047619002,
          -0.7142857142857137,
          -0.6190476190476186,
          -1.1904761904761905
         ],
         "yaxis": "y"
        },
        {
         "hoverlabel": {
          "namelength": 0
         },
         "hovertemplate": "county=Dodge, Minnesota<br>Days (since first case)=%{x}<br>7-day Rolling(Mean) - Rolling(Var)=%{y}",
         "legendgroup": "county=Dodge, Minnesota",
         "line": {
          "color": "#19d3f3",
          "dash": "solid"
         },
         "mode": "lines",
         "name": "county=Dodge, Minnesota",
         "showlegend": true,
         "type": "scatter",
         "x": [
          0,
          1,
          2,
          3,
          4,
          5,
          6,
          7,
          8,
          9,
          10,
          11,
          12,
          13,
          14,
          15,
          16,
          17,
          18,
          19,
          20,
          21,
          22,
          23,
          24,
          25,
          26,
          27,
          28,
          29,
          30,
          31,
          32,
          33,
          34,
          35,
          36,
          37,
          38,
          39,
          40,
          41,
          42,
          43,
          44,
          45,
          46,
          47,
          48,
          49
         ],
         "xaxis": "x",
         "y": [
          0.1428571428571429,
          0.380952380952381,
          0.14285714285714302,
          0.3333333333333335,
          0.14285714285714302,
          0.14285714285714302,
          -0.04761904761904756,
          -0.1904761904761904,
          -0.2857142857142856,
          -0.1904761904761904,
          -0.1904761904761904,
          -0.1904761904761904,
          -0.04761904761904756,
          0.14285714285714302,
          0.380952380952381,
          0.380952380952381,
          0.14285714285714302,
          0.14285714285714302,
          0.14285714285714302,
          0.14285714285714302,
          0.04761904761904781,
          0.04761904761904781,
          0.04761904761904781,
          0.04761904761904781,
          0.04761904761904781,
          0.04761904761904781,
          2.220446049250313e-16,
          0.04761904761904781,
          2.220446049250313e-16,
          2.220446049250313e-16,
          2.220446049250313e-16,
          2.220446049250313e-16,
          -0.1904761904761903,
          -0.04761904761904745,
          -0.1904761904761903,
          -0.1904761904761903,
          -0.1904761904761903,
          -0.1904761904761903,
          -0.1904761904761903,
          1.942890293094024e-16,
          -0.2857142857142856,
          -0.2857142857142856,
          -0.3809523809523808,
          -0.3809523809523808,
          -0.3809523809523808,
          -0.3809523809523808,
          -0.2857142857142855,
          -0.2857142857142855,
          -0.8571428571428565,
          -0.9523809523809519
         ],
         "yaxis": "y"
        },
        {
         "hoverlabel": {
          "namelength": 0
         },
         "hovertemplate": "county=Custer, Nebraska<br>Days (since first case)=%{x}<br>7-day Rolling(Mean) - Rolling(Var)=%{y}",
         "legendgroup": "county=Custer, Nebraska",
         "line": {
          "color": "#FF6692",
          "dash": "solid"
         },
         "mode": "lines",
         "name": "county=Custer, Nebraska",
         "showlegend": true,
         "type": "scatter",
         "x": [
          0,
          1,
          2,
          3,
          4,
          5,
          6,
          7,
          8,
          9,
          10,
          11,
          12,
          13,
          14,
          15,
          16,
          17,
          18,
          19,
          20,
          21,
          22,
          23,
          24,
          25,
          26,
          27,
          28,
          29,
          30,
          31,
          32,
          33
         ],
         "xaxis": "x",
         "y": [
          -13.523809523809522,
          -14.285714285714285,
          -14.285714285714285,
          -14.285714285714285,
          -4.285714285714285,
          1.6930901125533637e-15,
          1.6930901125533637e-15,
          1.6930901125533637e-15,
          1.6930901125533637e-15,
          1.6930901125533637e-15,
          0.047619047619049365,
          0.047619047619049365,
          0.047619047619049365,
          0.047619047619049365,
          0.047619047619049365,
          0.047619047619049365,
          0.14285714285714468,
          0.14285714285714468,
          -1.9999999999999982,
          -2.190476190476188,
          -2.190476190476188,
          -2.190476190476188,
          -2.190476190476188,
          -2.190476190476188,
          -2.619047619047617,
          -0.7142857142857126,
          1.2490009027033011e-15,
          1.2490009027033011e-15,
          1.2490009027033011e-15,
          1.2490009027033011e-15,
          -0.28571428571428437,
          -0.28571428571428437,
          -0.28571428571428437,
          -0.28571428571428437
         ],
         "yaxis": "y"
        },
        {
         "hoverlabel": {
          "namelength": 0
         },
         "hovertemplate": "county=Union, Ohio<br>Days (since first case)=%{x}<br>7-day Rolling(Mean) - Rolling(Var)=%{y}",
         "legendgroup": "county=Union, Ohio",
         "line": {
          "color": "#B6E880",
          "dash": "solid"
         },
         "mode": "lines",
         "name": "county=Union, Ohio",
         "showlegend": true,
         "type": "scatter",
         "x": [
          0,
          1,
          2,
          3,
          4,
          5,
          6,
          7,
          8,
          9,
          10,
          11,
          12,
          13,
          14,
          15,
          16,
          17,
          18,
          19,
          20,
          21,
          22,
          23,
          24,
          25,
          26,
          27,
          28,
          29,
          30,
          31,
          32,
          33,
          34,
          35,
          36,
          37,
          38,
          39,
          40,
          41,
          42,
          43,
          44,
          45,
          46,
          47,
          48,
          49,
          50
         ],
         "xaxis": "x",
         "y": [
          0.04761904761904759,
          0.04761904761904759,
          0.14285714285714285,
          0.047619047619047644,
          0,
          0,
          0.047619047619047644,
          -0.04761904761904756,
          0.1428571428571429,
          -0.04761904761904756,
          -0.04761904761904756,
          -0.04761904761904756,
          0.1428571428571429,
          0.1428571428571429,
          0.14285714285714296,
          0.047619047619047755,
          0.14285714285714296,
          0.14285714285714296,
          0.14285714285714296,
          0.047619047619047755,
          0.047619047619047755,
          0.047619047619047755,
          0.047619047619047755,
          0.047619047619047755,
          -0.5238095238095236,
          -0.5238095238095236,
          -0.5238095238095236,
          -0.5238095238095236,
          -0.2857142857142857,
          -0.2857142857142857,
          -0.5238095238095236,
          0.047619047619047866,
          0.14285714285714307,
          -0.2857142857142855,
          -0.5238095238095236,
          -0.714285714285714,
          -0.619047619047619,
          -0.33333333333333326,
          2.220446049250313e-16,
          -0.33333333333333304,
          0.04761904761904778,
          0.04761904761904778,
          0.04761904761904778,
          -0.04761904761904745,
          -0.1904761904761904,
          -0.2857142857142856,
          -0.2857142857142856,
          0,
          -0.2857142857142856,
          -0.1904761904761904,
          -1.3333333333333335
         ],
         "yaxis": "y"
        },
        {
         "hoverlabel": {
          "namelength": 0
         },
         "hovertemplate": "county=Red River, Texas<br>Days (since first case)=%{x}<br>7-day Rolling(Mean) - Rolling(Var)=%{y}",
         "legendgroup": "county=Red River, Texas",
         "line": {
          "color": "#FF97FF",
          "dash": "solid"
         },
         "mode": "lines",
         "name": "county=Red River, Texas",
         "showlegend": true,
         "type": "scatter",
         "x": [
          0,
          1,
          2,
          3,
          4,
          5,
          6,
          7,
          8,
          9,
          10,
          11,
          12,
          13,
          14,
          15,
          16,
          17,
          18,
          19,
          20,
          21,
          22,
          23
         ],
         "xaxis": "x",
         "y": [
          0,
          0,
          0,
          0,
          0,
          0,
          0,
          0,
          0,
          0,
          0,
          0,
          0,
          0,
          0.047619047619047644,
          0.047619047619047644,
          -3.6666666666666665,
          -3.6666666666666665,
          -40.523809523809526,
          -39.28571428571429,
          -37.1904761904762,
          -36.04761904761906,
          -36.04761904761906,
          -39.190476190476204
         ],
         "yaxis": "y"
        },
        {
         "hoverlabel": {
          "namelength": 0
         },
         "hovertemplate": "county=Harrison, West Virginia<br>Days (since first case)=%{x}<br>7-day Rolling(Mean) - Rolling(Var)=%{y}",
         "legendgroup": "county=Harrison, West Virginia",
         "line": {
          "color": "#FECB52",
          "dash": "solid"
         },
         "mode": "lines",
         "name": "county=Harrison, West Virginia",
         "showlegend": true,
         "type": "scatter",
         "x": [
          0,
          1,
          2,
          3,
          4,
          5,
          6,
          7,
          8,
          9,
          10,
          11,
          12,
          13,
          14,
          15,
          16,
          17,
          18,
          19,
          20,
          21,
          22,
          23,
          24,
          25,
          26,
          27,
          28,
          29,
          30,
          31,
          32,
          33,
          34,
          35,
          36,
          37,
          38,
          39,
          40,
          41,
          42,
          43,
          44,
          45,
          46
         ],
         "xaxis": "x",
         "y": [
          0.2857142857142858,
          0.38095238095238115,
          0.38095238095238115,
          0.6666666666666667,
          -0.1904761904761907,
          -0.666666666666667,
          -1.3333333333333335,
          -1.666666666666667,
          -2.5238095238095237,
          -2.5238095238095237,
          -3.1904761904761907,
          -1.5238095238095233,
          -1.7142857142857137,
          -1.7142857142857137,
          0,
          0,
          0,
          0,
          8.049116928532385e-16,
          8.049116928532385e-16,
          8.049116928532385e-16,
          8.049116928532385e-16,
          8.049116928532385e-16,
          8.049116928532385e-16,
          8.049116928532385e-16,
          0,
          0,
          0,
          0,
          0,
          0,
          0,
          8.049116928532385e-16,
          8.049116928532385e-16,
          8.049116928532385e-16,
          0.04761904761904831,
          -0.04761904761904712,
          -0.04761904761904712,
          -0.04761904761904712,
          -0.19047619047618997,
          -0.19047619047618997,
          -0.19047619047618997,
          -0.28571428571428514,
          0,
          0,
          7.216449660063518e-16,
          7.216449660063518e-16
         ],
         "yaxis": "y"
        },
        {
         "hoverlabel": {
          "namelength": 0
         },
         "hovertemplate": "county=Frio, Texas<br>Days (since first case)=%{x}<br>7-day Rolling(Mean) - Rolling(Var)=%{y}",
         "legendgroup": "county=Frio, Texas",
         "line": {
          "color": "#636efa",
          "dash": "solid"
         },
         "mode": "lines",
         "name": "county=Frio, Texas",
         "showlegend": true,
         "type": "scatter",
         "x": [
          0,
          1,
          2,
          3,
          4,
          5,
          6,
          7,
          8,
          9,
          10,
          11,
          12,
          13,
          14,
          15,
          16,
          17,
          18,
          19,
          20,
          21,
          22,
          23,
          24,
          25,
          26,
          27,
          28,
          29,
          30,
          31
         ],
         "xaxis": "x",
         "y": [
          0,
          0,
          0,
          0,
          0,
          0,
          0,
          0,
          0,
          -0.2857142857142857,
          -0.2857142857142857,
          -0.2857142857142857,
          -0.1904761904761904,
          -0.6190476190476192,
          -0.6190476190476192,
          -0.6190476190476192,
          -0.5238095238095238,
          -0.33333333333333326,
          -0.33333333333333326,
          -0.6190476190476192,
          -0.1904761904761904,
          -28.047619047619047,
          -28.047619047619047,
          -31.85714285714286,
          -33.857142857142854,
          -33.857142857142854,
          -33.857142857142854,
          -33.857142857142854,
          -10.285714285714288,
          -10.285714285714288,
          -3.0531133177191805e-15,
          -3.0531133177191805e-15
         ],
         "yaxis": "y"
        },
        {
         "hoverlabel": {
          "namelength": 0
         },
         "hovertemplate": "county=Okeechobee, Florida<br>Days (since first case)=%{x}<br>7-day Rolling(Mean) - Rolling(Var)=%{y}",
         "legendgroup": "county=Okeechobee, Florida",
         "line": {
          "color": "#EF553B",
          "dash": "solid"
         },
         "mode": "lines",
         "name": "county=Okeechobee, Florida",
         "showlegend": true,
         "type": "scatter",
         "x": [
          0,
          1,
          2,
          3,
          4,
          5,
          6,
          7,
          8,
          9,
          10,
          11,
          12,
          13,
          14,
          15,
          16,
          17,
          18,
          19,
          20,
          21,
          22,
          23,
          24,
          25,
          26,
          27,
          28,
          29,
          30,
          31,
          32,
          33,
          34,
          35,
          36,
          37,
          38
         ],
         "xaxis": "x",
         "y": [
          0.2857142857142857,
          0.14285714285714285,
          0.047619047619047644,
          0.047619047619047644,
          2.7755575615628914e-17,
          0,
          0,
          0,
          0,
          2.7755575615628914e-17,
          0.047619047619047644,
          0.047619047619047644,
          0.1428571428571429,
          0.1428571428571429,
          0.28571428571428575,
          0.28571428571428575,
          0.1428571428571429,
          0.047619047619047644,
          0.1428571428571429,
          0.047619047619047644,
          0.047619047619047644,
          0.047619047619047644,
          0.1428571428571429,
          0.28571428571428575,
          0.4761904761904763,
          -0.6666666666666667,
          -0.6666666666666667,
          -0.6666666666666667,
          -1.3809523809523812,
          -1.3809523809523812,
          -1.8571428571428574,
          -3,
          -3.1904761904761907,
          -3.1904761904761907,
          -3.1904761904761907,
          -3.1904761904761907,
          -3.1904761904761907,
          -2.7142857142857144,
          -1.0000000000000004
         ],
         "yaxis": "y"
        },
        {
         "hoverlabel": {
          "namelength": 0
         },
         "hovertemplate": "county=Martin, North Carolina<br>Days (since first case)=%{x}<br>7-day Rolling(Mean) - Rolling(Var)=%{y}",
         "legendgroup": "county=Martin, North Carolina",
         "line": {
          "color": "#00cc96",
          "dash": "solid"
         },
         "mode": "lines",
         "name": "county=Martin, North Carolina",
         "showlegend": true,
         "type": "scatter",
         "x": [
          0,
          1,
          2,
          3,
          4,
          5,
          6,
          7,
          8,
          9,
          10,
          11,
          12,
          13,
          14,
          15,
          16,
          17,
          18,
          19,
          20,
          21,
          22,
          23,
          24,
          25,
          26,
          27,
          28,
          29,
          30,
          31,
          32,
          33,
          34,
          35,
          36,
          37,
          38,
          39
         ],
         "xaxis": "x",
         "y": [
          0.047619047619047644,
          2.7755575615628914e-17,
          0.047619047619047644,
          0.047619047619047644,
          0.1428571428571429,
          0.1428571428571429,
          0.1428571428571429,
          0.1428571428571429,
          0.1428571428571429,
          0.1428571428571429,
          0.1428571428571429,
          0.1428571428571429,
          0.1428571428571429,
          -0.04761904761904756,
          -0.04761904761904756,
          0.1428571428571429,
          0.1428571428571429,
          0.33333333333333337,
          0.04761904761904767,
          0.04761904761904767,
          0.14285714285714302,
          0.14285714285714302,
          -0.04761904761904756,
          -0.1904761904761904,
          -0.1904761904761904,
          -0.19047619047619035,
          0.04761904761904767,
          -0.19047619047619035,
          -0.9523809523809528,
          -0.3809523809523814,
          0.14285714285714213,
          -0.047619047619048116,
          -0.6190476190476193,
          -0.5238095238095242,
          0.14285714285714213,
          0.33333333333333304,
          0.33333333333333315,
          0.04761904761904745,
          0.04761904761904745,
          0.04761904761904745
         ],
         "yaxis": "y"
        },
        {
         "hoverlabel": {
          "namelength": 0
         },
         "hovertemplate": "county=Cross, Arkansas<br>Days (since first case)=%{x}<br>7-day Rolling(Mean) - Rolling(Var)=%{y}",
         "legendgroup": "county=Cross, Arkansas",
         "line": {
          "color": "#ab63fa",
          "dash": "solid"
         },
         "mode": "lines",
         "name": "county=Cross, Arkansas",
         "showlegend": true,
         "type": "scatter",
         "x": [
          0,
          1,
          2,
          3,
          4,
          5,
          6,
          7,
          8,
          9,
          10,
          11,
          12,
          13,
          14,
          15,
          16,
          17,
          18,
          19,
          20,
          21,
          22,
          23,
          24,
          25,
          26,
          27,
          28,
          29,
          30,
          31,
          32,
          33,
          34,
          35,
          36,
          37,
          38,
          39,
          40,
          41,
          42,
          43,
          44,
          45,
          46
         ],
         "xaxis": "x",
         "y": [
          -2.7755575615628914e-17,
          0.04761904761904759,
          -0.04761904761904767,
          -0.19047619047619052,
          -0.19047619047619052,
          -0.19047619047619052,
          -0.19047619047619052,
          -0.04761904761904767,
          -0.19047619047619052,
          -2.7755575615628914e-17,
          -2.7755575615628914e-17,
          -2.7755575615628914e-17,
          0.04761904761904759,
          0.04761904761904759,
          -2.7755575615628914e-17,
          -2.7755575615628914e-17,
          0.04761904761904759,
          0.04761904761904759,
          0.04761904761904759,
          -2.7755575615628914e-17,
          0.04761904761904759,
          0.04761904761904759,
          -0.04761904761904767,
          -0.19047619047619052,
          -0.19047619047619052,
          -2.3333333333333335,
          -2.3333333333333335,
          -2.6666666666666665,
          -2.3333333333333335,
          -2.619047619047619,
          -3.1904761904761907,
          -3.1904761904761907,
          -1.666666666666667,
          -1.2857142857142858,
          -1.2857142857142858,
          -1.1904761904761905,
          -1.1904761904761905,
          -0.619047619047619,
          -0.619047619047619,
          -0.19047619047619024,
          -0.3809523809523807,
          -0.2857142857142855,
          -0.6666666666666663,
          -0.33333333333333326,
          -0.33333333333333326,
          -0.33333333333333326,
          -0.619047619047619
         ],
         "yaxis": "y"
        },
        {
         "hoverlabel": {
          "namelength": 0
         },
         "hovertemplate": "county=Clark, Arkansas<br>Days (since first case)=%{x}<br>7-day Rolling(Mean) - Rolling(Var)=%{y}",
         "legendgroup": "county=Clark, Arkansas",
         "line": {
          "color": "#FFA15A",
          "dash": "solid"
         },
         "mode": "lines",
         "name": "county=Clark, Arkansas",
         "showlegend": true,
         "type": "scatter",
         "x": [
          0,
          1,
          2,
          3,
          4,
          5,
          6,
          7,
          8,
          9,
          10,
          11,
          12,
          13,
          14,
          15,
          16,
          17,
          18,
          19,
          20,
          21,
          22,
          23,
          24,
          25,
          26,
          27,
          28,
          29,
          30,
          31,
          32,
          33,
          34,
          35,
          36,
          37,
          38,
          39,
          40,
          41,
          42,
          43,
          44,
          45,
          46,
          47,
          48,
          49,
          50,
          51
         ],
         "xaxis": "x",
         "y": [
          -5.2857142857142865,
          -4.523809523809524,
          -4.523809523809524,
          -3.9523809523809526,
          -5.380952380952381,
          -2.285714285714286,
          -3.0476190476190474,
          -3.19047619047619,
          -3.6190476190476186,
          -3.6190476190476186,
          -0.19047619047619008,
          -0.19047619047619008,
          4.163336342344337e-16,
          4.163336342344337e-16,
          0,
          0,
          0,
          0,
          0,
          0,
          0,
          0,
          0,
          0,
          0,
          0,
          0,
          0,
          4.163336342344337e-16,
          4.163336342344337e-16,
          4.163336342344337e-16,
          4.163336342344337e-16,
          4.163336342344337e-16,
          4.163336342344337e-16,
          -0.19047619047619008,
          -0.28571428571428525,
          -0.19047619047619008,
          -0.19047619047619008,
          -0.04761904761904723,
          -0.04761904761904723,
          -0.04761904761904723,
          0.047619047619048005,
          0.047619047619048005,
          3.885780586188048e-16,
          0.047619047619048005,
          3.885780586188048e-16,
          0.047619047619048005,
          0.14285714285714324,
          0.14285714285714324,
          0.14285714285714324,
          0.14285714285714324,
          0.047619047619048005
         ],
         "yaxis": "y"
        },
        {
         "hoverlabel": {
          "namelength": 0
         },
         "hovertemplate": "county=Le Sueur, Minnesota<br>Days (since first case)=%{x}<br>7-day Rolling(Mean) - Rolling(Var)=%{y}",
         "legendgroup": "county=Le Sueur, Minnesota",
         "line": {
          "color": "#19d3f3",
          "dash": "solid"
         },
         "mode": "lines",
         "name": "county=Le Sueur, Minnesota",
         "showlegend": true,
         "type": "scatter",
         "x": [
          0,
          1,
          2,
          3,
          4,
          5,
          6,
          7,
          8,
          9,
          10,
          11,
          12,
          13,
          14,
          15,
          16,
          17,
          18,
          19,
          20,
          21,
          22,
          23,
          24,
          25,
          26,
          27,
          28,
          29,
          30,
          31,
          32,
          33,
          34,
          35,
          36,
          37,
          38,
          39,
          40,
          41,
          42,
          43,
          44,
          45,
          46,
          47,
          48
         ],
         "xaxis": "x",
         "y": [
          -1.190476190476191,
          -0.523809523809524,
          -0.9523809523809528,
          -0.523809523809524,
          0.04761904761904745,
          0.04761904761904745,
          0.04761904761904745,
          -0.3333333333333339,
          -0.5238095238095247,
          -0.5238095238095247,
          0.04761904761904623,
          -1.5543122344752192e-15,
          -1.7208456881689926e-15,
          -1.5543122344752192e-15,
          -1.5543122344752192e-15,
          -1.5543122344752192e-15,
          -1.5543122344752192e-15,
          0.04761904761904623,
          0.04761904761904623,
          0.04761904761904623,
          -1.5543122344752192e-15,
          -1.5543122344752192e-15,
          -1.5543122344752192e-15,
          -1.5543122344752192e-15,
          -1.7208456881689926e-15,
          -1.7208456881689926e-15,
          -1.7208456881689926e-15,
          -1.7208456881689926e-15,
          -1.5543122344752192e-15,
          0.04761904761904623,
          0.04761904761904623,
          0.04761904761904623,
          0.14285714285714163,
          0.14285714285714163,
          0.28571428571428464,
          0.14285714285714168,
          0.04761904761904631,
          0.04761904761904631,
          -0.04761904761904867,
          -0.19047619047619163,
          -0.19047619047619163,
          -0.19047619047619163,
          -0.04761904761904867,
          0.14285714285714202,
          0.14285714285714202,
          0.14285714285714174,
          0.14285714285714202,
          0.38095238095238015,
          0.38095238095238015
         ],
         "yaxis": "y"
        },
        {
         "hoverlabel": {
          "namelength": 0
         },
         "hovertemplate": "county=Johnson, Arkansas<br>Days (since first case)=%{x}<br>7-day Rolling(Mean) - Rolling(Var)=%{y}",
         "legendgroup": "county=Johnson, Arkansas",
         "line": {
          "color": "#FF6692",
          "dash": "solid"
         },
         "mode": "lines",
         "name": "county=Johnson, Arkansas",
         "showlegend": true,
         "type": "scatter",
         "x": [
          0,
          1,
          2,
          3,
          4,
          5,
          6,
          7,
          8,
          9,
          10,
          11,
          12,
          13,
          14,
          15,
          16,
          17,
          18,
          19,
          20,
          21,
          22,
          23,
          24,
          25,
          26,
          27,
          28,
          29,
          30,
          31,
          32,
          33,
          34,
          35,
          36,
          37,
          38,
          39,
          40,
          41,
          42
         ],
         "xaxis": "x",
         "y": [
          -0.33333333333333326,
          -0.6666666666666665,
          -0.6666666666666665,
          -0.5238095238095236,
          -0.714285714285714,
          -0.619047619047619,
          -0.619047619047619,
          -0.8571428571428569,
          -3.9999999999999996,
          -3.9999999999999996,
          -3.9999999999999996,
          -3.9999999999999996,
          -3.999999999999999,
          -3.6666666666666665,
          -3.2857142857142856,
          0.14285714285714324,
          0.14285714285714324,
          -0.2857142857142855,
          3.3306690738754696e-16,
          -0.2857142857142855,
          -0.5238095238095234,
          -0.9999999999999993,
          -0.6666666666666663,
          -0.6666666666666663,
          -0.5238095238095232,
          -0.5238095238095232,
          -0.5238095238095232,
          -0.5238095238095232,
          0.04761904761904831,
          6.938893903907228e-16,
          6.938893903907228e-16,
          6.938893903907228e-16,
          -0.28571428571428503,
          -0.19047619047618985,
          -0.19047619047618985,
          -0.19047619047618985,
          -0.19047619047618985,
          -0.047619047619047006,
          -0.047619047619047006,
          0.04761904761904823,
          6.106226635438361e-16,
          6.106226635438361e-16,
          6.106226635438361e-16
         ],
         "yaxis": "y"
        },
        {
         "hoverlabel": {
          "namelength": 0
         },
         "hovertemplate": "county=Ottawa, Oklahoma<br>Days (since first case)=%{x}<br>7-day Rolling(Mean) - Rolling(Var)=%{y}",
         "legendgroup": "county=Ottawa, Oklahoma",
         "line": {
          "color": "#B6E880",
          "dash": "solid"
         },
         "mode": "lines",
         "name": "county=Ottawa, Oklahoma",
         "showlegend": true,
         "type": "scatter",
         "x": [
          0,
          1,
          2,
          3,
          4,
          5,
          6,
          7,
          8,
          9,
          10,
          11,
          12,
          13,
          14,
          15,
          16,
          17,
          18,
          19,
          20,
          21,
          22,
          23,
          24,
          25,
          26,
          27,
          28,
          29,
          30,
          31,
          32,
          33,
          34,
          35,
          36,
          37,
          38,
          39,
          40,
          41,
          42,
          43,
          44
         ],
         "xaxis": "x",
         "y": [
          -0.33333333333333326,
          0.04761904761904745,
          0.33333333333333315,
          0.38095238095238076,
          0.33333333333333315,
          0.6666666666666665,
          0.7142857142857142,
          0.7142857142857142,
          0.33333333333333315,
          0.33333333333333315,
          -1.3809523809523812,
          -1.9523809523809519,
          -2.333333333333333,
          -2.3333333333333326,
          -1.9523809523809514,
          -1.5238095238095226,
          -1.9523809523809514,
          -0.047619047619046895,
          -0.047619047619046895,
          0.14285714285714357,
          0.14285714285714357,
          0.14285714285714363,
          0.04761904761904842,
          0.04761904761904842,
          0.04761904761904842,
          -0.523809523809523,
          -0.7142857142857135,
          -0.8571428571428563,
          -0.8571428571428562,
          -0.8571428571428562,
          -0.8571428571428562,
          -0.8571428571428562,
          -0.2857142857142847,
          -0.2857142857142847,
          -0.2857142857142847,
          0,
          0,
          0,
          0,
          0,
          0,
          0,
          9.159339953157541e-16,
          9.159339953157541e-16,
          9.159339953157541e-16
         ],
         "yaxis": "y"
        },
        {
         "hoverlabel": {
          "namelength": 0
         },
         "hovertemplate": "county=Abbeville, South Carolina<br>Days (since first case)=%{x}<br>7-day Rolling(Mean) - Rolling(Var)=%{y}",
         "legendgroup": "county=Abbeville, South Carolina",
         "line": {
          "color": "#FF97FF",
          "dash": "solid"
         },
         "mode": "lines",
         "name": "county=Abbeville, South Carolina",
         "showlegend": true,
         "type": "scatter",
         "x": [
          0,
          1,
          2,
          3,
          4,
          5,
          6,
          7,
          8,
          9,
          10,
          11,
          12,
          13,
          14,
          15,
          16,
          17,
          18,
          19,
          20,
          21,
          22,
          23,
          24,
          25,
          26,
          27,
          28,
          29,
          30,
          31,
          32,
          33,
          34,
          35,
          36,
          37,
          38,
          39,
          40,
          41,
          42,
          43,
          44,
          45,
          46,
          47,
          48,
          49,
          50,
          51
         ],
         "xaxis": "x",
         "y": [
          -0.19047619047619052,
          -0.19047619047619052,
          -0.19047619047619052,
          -0.19047619047619052,
          -0.19047619047619052,
          -2.7755575615628914e-17,
          -0.2857142857142858,
          -0.2857142857142858,
          -0.2857142857142858,
          -0.2857142857142858,
          -0.2857142857142858,
          -0.2857142857142858,
          -0.2857142857142858,
          -2.7755575615628914e-17,
          -2.7755575615628914e-17,
          -0.19047619047619052,
          -0.19047619047619052,
          -0.19047619047619052,
          -0.19047619047619052,
          -0.04761904761904767,
          -0.19047619047619052,
          -0.19047619047619052,
          -2.619047619047619,
          -2.3333333333333335,
          -2.3333333333333335,
          -1.9523809523809528,
          -2.5238095238095237,
          -1.9523809523809526,
          -1.3333333333333335,
          -0.6190476190476186,
          -0.8571428571428565,
          -0.19047619047619024,
          -0.7142857142857137,
          -0.3333333333333326,
          -0.3333333333333328,
          -0.6666666666666661,
          -0.6666666666666661,
          -0.28571428571428503,
          -0.38095238095238027,
          -0.38095238095238027,
          -0.38095238095238027,
          -0.19047619047618974,
          -0.19047619047618974,
          -0.19047619047618974,
          8.604228440844963e-16,
          8.604228440844963e-16,
          8.604228440844963e-16,
          8.604228440844963e-16,
          0,
          0,
          0,
          8.604228440844963e-16
         ],
         "yaxis": "y"
        },
        {
         "hoverlabel": {
          "namelength": 0
         },
         "hovertemplate": "county=Muskingum, Ohio<br>Days (since first case)=%{x}<br>7-day Rolling(Mean) - Rolling(Var)=%{y}",
         "legendgroup": "county=Muskingum, Ohio",
         "line": {
          "color": "#FECB52",
          "dash": "solid"
         },
         "mode": "lines",
         "name": "county=Muskingum, Ohio",
         "showlegend": true,
         "type": "scatter",
         "x": [
          0,
          1,
          2,
          3,
          4,
          5,
          6,
          7,
          8,
          9,
          10,
          11,
          12,
          13,
          14,
          15,
          16,
          17,
          18,
          19,
          20,
          21,
          22,
          23,
          24,
          25,
          26,
          27,
          28,
          29,
          30,
          31,
          32,
          33,
          34,
          35,
          36,
          37,
          38,
          39,
          40,
          41,
          42,
          43,
          44
         ],
         "xaxis": "x",
         "y": [
          2.7755575615628914e-17,
          0.047619047619047644,
          0.047619047619047644,
          0.1428571428571429,
          0.28571428571428575,
          0.28571428571428575,
          0.14285714285714302,
          0.14285714285714302,
          -0.04761904761904756,
          -0.04761904761904756,
          -0.1904761904761904,
          -0.2857142857142856,
          -0.2857142857142856,
          0,
          0,
          0,
          0,
          8.326672684688674e-17,
          8.326672684688674e-17,
          8.326672684688674e-17,
          0.0476190476190477,
          -0.04761904761904756,
          -0.04761904761904756,
          -0.04761904761904756,
          -0.1904761904761904,
          -0.1904761904761904,
          -0.1904761904761904,
          -0.2857142857142856,
          -0.857142857142857,
          -0.8571428571428569,
          -0.8571428571428569,
          -0.619047619047619,
          -0.6190476190476191,
          -0.1904761904761907,
          0.2857142857142856,
          0.38095238095238104,
          0.33333333333333315,
          0.33333333333333315,
          0.38095238095238104,
          -0.1904761904761907,
          -0.1904761904761907,
          -0.6190476190476191,
          -1,
          -0.9523809523809523,
          -0.523809523809524
         ],
         "yaxis": "y"
        }
       ],
       "layout": {
        "height": 600,
        "legend": {
         "tracegroupgap": 0
        },
        "margin": {
         "t": 60
        },
        "template": {
         "data": {
          "bar": [
           {
            "error_x": {
             "color": "#2a3f5f"
            },
            "error_y": {
             "color": "#2a3f5f"
            },
            "marker": {
             "line": {
              "color": "#E5ECF6",
              "width": 0.5
             }
            },
            "type": "bar"
           }
          ],
          "barpolar": [
           {
            "marker": {
             "line": {
              "color": "#E5ECF6",
              "width": 0.5
             }
            },
            "type": "barpolar"
           }
          ],
          "carpet": [
           {
            "aaxis": {
             "endlinecolor": "#2a3f5f",
             "gridcolor": "white",
             "linecolor": "white",
             "minorgridcolor": "white",
             "startlinecolor": "#2a3f5f"
            },
            "baxis": {
             "endlinecolor": "#2a3f5f",
             "gridcolor": "white",
             "linecolor": "white",
             "minorgridcolor": "white",
             "startlinecolor": "#2a3f5f"
            },
            "type": "carpet"
           }
          ],
          "choropleth": [
           {
            "colorbar": {
             "outlinewidth": 0,
             "ticks": ""
            },
            "type": "choropleth"
           }
          ],
          "contour": [
           {
            "colorbar": {
             "outlinewidth": 0,
             "ticks": ""
            },
            "colorscale": [
             [
              0,
              "#0d0887"
             ],
             [
              0.1111111111111111,
              "#46039f"
             ],
             [
              0.2222222222222222,
              "#7201a8"
             ],
             [
              0.3333333333333333,
              "#9c179e"
             ],
             [
              0.4444444444444444,
              "#bd3786"
             ],
             [
              0.5555555555555556,
              "#d8576b"
             ],
             [
              0.6666666666666666,
              "#ed7953"
             ],
             [
              0.7777777777777778,
              "#fb9f3a"
             ],
             [
              0.8888888888888888,
              "#fdca26"
             ],
             [
              1,
              "#f0f921"
             ]
            ],
            "type": "contour"
           }
          ],
          "contourcarpet": [
           {
            "colorbar": {
             "outlinewidth": 0,
             "ticks": ""
            },
            "type": "contourcarpet"
           }
          ],
          "heatmap": [
           {
            "colorbar": {
             "outlinewidth": 0,
             "ticks": ""
            },
            "colorscale": [
             [
              0,
              "#0d0887"
             ],
             [
              0.1111111111111111,
              "#46039f"
             ],
             [
              0.2222222222222222,
              "#7201a8"
             ],
             [
              0.3333333333333333,
              "#9c179e"
             ],
             [
              0.4444444444444444,
              "#bd3786"
             ],
             [
              0.5555555555555556,
              "#d8576b"
             ],
             [
              0.6666666666666666,
              "#ed7953"
             ],
             [
              0.7777777777777778,
              "#fb9f3a"
             ],
             [
              0.8888888888888888,
              "#fdca26"
             ],
             [
              1,
              "#f0f921"
             ]
            ],
            "type": "heatmap"
           }
          ],
          "heatmapgl": [
           {
            "colorbar": {
             "outlinewidth": 0,
             "ticks": ""
            },
            "colorscale": [
             [
              0,
              "#0d0887"
             ],
             [
              0.1111111111111111,
              "#46039f"
             ],
             [
              0.2222222222222222,
              "#7201a8"
             ],
             [
              0.3333333333333333,
              "#9c179e"
             ],
             [
              0.4444444444444444,
              "#bd3786"
             ],
             [
              0.5555555555555556,
              "#d8576b"
             ],
             [
              0.6666666666666666,
              "#ed7953"
             ],
             [
              0.7777777777777778,
              "#fb9f3a"
             ],
             [
              0.8888888888888888,
              "#fdca26"
             ],
             [
              1,
              "#f0f921"
             ]
            ],
            "type": "heatmapgl"
           }
          ],
          "histogram": [
           {
            "marker": {
             "colorbar": {
              "outlinewidth": 0,
              "ticks": ""
             }
            },
            "type": "histogram"
           }
          ],
          "histogram2d": [
           {
            "colorbar": {
             "outlinewidth": 0,
             "ticks": ""
            },
            "colorscale": [
             [
              0,
              "#0d0887"
             ],
             [
              0.1111111111111111,
              "#46039f"
             ],
             [
              0.2222222222222222,
              "#7201a8"
             ],
             [
              0.3333333333333333,
              "#9c179e"
             ],
             [
              0.4444444444444444,
              "#bd3786"
             ],
             [
              0.5555555555555556,
              "#d8576b"
             ],
             [
              0.6666666666666666,
              "#ed7953"
             ],
             [
              0.7777777777777778,
              "#fb9f3a"
             ],
             [
              0.8888888888888888,
              "#fdca26"
             ],
             [
              1,
              "#f0f921"
             ]
            ],
            "type": "histogram2d"
           }
          ],
          "histogram2dcontour": [
           {
            "colorbar": {
             "outlinewidth": 0,
             "ticks": ""
            },
            "colorscale": [
             [
              0,
              "#0d0887"
             ],
             [
              0.1111111111111111,
              "#46039f"
             ],
             [
              0.2222222222222222,
              "#7201a8"
             ],
             [
              0.3333333333333333,
              "#9c179e"
             ],
             [
              0.4444444444444444,
              "#bd3786"
             ],
             [
              0.5555555555555556,
              "#d8576b"
             ],
             [
              0.6666666666666666,
              "#ed7953"
             ],
             [
              0.7777777777777778,
              "#fb9f3a"
             ],
             [
              0.8888888888888888,
              "#fdca26"
             ],
             [
              1,
              "#f0f921"
             ]
            ],
            "type": "histogram2dcontour"
           }
          ],
          "mesh3d": [
           {
            "colorbar": {
             "outlinewidth": 0,
             "ticks": ""
            },
            "type": "mesh3d"
           }
          ],
          "parcoords": [
           {
            "line": {
             "colorbar": {
              "outlinewidth": 0,
              "ticks": ""
             }
            },
            "type": "parcoords"
           }
          ],
          "pie": [
           {
            "automargin": true,
            "type": "pie"
           }
          ],
          "scatter": [
           {
            "marker": {
             "colorbar": {
              "outlinewidth": 0,
              "ticks": ""
             }
            },
            "type": "scatter"
           }
          ],
          "scatter3d": [
           {
            "line": {
             "colorbar": {
              "outlinewidth": 0,
              "ticks": ""
             }
            },
            "marker": {
             "colorbar": {
              "outlinewidth": 0,
              "ticks": ""
             }
            },
            "type": "scatter3d"
           }
          ],
          "scattercarpet": [
           {
            "marker": {
             "colorbar": {
              "outlinewidth": 0,
              "ticks": ""
             }
            },
            "type": "scattercarpet"
           }
          ],
          "scattergeo": [
           {
            "marker": {
             "colorbar": {
              "outlinewidth": 0,
              "ticks": ""
             }
            },
            "type": "scattergeo"
           }
          ],
          "scattergl": [
           {
            "marker": {
             "colorbar": {
              "outlinewidth": 0,
              "ticks": ""
             }
            },
            "type": "scattergl"
           }
          ],
          "scattermapbox": [
           {
            "marker": {
             "colorbar": {
              "outlinewidth": 0,
              "ticks": ""
             }
            },
            "type": "scattermapbox"
           }
          ],
          "scatterpolar": [
           {
            "marker": {
             "colorbar": {
              "outlinewidth": 0,
              "ticks": ""
             }
            },
            "type": "scatterpolar"
           }
          ],
          "scatterpolargl": [
           {
            "marker": {
             "colorbar": {
              "outlinewidth": 0,
              "ticks": ""
             }
            },
            "type": "scatterpolargl"
           }
          ],
          "scatterternary": [
           {
            "marker": {
             "colorbar": {
              "outlinewidth": 0,
              "ticks": ""
             }
            },
            "type": "scatterternary"
           }
          ],
          "surface": [
           {
            "colorbar": {
             "outlinewidth": 0,
             "ticks": ""
            },
            "colorscale": [
             [
              0,
              "#0d0887"
             ],
             [
              0.1111111111111111,
              "#46039f"
             ],
             [
              0.2222222222222222,
              "#7201a8"
             ],
             [
              0.3333333333333333,
              "#9c179e"
             ],
             [
              0.4444444444444444,
              "#bd3786"
             ],
             [
              0.5555555555555556,
              "#d8576b"
             ],
             [
              0.6666666666666666,
              "#ed7953"
             ],
             [
              0.7777777777777778,
              "#fb9f3a"
             ],
             [
              0.8888888888888888,
              "#fdca26"
             ],
             [
              1,
              "#f0f921"
             ]
            ],
            "type": "surface"
           }
          ],
          "table": [
           {
            "cells": {
             "fill": {
              "color": "#EBF0F8"
             },
             "line": {
              "color": "white"
             }
            },
            "header": {
             "fill": {
              "color": "#C8D4E3"
             },
             "line": {
              "color": "white"
             }
            },
            "type": "table"
           }
          ]
         },
         "layout": {
          "annotationdefaults": {
           "arrowcolor": "#2a3f5f",
           "arrowhead": 0,
           "arrowwidth": 1
          },
          "coloraxis": {
           "colorbar": {
            "outlinewidth": 0,
            "ticks": ""
           }
          },
          "colorscale": {
           "diverging": [
            [
             0,
             "#8e0152"
            ],
            [
             0.1,
             "#c51b7d"
            ],
            [
             0.2,
             "#de77ae"
            ],
            [
             0.3,
             "#f1b6da"
            ],
            [
             0.4,
             "#fde0ef"
            ],
            [
             0.5,
             "#f7f7f7"
            ],
            [
             0.6,
             "#e6f5d0"
            ],
            [
             0.7,
             "#b8e186"
            ],
            [
             0.8,
             "#7fbc41"
            ],
            [
             0.9,
             "#4d9221"
            ],
            [
             1,
             "#276419"
            ]
           ],
           "sequential": [
            [
             0,
             "#0d0887"
            ],
            [
             0.1111111111111111,
             "#46039f"
            ],
            [
             0.2222222222222222,
             "#7201a8"
            ],
            [
             0.3333333333333333,
             "#9c179e"
            ],
            [
             0.4444444444444444,
             "#bd3786"
            ],
            [
             0.5555555555555556,
             "#d8576b"
            ],
            [
             0.6666666666666666,
             "#ed7953"
            ],
            [
             0.7777777777777778,
             "#fb9f3a"
            ],
            [
             0.8888888888888888,
             "#fdca26"
            ],
            [
             1,
             "#f0f921"
            ]
           ],
           "sequentialminus": [
            [
             0,
             "#0d0887"
            ],
            [
             0.1111111111111111,
             "#46039f"
            ],
            [
             0.2222222222222222,
             "#7201a8"
            ],
            [
             0.3333333333333333,
             "#9c179e"
            ],
            [
             0.4444444444444444,
             "#bd3786"
            ],
            [
             0.5555555555555556,
             "#d8576b"
            ],
            [
             0.6666666666666666,
             "#ed7953"
            ],
            [
             0.7777777777777778,
             "#fb9f3a"
            ],
            [
             0.8888888888888888,
             "#fdca26"
            ],
            [
             1,
             "#f0f921"
            ]
           ]
          },
          "colorway": [
           "#636efa",
           "#EF553B",
           "#00cc96",
           "#ab63fa",
           "#FFA15A",
           "#19d3f3",
           "#FF6692",
           "#B6E880",
           "#FF97FF",
           "#FECB52"
          ],
          "font": {
           "color": "#2a3f5f"
          },
          "geo": {
           "bgcolor": "white",
           "lakecolor": "white",
           "landcolor": "#E5ECF6",
           "showlakes": true,
           "showland": true,
           "subunitcolor": "white"
          },
          "hoverlabel": {
           "align": "left"
          },
          "hovermode": "closest",
          "mapbox": {
           "style": "light"
          },
          "paper_bgcolor": "white",
          "plot_bgcolor": "#E5ECF6",
          "polar": {
           "angularaxis": {
            "gridcolor": "white",
            "linecolor": "white",
            "ticks": ""
           },
           "bgcolor": "#E5ECF6",
           "radialaxis": {
            "gridcolor": "white",
            "linecolor": "white",
            "ticks": ""
           }
          },
          "scene": {
           "xaxis": {
            "backgroundcolor": "#E5ECF6",
            "gridcolor": "white",
            "gridwidth": 2,
            "linecolor": "white",
            "showbackground": true,
            "ticks": "",
            "zerolinecolor": "white"
           },
           "yaxis": {
            "backgroundcolor": "#E5ECF6",
            "gridcolor": "white",
            "gridwidth": 2,
            "linecolor": "white",
            "showbackground": true,
            "ticks": "",
            "zerolinecolor": "white"
           },
           "zaxis": {
            "backgroundcolor": "#E5ECF6",
            "gridcolor": "white",
            "gridwidth": 2,
            "linecolor": "white",
            "showbackground": true,
            "ticks": "",
            "zerolinecolor": "white"
           }
          },
          "shapedefaults": {
           "line": {
            "color": "#2a3f5f"
           }
          },
          "ternary": {
           "aaxis": {
            "gridcolor": "white",
            "linecolor": "white",
            "ticks": ""
           },
           "baxis": {
            "gridcolor": "white",
            "linecolor": "white",
            "ticks": ""
           },
           "bgcolor": "#E5ECF6",
           "caxis": {
            "gridcolor": "white",
            "linecolor": "white",
            "ticks": ""
           }
          },
          "title": {
           "x": 0.05
          },
          "xaxis": {
           "automargin": true,
           "gridcolor": "white",
           "linecolor": "white",
           "ticks": "",
           "title": {
            "standoff": 15
           },
           "zerolinecolor": "white",
           "zerolinewidth": 2
          },
          "yaxis": {
           "automargin": true,
           "gridcolor": "white",
           "linecolor": "white",
           "ticks": "",
           "title": {
            "standoff": 15
           },
           "zerolinecolor": "white",
           "zerolinewidth": 2
          }
         }
        },
        "title": {
         "text": "Dispersion: Median 20 Counties (by cumulative cases)"
        },
        "xaxis": {
         "anchor": "y",
         "domain": [
          0,
          1
         ],
         "title": {
          "text": "Days (since first case)"
         }
        },
        "yaxis": {
         "anchor": "x",
         "domain": [
          0,
          1
         ],
         "title": {
          "text": "7-day Rolling(Mean) - Rolling(Var)"
         }
        }
       }
      },
      "text/html": [
       "<div>\n",
       "        \n",
       "        \n",
       "            <div id=\"cacb29ec-1bf2-4cd7-928e-17d37987e546\" class=\"plotly-graph-div\" style=\"height:600px; width:100%;\"></div>\n",
       "            <script type=\"text/javascript\">\n",
       "                require([\"plotly\"], function(Plotly) {\n",
       "                    window.PLOTLYENV=window.PLOTLYENV || {};\n",
       "                    \n",
       "                if (document.getElementById(\"cacb29ec-1bf2-4cd7-928e-17d37987e546\")) {\n",
       "                    Plotly.newPlot(\n",
       "                        'cacb29ec-1bf2-4cd7-928e-17d37987e546',\n",
       "                        [{\"hoverlabel\": {\"namelength\": 0}, \"hovertemplate\": \"county=East Carroll, Louisiana<br>Days (since first case)=%{x}<br>7-day Rolling(Mean) - Rolling(Var)=%{y}\", \"legendgroup\": \"county=East Carroll, Louisiana\", \"line\": {\"color\": \"#636efa\", \"dash\": \"solid\"}, \"mode\": \"lines\", \"name\": \"county=East Carroll, Louisiana\", \"showlegend\": true, \"type\": \"scatter\", \"x\": [0, 1, 2, 3, 4, 5, 6, 7, 8, 9, 10, 11, 12, 13, 14, 15, 16, 17, 18, 19, 20, 21, 22, 23, 24, 25, 26, 27, 28, 29, 30, 31, 32, 33, 34, 35, 36, 37, 38, 39, 40, 41, 42], \"xaxis\": \"x\", \"y\": [0.0, 0.0, 0.0, 0.0, 0.0, 0.0, 0.0, 0.0, 0.0, 0.0, 0.0, 0.0, 0.0, 0.0, 0.0, 0.0, 0.0, -1.7142857142857142, -1.7142857142857142, -1.5238095238095233, -1.5238095238095233, -1.5238095238095233, -1.5238095238095233, -1.333333333333333, -0.19047619047619008, -0.04761904761904723, -0.19047619047619008, -0.19047619047619008, -0.19047619047619008, -0.19047619047619008, 4.163336342344337e-16, -0.19047619047619008, -0.8571428571428569, -0.619047619047619, -0.33333333333333326, -0.33333333333333326, -2.333333333333333, -1.666666666666667, -2.0, -2.7142857142857144, -2.7142857142857144, -5.0, -3.857142857142857], \"yaxis\": \"y\"}, {\"hoverlabel\": {\"namelength\": 0}, \"hovertemplate\": \"county=Lewis, Washington<br>Days (since first case)=%{x}<br>7-day Rolling(Mean) - Rolling(Var)=%{y}\", \"legendgroup\": \"county=Lewis, Washington\", \"line\": {\"color\": \"#EF553B\", \"dash\": \"solid\"}, \"mode\": \"lines\", \"name\": \"county=Lewis, Washington\", \"showlegend\": true, \"type\": \"scatter\", \"x\": [0, 1, 2, 3, 4, 5, 6, 7, 8, 9, 10, 11, 12, 13, 14, 15, 16, 17, 18, 19, 20, 21, 22, 23, 24, 25, 26, 27, 28, 29, 30, 31, 32, 33, 34, 35, 36, 37, 38, 39, 40, 41, 42, 43, 44, 45, 46, 47, 48, 49, 50, 51, 52, 53, 54, 55], \"xaxis\": \"x\", \"y\": [-2.7755575615628914e-17, -2.7755575615628914e-17, -0.7142857142857142, -0.7142857142857142, -0.8571428571428569, -0.8571428571428569, -1.0, -1.0, -1.0, -0.8571428571428571, -0.6666666666666667, -0.8571428571428571, -0.8571428571428571, -1.619047619047619, -1.619047619047619, -1.619047619047619, -1.3333333333333335, -1.2857142857142856, -1.2857142857142856, -1.2857142857142856, 0.047619047619047866, 0.047619047619047866, 0.14285714285714302, 0.047619047619047866, 3.0531133177191805e-16, -0.1904761904761903, -0.1904761904761903, -0.1904761904761903, -0.1904761904761903, -0.2857142857142855, -0.1904761904761903, -0.6190476190476192, -0.7142857142857144, -1.666666666666667, -1.666666666666667, -1.666666666666667, -1.666666666666667, -2.0, -1.7142857142857146, -1.7142857142857146, -2.9605947323337506e-16, -2.9605947323337506e-16, -2.9605947323337506e-16, -2.9605947323337506e-16, -2.9605947323337506e-16, -3.0531133177191805e-16, -3.0531133177191805e-16, -3.0531133177191805e-16, -3.0531133177191805e-16, -3.0531133177191805e-16, -0.19047619047619085, -0.19047619047619085, -0.28571428571428603, -0.28571428571428603, -0.38095238095238126, -0.38095238095238126], \"yaxis\": \"y\"}, {\"hoverlabel\": {\"namelength\": 0}, \"hovertemplate\": \"county=Marshall, Kentucky<br>Days (since first case)=%{x}<br>7-day Rolling(Mean) - Rolling(Var)=%{y}\", \"legendgroup\": \"county=Marshall, Kentucky\", \"line\": {\"color\": \"#00cc96\", \"dash\": \"solid\"}, \"mode\": \"lines\", \"name\": \"county=Marshall, Kentucky\", \"showlegend\": true, \"type\": \"scatter\", \"x\": [0, 1, 2, 3, 4, 5, 6, 7, 8, 9, 10, 11, 12, 13, 14, 15, 16, 17, 18, 19, 20, 21, 22, 23, 24, 25, 26, 27, 28, 29, 30, 31, 32, 33, 34, 35, 36, 37, 38, 39, 40], \"xaxis\": \"x\", \"y\": [-2.8571428571428568, -2.6666666666666665, -2.6666666666666665, -2.2857142857142856, -1.8571428571428565, -1.8571428571428565, -1.8571428571428565, 0.04761904761904834, -0.047619047619046784, -0.047619047619046784, 0.04761904761904853, 9.71445146547012e-16, 9.71445146547012e-16, -0.19047619047618963, -0.38095238095238027, -1.3333333333333326, -1.0476190476190468, -1.0476190476190468, -0.6666666666666661, 0.4761904761904767, 0.4761904761904767, -0.047619047619047006, -0.9999999999999996, -1.7142857142857137, -1.7142857142857137, -1.3333333333333326, -0.19047619047618974, 7.216449660063518e-16, 0.0, 0.0, 0.0, 0.0, 0.0, 0.0, 0.0, 0.0, 0.0, 0.0, 7.216449660063518e-16, 7.216449660063518e-16, 7.216449660063518e-16], \"yaxis\": \"y\"}, {\"hoverlabel\": {\"namelength\": 0}, \"hovertemplate\": \"county=Carteret, North Carolina<br>Days (since first case)=%{x}<br>7-day Rolling(Mean) - Rolling(Var)=%{y}\", \"legendgroup\": \"county=Carteret, North Carolina\", \"line\": {\"color\": \"#ab63fa\", \"dash\": \"solid\"}, \"mode\": \"lines\", \"name\": \"county=Carteret, North Carolina\", \"showlegend\": true, \"type\": \"scatter\", \"x\": [0, 1, 2, 3, 4, 5, 6, 7, 8, 9, 10, 11, 12, 13, 14, 15, 16, 17, 18, 19, 20, 21, 22, 23, 24, 25, 26, 27, 28, 29, 30, 31, 32, 33, 34, 35, 36, 37, 38, 39, 40, 41, 42, 43, 44, 45, 46, 47, 48, 49, 50], \"xaxis\": \"x\", \"y\": [0.14285714285714302, 0.04761904761904778, 0.04761904761904778, 0.3333333333333335, 3.3306690738754696e-16, 0.3333333333333335, 0.7142857142857146, 0.7142857142857146, 0.3333333333333336, 0.3333333333333336, 0.14285714285714324, 0.38095238095238126, 0.38095238095238126, 0.38095238095238126, 0.38095238095238126, 0.38095238095238126, 0.4761904761904766, 0.4761904761904766, 0.2857142857142861, 0.14285714285714324, 0.047619047619048005, 3.885780586188048e-16, 3.885780586188048e-16, 0.0, 0.0, 0.0, 0.0, 0.0, -1.7142857142857137, -1.7142857142857137, -1.6190476190476186, -1.6190476190476186, -1.6190476190476186, -1.6190476190476186, -1.3333333333333326, -0.19047619047618974, -0.19047619047618974, 7.216449660063518e-16, 7.216449660063518e-16, 7.216449660063518e-16, 7.216449660063518e-16, 0.0, 0.0, -0.28571428571428503, -0.28571428571428503, -0.19047619047618974, -0.1904761904761898, -0.1904761904761898, 0.04761904761904823, 0.04761904761904823, -0.047619047619047006], \"yaxis\": \"y\"}, {\"hoverlabel\": {\"namelength\": 0}, \"hovertemplate\": \"county=Bullock, Alabama<br>Days (since first case)=%{x}<br>7-day Rolling(Mean) - Rolling(Var)=%{y}\", \"legendgroup\": \"county=Bullock, Alabama\", \"line\": {\"color\": \"#FFA15A\", \"dash\": \"solid\"}, \"mode\": \"lines\", \"name\": \"county=Bullock, Alabama\", \"showlegend\": true, \"type\": \"scatter\", \"x\": [0, 1, 2, 3, 4, 5, 6, 7, 8, 9, 10, 11, 12, 13, 14, 15, 16, 17, 18, 19, 20, 21, 22, 23, 24, 25, 26, 27, 28, 29, 30, 31, 32, 33, 34, 35, 36, 37, 38, 39, 40, 41, 42, 43, 44], \"xaxis\": \"x\", \"y\": [-2.7755575615628914e-17, -1.850371707708594e-17, -1.850371707708594e-17, -1.850371707708594e-17, -1.850371707708594e-17, -1.850371707708594e-17, -2.7755575615628914e-17, -2.7755575615628914e-17, -2.7755575615628914e-17, -2.7755575615628914e-17, -0.19047619047619052, -0.19047619047619047, -0.19047619047619047, -0.38095238095238104, -0.38095238095238104, -0.19047619047619047, -0.19047619047619047, -0.19047619047619047, -0.1904761904761904, -0.1904761904761904, -0.04761904761904756, -0.04761904761904756, -0.1904761904761904, -0.1904761904761904, 5.551115123125783e-17, 5.551115123125783e-17, 5.551115123125783e-17, 5.551115123125783e-17, 0.04761904761904767, 0.04761904761904767, 0.04761904761904767, -0.04761904761904756, 0.04761904761904778, 0.04761904761904778, -0.19047619047619024, -0.6666666666666663, -0.33333333333333326, 0.047619047619047894, -0.19047619047619002, -0.6666666666666663, -0.19047619047619002, -0.19047619047619002, -0.7142857142857137, -0.6190476190476186, -1.1904761904761905], \"yaxis\": \"y\"}, {\"hoverlabel\": {\"namelength\": 0}, \"hovertemplate\": \"county=Dodge, Minnesota<br>Days (since first case)=%{x}<br>7-day Rolling(Mean) - Rolling(Var)=%{y}\", \"legendgroup\": \"county=Dodge, Minnesota\", \"line\": {\"color\": \"#19d3f3\", \"dash\": \"solid\"}, \"mode\": \"lines\", \"name\": \"county=Dodge, Minnesota\", \"showlegend\": true, \"type\": \"scatter\", \"x\": [0, 1, 2, 3, 4, 5, 6, 7, 8, 9, 10, 11, 12, 13, 14, 15, 16, 17, 18, 19, 20, 21, 22, 23, 24, 25, 26, 27, 28, 29, 30, 31, 32, 33, 34, 35, 36, 37, 38, 39, 40, 41, 42, 43, 44, 45, 46, 47, 48, 49], \"xaxis\": \"x\", \"y\": [0.1428571428571429, 0.380952380952381, 0.14285714285714302, 0.3333333333333335, 0.14285714285714302, 0.14285714285714302, -0.04761904761904756, -0.1904761904761904, -0.2857142857142856, -0.1904761904761904, -0.1904761904761904, -0.1904761904761904, -0.04761904761904756, 0.14285714285714302, 0.380952380952381, 0.380952380952381, 0.14285714285714302, 0.14285714285714302, 0.14285714285714302, 0.14285714285714302, 0.04761904761904781, 0.04761904761904781, 0.04761904761904781, 0.04761904761904781, 0.04761904761904781, 0.04761904761904781, 2.220446049250313e-16, 0.04761904761904781, 2.220446049250313e-16, 2.220446049250313e-16, 2.220446049250313e-16, 2.220446049250313e-16, -0.1904761904761903, -0.04761904761904745, -0.1904761904761903, -0.1904761904761903, -0.1904761904761903, -0.1904761904761903, -0.1904761904761903, 1.942890293094024e-16, -0.2857142857142856, -0.2857142857142856, -0.3809523809523808, -0.3809523809523808, -0.3809523809523808, -0.3809523809523808, -0.2857142857142855, -0.2857142857142855, -0.8571428571428565, -0.9523809523809519], \"yaxis\": \"y\"}, {\"hoverlabel\": {\"namelength\": 0}, \"hovertemplate\": \"county=Custer, Nebraska<br>Days (since first case)=%{x}<br>7-day Rolling(Mean) - Rolling(Var)=%{y}\", \"legendgroup\": \"county=Custer, Nebraska\", \"line\": {\"color\": \"#FF6692\", \"dash\": \"solid\"}, \"mode\": \"lines\", \"name\": \"county=Custer, Nebraska\", \"showlegend\": true, \"type\": \"scatter\", \"x\": [0, 1, 2, 3, 4, 5, 6, 7, 8, 9, 10, 11, 12, 13, 14, 15, 16, 17, 18, 19, 20, 21, 22, 23, 24, 25, 26, 27, 28, 29, 30, 31, 32, 33], \"xaxis\": \"x\", \"y\": [-13.523809523809522, -14.285714285714285, -14.285714285714285, -14.285714285714285, -4.285714285714285, 1.6930901125533637e-15, 1.6930901125533637e-15, 1.6930901125533637e-15, 1.6930901125533637e-15, 1.6930901125533637e-15, 0.047619047619049365, 0.047619047619049365, 0.047619047619049365, 0.047619047619049365, 0.047619047619049365, 0.047619047619049365, 0.14285714285714468, 0.14285714285714468, -1.9999999999999982, -2.190476190476188, -2.190476190476188, -2.190476190476188, -2.190476190476188, -2.190476190476188, -2.619047619047617, -0.7142857142857126, 1.2490009027033011e-15, 1.2490009027033011e-15, 1.2490009027033011e-15, 1.2490009027033011e-15, -0.28571428571428437, -0.28571428571428437, -0.28571428571428437, -0.28571428571428437], \"yaxis\": \"y\"}, {\"hoverlabel\": {\"namelength\": 0}, \"hovertemplate\": \"county=Union, Ohio<br>Days (since first case)=%{x}<br>7-day Rolling(Mean) - Rolling(Var)=%{y}\", \"legendgroup\": \"county=Union, Ohio\", \"line\": {\"color\": \"#B6E880\", \"dash\": \"solid\"}, \"mode\": \"lines\", \"name\": \"county=Union, Ohio\", \"showlegend\": true, \"type\": \"scatter\", \"x\": [0, 1, 2, 3, 4, 5, 6, 7, 8, 9, 10, 11, 12, 13, 14, 15, 16, 17, 18, 19, 20, 21, 22, 23, 24, 25, 26, 27, 28, 29, 30, 31, 32, 33, 34, 35, 36, 37, 38, 39, 40, 41, 42, 43, 44, 45, 46, 47, 48, 49, 50], \"xaxis\": \"x\", \"y\": [0.04761904761904759, 0.04761904761904759, 0.14285714285714285, 0.047619047619047644, 0.0, 0.0, 0.047619047619047644, -0.04761904761904756, 0.1428571428571429, -0.04761904761904756, -0.04761904761904756, -0.04761904761904756, 0.1428571428571429, 0.1428571428571429, 0.14285714285714296, 0.047619047619047755, 0.14285714285714296, 0.14285714285714296, 0.14285714285714296, 0.047619047619047755, 0.047619047619047755, 0.047619047619047755, 0.047619047619047755, 0.047619047619047755, -0.5238095238095236, -0.5238095238095236, -0.5238095238095236, -0.5238095238095236, -0.2857142857142857, -0.2857142857142857, -0.5238095238095236, 0.047619047619047866, 0.14285714285714307, -0.2857142857142855, -0.5238095238095236, -0.714285714285714, -0.619047619047619, -0.33333333333333326, 2.220446049250313e-16, -0.33333333333333304, 0.04761904761904778, 0.04761904761904778, 0.04761904761904778, -0.04761904761904745, -0.1904761904761904, -0.2857142857142856, -0.2857142857142856, 0.0, -0.2857142857142856, -0.1904761904761904, -1.3333333333333335], \"yaxis\": \"y\"}, {\"hoverlabel\": {\"namelength\": 0}, \"hovertemplate\": \"county=Red River, Texas<br>Days (since first case)=%{x}<br>7-day Rolling(Mean) - Rolling(Var)=%{y}\", \"legendgroup\": \"county=Red River, Texas\", \"line\": {\"color\": \"#FF97FF\", \"dash\": \"solid\"}, \"mode\": \"lines\", \"name\": \"county=Red River, Texas\", \"showlegend\": true, \"type\": \"scatter\", \"x\": [0, 1, 2, 3, 4, 5, 6, 7, 8, 9, 10, 11, 12, 13, 14, 15, 16, 17, 18, 19, 20, 21, 22, 23], \"xaxis\": \"x\", \"y\": [0.0, 0.0, 0.0, 0.0, 0.0, 0.0, 0.0, 0.0, 0.0, 0.0, 0.0, 0.0, 0.0, 0.0, 0.047619047619047644, 0.047619047619047644, -3.6666666666666665, -3.6666666666666665, -40.523809523809526, -39.28571428571429, -37.1904761904762, -36.04761904761906, -36.04761904761906, -39.190476190476204], \"yaxis\": \"y\"}, {\"hoverlabel\": {\"namelength\": 0}, \"hovertemplate\": \"county=Harrison, West Virginia<br>Days (since first case)=%{x}<br>7-day Rolling(Mean) - Rolling(Var)=%{y}\", \"legendgroup\": \"county=Harrison, West Virginia\", \"line\": {\"color\": \"#FECB52\", \"dash\": \"solid\"}, \"mode\": \"lines\", \"name\": \"county=Harrison, West Virginia\", \"showlegend\": true, \"type\": \"scatter\", \"x\": [0, 1, 2, 3, 4, 5, 6, 7, 8, 9, 10, 11, 12, 13, 14, 15, 16, 17, 18, 19, 20, 21, 22, 23, 24, 25, 26, 27, 28, 29, 30, 31, 32, 33, 34, 35, 36, 37, 38, 39, 40, 41, 42, 43, 44, 45, 46], \"xaxis\": \"x\", \"y\": [0.2857142857142858, 0.38095238095238115, 0.38095238095238115, 0.6666666666666667, -0.1904761904761907, -0.666666666666667, -1.3333333333333335, -1.666666666666667, -2.5238095238095237, -2.5238095238095237, -3.1904761904761907, -1.5238095238095233, -1.7142857142857137, -1.7142857142857137, 0.0, 0.0, 0.0, 0.0, 8.049116928532385e-16, 8.049116928532385e-16, 8.049116928532385e-16, 8.049116928532385e-16, 8.049116928532385e-16, 8.049116928532385e-16, 8.049116928532385e-16, 0.0, 0.0, 0.0, 0.0, 0.0, 0.0, 0.0, 8.049116928532385e-16, 8.049116928532385e-16, 8.049116928532385e-16, 0.04761904761904831, -0.04761904761904712, -0.04761904761904712, -0.04761904761904712, -0.19047619047618997, -0.19047619047618997, -0.19047619047618997, -0.28571428571428514, 0.0, 0.0, 7.216449660063518e-16, 7.216449660063518e-16], \"yaxis\": \"y\"}, {\"hoverlabel\": {\"namelength\": 0}, \"hovertemplate\": \"county=Frio, Texas<br>Days (since first case)=%{x}<br>7-day Rolling(Mean) - Rolling(Var)=%{y}\", \"legendgroup\": \"county=Frio, Texas\", \"line\": {\"color\": \"#636efa\", \"dash\": \"solid\"}, \"mode\": \"lines\", \"name\": \"county=Frio, Texas\", \"showlegend\": true, \"type\": \"scatter\", \"x\": [0, 1, 2, 3, 4, 5, 6, 7, 8, 9, 10, 11, 12, 13, 14, 15, 16, 17, 18, 19, 20, 21, 22, 23, 24, 25, 26, 27, 28, 29, 30, 31], \"xaxis\": \"x\", \"y\": [0.0, 0.0, 0.0, 0.0, 0.0, 0.0, 0.0, 0.0, 0.0, -0.2857142857142857, -0.2857142857142857, -0.2857142857142857, -0.1904761904761904, -0.6190476190476192, -0.6190476190476192, -0.6190476190476192, -0.5238095238095238, -0.33333333333333326, -0.33333333333333326, -0.6190476190476192, -0.1904761904761904, -28.047619047619047, -28.047619047619047, -31.85714285714286, -33.857142857142854, -33.857142857142854, -33.857142857142854, -33.857142857142854, -10.285714285714288, -10.285714285714288, -3.0531133177191805e-15, -3.0531133177191805e-15], \"yaxis\": \"y\"}, {\"hoverlabel\": {\"namelength\": 0}, \"hovertemplate\": \"county=Okeechobee, Florida<br>Days (since first case)=%{x}<br>7-day Rolling(Mean) - Rolling(Var)=%{y}\", \"legendgroup\": \"county=Okeechobee, Florida\", \"line\": {\"color\": \"#EF553B\", \"dash\": \"solid\"}, \"mode\": \"lines\", \"name\": \"county=Okeechobee, Florida\", \"showlegend\": true, \"type\": \"scatter\", \"x\": [0, 1, 2, 3, 4, 5, 6, 7, 8, 9, 10, 11, 12, 13, 14, 15, 16, 17, 18, 19, 20, 21, 22, 23, 24, 25, 26, 27, 28, 29, 30, 31, 32, 33, 34, 35, 36, 37, 38], \"xaxis\": \"x\", \"y\": [0.2857142857142857, 0.14285714285714285, 0.047619047619047644, 0.047619047619047644, 2.7755575615628914e-17, 0.0, 0.0, 0.0, 0.0, 2.7755575615628914e-17, 0.047619047619047644, 0.047619047619047644, 0.1428571428571429, 0.1428571428571429, 0.28571428571428575, 0.28571428571428575, 0.1428571428571429, 0.047619047619047644, 0.1428571428571429, 0.047619047619047644, 0.047619047619047644, 0.047619047619047644, 0.1428571428571429, 0.28571428571428575, 0.4761904761904763, -0.6666666666666667, -0.6666666666666667, -0.6666666666666667, -1.3809523809523812, -1.3809523809523812, -1.8571428571428574, -3.0, -3.1904761904761907, -3.1904761904761907, -3.1904761904761907, -3.1904761904761907, -3.1904761904761907, -2.7142857142857144, -1.0000000000000004], \"yaxis\": \"y\"}, {\"hoverlabel\": {\"namelength\": 0}, \"hovertemplate\": \"county=Martin, North Carolina<br>Days (since first case)=%{x}<br>7-day Rolling(Mean) - Rolling(Var)=%{y}\", \"legendgroup\": \"county=Martin, North Carolina\", \"line\": {\"color\": \"#00cc96\", \"dash\": \"solid\"}, \"mode\": \"lines\", \"name\": \"county=Martin, North Carolina\", \"showlegend\": true, \"type\": \"scatter\", \"x\": [0, 1, 2, 3, 4, 5, 6, 7, 8, 9, 10, 11, 12, 13, 14, 15, 16, 17, 18, 19, 20, 21, 22, 23, 24, 25, 26, 27, 28, 29, 30, 31, 32, 33, 34, 35, 36, 37, 38, 39], \"xaxis\": \"x\", \"y\": [0.047619047619047644, 2.7755575615628914e-17, 0.047619047619047644, 0.047619047619047644, 0.1428571428571429, 0.1428571428571429, 0.1428571428571429, 0.1428571428571429, 0.1428571428571429, 0.1428571428571429, 0.1428571428571429, 0.1428571428571429, 0.1428571428571429, -0.04761904761904756, -0.04761904761904756, 0.1428571428571429, 0.1428571428571429, 0.33333333333333337, 0.04761904761904767, 0.04761904761904767, 0.14285714285714302, 0.14285714285714302, -0.04761904761904756, -0.1904761904761904, -0.1904761904761904, -0.19047619047619035, 0.04761904761904767, -0.19047619047619035, -0.9523809523809528, -0.3809523809523814, 0.14285714285714213, -0.047619047619048116, -0.6190476190476193, -0.5238095238095242, 0.14285714285714213, 0.33333333333333304, 0.33333333333333315, 0.04761904761904745, 0.04761904761904745, 0.04761904761904745], \"yaxis\": \"y\"}, {\"hoverlabel\": {\"namelength\": 0}, \"hovertemplate\": \"county=Cross, Arkansas<br>Days (since first case)=%{x}<br>7-day Rolling(Mean) - Rolling(Var)=%{y}\", \"legendgroup\": \"county=Cross, Arkansas\", \"line\": {\"color\": \"#ab63fa\", \"dash\": \"solid\"}, \"mode\": \"lines\", \"name\": \"county=Cross, Arkansas\", \"showlegend\": true, \"type\": \"scatter\", \"x\": [0, 1, 2, 3, 4, 5, 6, 7, 8, 9, 10, 11, 12, 13, 14, 15, 16, 17, 18, 19, 20, 21, 22, 23, 24, 25, 26, 27, 28, 29, 30, 31, 32, 33, 34, 35, 36, 37, 38, 39, 40, 41, 42, 43, 44, 45, 46], \"xaxis\": \"x\", \"y\": [-2.7755575615628914e-17, 0.04761904761904759, -0.04761904761904767, -0.19047619047619052, -0.19047619047619052, -0.19047619047619052, -0.19047619047619052, -0.04761904761904767, -0.19047619047619052, -2.7755575615628914e-17, -2.7755575615628914e-17, -2.7755575615628914e-17, 0.04761904761904759, 0.04761904761904759, -2.7755575615628914e-17, -2.7755575615628914e-17, 0.04761904761904759, 0.04761904761904759, 0.04761904761904759, -2.7755575615628914e-17, 0.04761904761904759, 0.04761904761904759, -0.04761904761904767, -0.19047619047619052, -0.19047619047619052, -2.3333333333333335, -2.3333333333333335, -2.6666666666666665, -2.3333333333333335, -2.619047619047619, -3.1904761904761907, -3.1904761904761907, -1.666666666666667, -1.2857142857142858, -1.2857142857142858, -1.1904761904761905, -1.1904761904761905, -0.619047619047619, -0.619047619047619, -0.19047619047619024, -0.3809523809523807, -0.2857142857142855, -0.6666666666666663, -0.33333333333333326, -0.33333333333333326, -0.33333333333333326, -0.619047619047619], \"yaxis\": \"y\"}, {\"hoverlabel\": {\"namelength\": 0}, \"hovertemplate\": \"county=Clark, Arkansas<br>Days (since first case)=%{x}<br>7-day Rolling(Mean) - Rolling(Var)=%{y}\", \"legendgroup\": \"county=Clark, Arkansas\", \"line\": {\"color\": \"#FFA15A\", \"dash\": \"solid\"}, \"mode\": \"lines\", \"name\": \"county=Clark, Arkansas\", \"showlegend\": true, \"type\": \"scatter\", \"x\": [0, 1, 2, 3, 4, 5, 6, 7, 8, 9, 10, 11, 12, 13, 14, 15, 16, 17, 18, 19, 20, 21, 22, 23, 24, 25, 26, 27, 28, 29, 30, 31, 32, 33, 34, 35, 36, 37, 38, 39, 40, 41, 42, 43, 44, 45, 46, 47, 48, 49, 50, 51], \"xaxis\": \"x\", \"y\": [-5.2857142857142865, -4.523809523809524, -4.523809523809524, -3.9523809523809526, -5.380952380952381, -2.285714285714286, -3.0476190476190474, -3.19047619047619, -3.6190476190476186, -3.6190476190476186, -0.19047619047619008, -0.19047619047619008, 4.163336342344337e-16, 4.163336342344337e-16, 0.0, 0.0, 0.0, 0.0, 0.0, 0.0, 0.0, 0.0, 0.0, 0.0, 0.0, 0.0, 0.0, 0.0, 4.163336342344337e-16, 4.163336342344337e-16, 4.163336342344337e-16, 4.163336342344337e-16, 4.163336342344337e-16, 4.163336342344337e-16, -0.19047619047619008, -0.28571428571428525, -0.19047619047619008, -0.19047619047619008, -0.04761904761904723, -0.04761904761904723, -0.04761904761904723, 0.047619047619048005, 0.047619047619048005, 3.885780586188048e-16, 0.047619047619048005, 3.885780586188048e-16, 0.047619047619048005, 0.14285714285714324, 0.14285714285714324, 0.14285714285714324, 0.14285714285714324, 0.047619047619048005], \"yaxis\": \"y\"}, {\"hoverlabel\": {\"namelength\": 0}, \"hovertemplate\": \"county=Le Sueur, Minnesota<br>Days (since first case)=%{x}<br>7-day Rolling(Mean) - Rolling(Var)=%{y}\", \"legendgroup\": \"county=Le Sueur, Minnesota\", \"line\": {\"color\": \"#19d3f3\", \"dash\": \"solid\"}, \"mode\": \"lines\", \"name\": \"county=Le Sueur, Minnesota\", \"showlegend\": true, \"type\": \"scatter\", \"x\": [0, 1, 2, 3, 4, 5, 6, 7, 8, 9, 10, 11, 12, 13, 14, 15, 16, 17, 18, 19, 20, 21, 22, 23, 24, 25, 26, 27, 28, 29, 30, 31, 32, 33, 34, 35, 36, 37, 38, 39, 40, 41, 42, 43, 44, 45, 46, 47, 48], \"xaxis\": \"x\", \"y\": [-1.190476190476191, -0.523809523809524, -0.9523809523809528, -0.523809523809524, 0.04761904761904745, 0.04761904761904745, 0.04761904761904745, -0.3333333333333339, -0.5238095238095247, -0.5238095238095247, 0.04761904761904623, -1.5543122344752192e-15, -1.7208456881689926e-15, -1.5543122344752192e-15, -1.5543122344752192e-15, -1.5543122344752192e-15, -1.5543122344752192e-15, 0.04761904761904623, 0.04761904761904623, 0.04761904761904623, -1.5543122344752192e-15, -1.5543122344752192e-15, -1.5543122344752192e-15, -1.5543122344752192e-15, -1.7208456881689926e-15, -1.7208456881689926e-15, -1.7208456881689926e-15, -1.7208456881689926e-15, -1.5543122344752192e-15, 0.04761904761904623, 0.04761904761904623, 0.04761904761904623, 0.14285714285714163, 0.14285714285714163, 0.28571428571428464, 0.14285714285714168, 0.04761904761904631, 0.04761904761904631, -0.04761904761904867, -0.19047619047619163, -0.19047619047619163, -0.19047619047619163, -0.04761904761904867, 0.14285714285714202, 0.14285714285714202, 0.14285714285714174, 0.14285714285714202, 0.38095238095238015, 0.38095238095238015], \"yaxis\": \"y\"}, {\"hoverlabel\": {\"namelength\": 0}, \"hovertemplate\": \"county=Johnson, Arkansas<br>Days (since first case)=%{x}<br>7-day Rolling(Mean) - Rolling(Var)=%{y}\", \"legendgroup\": \"county=Johnson, Arkansas\", \"line\": {\"color\": \"#FF6692\", \"dash\": \"solid\"}, \"mode\": \"lines\", \"name\": \"county=Johnson, Arkansas\", \"showlegend\": true, \"type\": \"scatter\", \"x\": [0, 1, 2, 3, 4, 5, 6, 7, 8, 9, 10, 11, 12, 13, 14, 15, 16, 17, 18, 19, 20, 21, 22, 23, 24, 25, 26, 27, 28, 29, 30, 31, 32, 33, 34, 35, 36, 37, 38, 39, 40, 41, 42], \"xaxis\": \"x\", \"y\": [-0.33333333333333326, -0.6666666666666665, -0.6666666666666665, -0.5238095238095236, -0.714285714285714, -0.619047619047619, -0.619047619047619, -0.8571428571428569, -3.9999999999999996, -3.9999999999999996, -3.9999999999999996, -3.9999999999999996, -3.999999999999999, -3.6666666666666665, -3.2857142857142856, 0.14285714285714324, 0.14285714285714324, -0.2857142857142855, 3.3306690738754696e-16, -0.2857142857142855, -0.5238095238095234, -0.9999999999999993, -0.6666666666666663, -0.6666666666666663, -0.5238095238095232, -0.5238095238095232, -0.5238095238095232, -0.5238095238095232, 0.04761904761904831, 6.938893903907228e-16, 6.938893903907228e-16, 6.938893903907228e-16, -0.28571428571428503, -0.19047619047618985, -0.19047619047618985, -0.19047619047618985, -0.19047619047618985, -0.047619047619047006, -0.047619047619047006, 0.04761904761904823, 6.106226635438361e-16, 6.106226635438361e-16, 6.106226635438361e-16], \"yaxis\": \"y\"}, {\"hoverlabel\": {\"namelength\": 0}, \"hovertemplate\": \"county=Ottawa, Oklahoma<br>Days (since first case)=%{x}<br>7-day Rolling(Mean) - Rolling(Var)=%{y}\", \"legendgroup\": \"county=Ottawa, Oklahoma\", \"line\": {\"color\": \"#B6E880\", \"dash\": \"solid\"}, \"mode\": \"lines\", \"name\": \"county=Ottawa, Oklahoma\", \"showlegend\": true, \"type\": \"scatter\", \"x\": [0, 1, 2, 3, 4, 5, 6, 7, 8, 9, 10, 11, 12, 13, 14, 15, 16, 17, 18, 19, 20, 21, 22, 23, 24, 25, 26, 27, 28, 29, 30, 31, 32, 33, 34, 35, 36, 37, 38, 39, 40, 41, 42, 43, 44], \"xaxis\": \"x\", \"y\": [-0.33333333333333326, 0.04761904761904745, 0.33333333333333315, 0.38095238095238076, 0.33333333333333315, 0.6666666666666665, 0.7142857142857142, 0.7142857142857142, 0.33333333333333315, 0.33333333333333315, -1.3809523809523812, -1.9523809523809519, -2.333333333333333, -2.3333333333333326, -1.9523809523809514, -1.5238095238095226, -1.9523809523809514, -0.047619047619046895, -0.047619047619046895, 0.14285714285714357, 0.14285714285714357, 0.14285714285714363, 0.04761904761904842, 0.04761904761904842, 0.04761904761904842, -0.523809523809523, -0.7142857142857135, -0.8571428571428563, -0.8571428571428562, -0.8571428571428562, -0.8571428571428562, -0.8571428571428562, -0.2857142857142847, -0.2857142857142847, -0.2857142857142847, 0.0, 0.0, 0.0, 0.0, 0.0, 0.0, 0.0, 9.159339953157541e-16, 9.159339953157541e-16, 9.159339953157541e-16], \"yaxis\": \"y\"}, {\"hoverlabel\": {\"namelength\": 0}, \"hovertemplate\": \"county=Abbeville, South Carolina<br>Days (since first case)=%{x}<br>7-day Rolling(Mean) - Rolling(Var)=%{y}\", \"legendgroup\": \"county=Abbeville, South Carolina\", \"line\": {\"color\": \"#FF97FF\", \"dash\": \"solid\"}, \"mode\": \"lines\", \"name\": \"county=Abbeville, South Carolina\", \"showlegend\": true, \"type\": \"scatter\", \"x\": [0, 1, 2, 3, 4, 5, 6, 7, 8, 9, 10, 11, 12, 13, 14, 15, 16, 17, 18, 19, 20, 21, 22, 23, 24, 25, 26, 27, 28, 29, 30, 31, 32, 33, 34, 35, 36, 37, 38, 39, 40, 41, 42, 43, 44, 45, 46, 47, 48, 49, 50, 51], \"xaxis\": \"x\", \"y\": [-0.19047619047619052, -0.19047619047619052, -0.19047619047619052, -0.19047619047619052, -0.19047619047619052, -2.7755575615628914e-17, -0.2857142857142858, -0.2857142857142858, -0.2857142857142858, -0.2857142857142858, -0.2857142857142858, -0.2857142857142858, -0.2857142857142858, -2.7755575615628914e-17, -2.7755575615628914e-17, -0.19047619047619052, -0.19047619047619052, -0.19047619047619052, -0.19047619047619052, -0.04761904761904767, -0.19047619047619052, -0.19047619047619052, -2.619047619047619, -2.3333333333333335, -2.3333333333333335, -1.9523809523809528, -2.5238095238095237, -1.9523809523809526, -1.3333333333333335, -0.6190476190476186, -0.8571428571428565, -0.19047619047619024, -0.7142857142857137, -0.3333333333333326, -0.3333333333333328, -0.6666666666666661, -0.6666666666666661, -0.28571428571428503, -0.38095238095238027, -0.38095238095238027, -0.38095238095238027, -0.19047619047618974, -0.19047619047618974, -0.19047619047618974, 8.604228440844963e-16, 8.604228440844963e-16, 8.604228440844963e-16, 8.604228440844963e-16, 0.0, 0.0, 0.0, 8.604228440844963e-16], \"yaxis\": \"y\"}, {\"hoverlabel\": {\"namelength\": 0}, \"hovertemplate\": \"county=Muskingum, Ohio<br>Days (since first case)=%{x}<br>7-day Rolling(Mean) - Rolling(Var)=%{y}\", \"legendgroup\": \"county=Muskingum, Ohio\", \"line\": {\"color\": \"#FECB52\", \"dash\": \"solid\"}, \"mode\": \"lines\", \"name\": \"county=Muskingum, Ohio\", \"showlegend\": true, \"type\": \"scatter\", \"x\": [0, 1, 2, 3, 4, 5, 6, 7, 8, 9, 10, 11, 12, 13, 14, 15, 16, 17, 18, 19, 20, 21, 22, 23, 24, 25, 26, 27, 28, 29, 30, 31, 32, 33, 34, 35, 36, 37, 38, 39, 40, 41, 42, 43, 44], \"xaxis\": \"x\", \"y\": [2.7755575615628914e-17, 0.047619047619047644, 0.047619047619047644, 0.1428571428571429, 0.28571428571428575, 0.28571428571428575, 0.14285714285714302, 0.14285714285714302, -0.04761904761904756, -0.04761904761904756, -0.1904761904761904, -0.2857142857142856, -0.2857142857142856, 0.0, 0.0, 0.0, 0.0, 8.326672684688674e-17, 8.326672684688674e-17, 8.326672684688674e-17, 0.0476190476190477, -0.04761904761904756, -0.04761904761904756, -0.04761904761904756, -0.1904761904761904, -0.1904761904761904, -0.1904761904761904, -0.2857142857142856, -0.857142857142857, -0.8571428571428569, -0.8571428571428569, -0.619047619047619, -0.6190476190476191, -0.1904761904761907, 0.2857142857142856, 0.38095238095238104, 0.33333333333333315, 0.33333333333333315, 0.38095238095238104, -0.1904761904761907, -0.1904761904761907, -0.6190476190476191, -1.0, -0.9523809523809523, -0.523809523809524], \"yaxis\": \"y\"}],\n",
       "                        {\"height\": 600, \"legend\": {\"tracegroupgap\": 0}, \"margin\": {\"t\": 60}, \"template\": {\"data\": {\"bar\": [{\"error_x\": {\"color\": \"#2a3f5f\"}, \"error_y\": {\"color\": \"#2a3f5f\"}, \"marker\": {\"line\": {\"color\": \"#E5ECF6\", \"width\": 0.5}}, \"type\": \"bar\"}], \"barpolar\": [{\"marker\": {\"line\": {\"color\": \"#E5ECF6\", \"width\": 0.5}}, \"type\": \"barpolar\"}], \"carpet\": [{\"aaxis\": {\"endlinecolor\": \"#2a3f5f\", \"gridcolor\": \"white\", \"linecolor\": \"white\", \"minorgridcolor\": \"white\", \"startlinecolor\": \"#2a3f5f\"}, \"baxis\": {\"endlinecolor\": \"#2a3f5f\", \"gridcolor\": \"white\", \"linecolor\": \"white\", \"minorgridcolor\": \"white\", \"startlinecolor\": \"#2a3f5f\"}, \"type\": \"carpet\"}], \"choropleth\": [{\"colorbar\": {\"outlinewidth\": 0, \"ticks\": \"\"}, \"type\": \"choropleth\"}], \"contour\": [{\"colorbar\": {\"outlinewidth\": 0, \"ticks\": \"\"}, \"colorscale\": [[0.0, \"#0d0887\"], [0.1111111111111111, \"#46039f\"], [0.2222222222222222, \"#7201a8\"], [0.3333333333333333, \"#9c179e\"], [0.4444444444444444, \"#bd3786\"], [0.5555555555555556, \"#d8576b\"], [0.6666666666666666, \"#ed7953\"], [0.7777777777777778, \"#fb9f3a\"], [0.8888888888888888, \"#fdca26\"], [1.0, \"#f0f921\"]], \"type\": \"contour\"}], \"contourcarpet\": [{\"colorbar\": {\"outlinewidth\": 0, \"ticks\": \"\"}, \"type\": \"contourcarpet\"}], \"heatmap\": [{\"colorbar\": {\"outlinewidth\": 0, \"ticks\": \"\"}, \"colorscale\": [[0.0, \"#0d0887\"], [0.1111111111111111, \"#46039f\"], [0.2222222222222222, \"#7201a8\"], [0.3333333333333333, \"#9c179e\"], [0.4444444444444444, \"#bd3786\"], [0.5555555555555556, \"#d8576b\"], [0.6666666666666666, \"#ed7953\"], [0.7777777777777778, \"#fb9f3a\"], [0.8888888888888888, \"#fdca26\"], [1.0, \"#f0f921\"]], \"type\": \"heatmap\"}], \"heatmapgl\": [{\"colorbar\": {\"outlinewidth\": 0, \"ticks\": \"\"}, \"colorscale\": [[0.0, \"#0d0887\"], [0.1111111111111111, \"#46039f\"], [0.2222222222222222, \"#7201a8\"], [0.3333333333333333, \"#9c179e\"], [0.4444444444444444, \"#bd3786\"], [0.5555555555555556, \"#d8576b\"], [0.6666666666666666, \"#ed7953\"], [0.7777777777777778, \"#fb9f3a\"], [0.8888888888888888, \"#fdca26\"], [1.0, \"#f0f921\"]], \"type\": \"heatmapgl\"}], \"histogram\": [{\"marker\": {\"colorbar\": {\"outlinewidth\": 0, \"ticks\": \"\"}}, \"type\": \"histogram\"}], \"histogram2d\": [{\"colorbar\": {\"outlinewidth\": 0, \"ticks\": \"\"}, \"colorscale\": [[0.0, \"#0d0887\"], [0.1111111111111111, \"#46039f\"], [0.2222222222222222, \"#7201a8\"], [0.3333333333333333, \"#9c179e\"], [0.4444444444444444, \"#bd3786\"], [0.5555555555555556, \"#d8576b\"], [0.6666666666666666, \"#ed7953\"], [0.7777777777777778, \"#fb9f3a\"], [0.8888888888888888, \"#fdca26\"], [1.0, \"#f0f921\"]], \"type\": \"histogram2d\"}], \"histogram2dcontour\": [{\"colorbar\": {\"outlinewidth\": 0, \"ticks\": \"\"}, \"colorscale\": [[0.0, \"#0d0887\"], [0.1111111111111111, \"#46039f\"], [0.2222222222222222, \"#7201a8\"], [0.3333333333333333, \"#9c179e\"], [0.4444444444444444, \"#bd3786\"], [0.5555555555555556, \"#d8576b\"], [0.6666666666666666, \"#ed7953\"], [0.7777777777777778, \"#fb9f3a\"], [0.8888888888888888, \"#fdca26\"], [1.0, \"#f0f921\"]], \"type\": \"histogram2dcontour\"}], \"mesh3d\": [{\"colorbar\": {\"outlinewidth\": 0, \"ticks\": \"\"}, \"type\": \"mesh3d\"}], \"parcoords\": [{\"line\": {\"colorbar\": {\"outlinewidth\": 0, \"ticks\": \"\"}}, \"type\": \"parcoords\"}], \"pie\": [{\"automargin\": true, \"type\": \"pie\"}], \"scatter\": [{\"marker\": {\"colorbar\": {\"outlinewidth\": 0, \"ticks\": \"\"}}, \"type\": \"scatter\"}], \"scatter3d\": [{\"line\": {\"colorbar\": {\"outlinewidth\": 0, \"ticks\": \"\"}}, \"marker\": {\"colorbar\": {\"outlinewidth\": 0, \"ticks\": \"\"}}, \"type\": \"scatter3d\"}], \"scattercarpet\": [{\"marker\": {\"colorbar\": {\"outlinewidth\": 0, \"ticks\": \"\"}}, \"type\": \"scattercarpet\"}], \"scattergeo\": [{\"marker\": {\"colorbar\": {\"outlinewidth\": 0, \"ticks\": \"\"}}, \"type\": \"scattergeo\"}], \"scattergl\": [{\"marker\": {\"colorbar\": {\"outlinewidth\": 0, \"ticks\": \"\"}}, \"type\": \"scattergl\"}], \"scattermapbox\": [{\"marker\": {\"colorbar\": {\"outlinewidth\": 0, \"ticks\": \"\"}}, \"type\": \"scattermapbox\"}], \"scatterpolar\": [{\"marker\": {\"colorbar\": {\"outlinewidth\": 0, \"ticks\": \"\"}}, \"type\": \"scatterpolar\"}], \"scatterpolargl\": [{\"marker\": {\"colorbar\": {\"outlinewidth\": 0, \"ticks\": \"\"}}, \"type\": \"scatterpolargl\"}], \"scatterternary\": [{\"marker\": {\"colorbar\": {\"outlinewidth\": 0, \"ticks\": \"\"}}, \"type\": \"scatterternary\"}], \"surface\": [{\"colorbar\": {\"outlinewidth\": 0, \"ticks\": \"\"}, \"colorscale\": [[0.0, \"#0d0887\"], [0.1111111111111111, \"#46039f\"], [0.2222222222222222, \"#7201a8\"], [0.3333333333333333, \"#9c179e\"], [0.4444444444444444, \"#bd3786\"], [0.5555555555555556, \"#d8576b\"], [0.6666666666666666, \"#ed7953\"], [0.7777777777777778, \"#fb9f3a\"], [0.8888888888888888, \"#fdca26\"], [1.0, \"#f0f921\"]], \"type\": \"surface\"}], \"table\": [{\"cells\": {\"fill\": {\"color\": \"#EBF0F8\"}, \"line\": {\"color\": \"white\"}}, \"header\": {\"fill\": {\"color\": \"#C8D4E3\"}, \"line\": {\"color\": \"white\"}}, \"type\": \"table\"}]}, \"layout\": {\"annotationdefaults\": {\"arrowcolor\": \"#2a3f5f\", \"arrowhead\": 0, \"arrowwidth\": 1}, \"coloraxis\": {\"colorbar\": {\"outlinewidth\": 0, \"ticks\": \"\"}}, \"colorscale\": {\"diverging\": [[0, \"#8e0152\"], [0.1, \"#c51b7d\"], [0.2, \"#de77ae\"], [0.3, \"#f1b6da\"], [0.4, \"#fde0ef\"], [0.5, \"#f7f7f7\"], [0.6, \"#e6f5d0\"], [0.7, \"#b8e186\"], [0.8, \"#7fbc41\"], [0.9, \"#4d9221\"], [1, \"#276419\"]], \"sequential\": [[0.0, \"#0d0887\"], [0.1111111111111111, \"#46039f\"], [0.2222222222222222, \"#7201a8\"], [0.3333333333333333, \"#9c179e\"], [0.4444444444444444, \"#bd3786\"], [0.5555555555555556, \"#d8576b\"], [0.6666666666666666, \"#ed7953\"], [0.7777777777777778, \"#fb9f3a\"], [0.8888888888888888, \"#fdca26\"], [1.0, \"#f0f921\"]], \"sequentialminus\": [[0.0, \"#0d0887\"], [0.1111111111111111, \"#46039f\"], [0.2222222222222222, \"#7201a8\"], [0.3333333333333333, \"#9c179e\"], [0.4444444444444444, \"#bd3786\"], [0.5555555555555556, \"#d8576b\"], [0.6666666666666666, \"#ed7953\"], [0.7777777777777778, \"#fb9f3a\"], [0.8888888888888888, \"#fdca26\"], [1.0, \"#f0f921\"]]}, \"colorway\": [\"#636efa\", \"#EF553B\", \"#00cc96\", \"#ab63fa\", \"#FFA15A\", \"#19d3f3\", \"#FF6692\", \"#B6E880\", \"#FF97FF\", \"#FECB52\"], \"font\": {\"color\": \"#2a3f5f\"}, \"geo\": {\"bgcolor\": \"white\", \"lakecolor\": \"white\", \"landcolor\": \"#E5ECF6\", \"showlakes\": true, \"showland\": true, \"subunitcolor\": \"white\"}, \"hoverlabel\": {\"align\": \"left\"}, \"hovermode\": \"closest\", \"mapbox\": {\"style\": \"light\"}, \"paper_bgcolor\": \"white\", \"plot_bgcolor\": \"#E5ECF6\", \"polar\": {\"angularaxis\": {\"gridcolor\": \"white\", \"linecolor\": \"white\", \"ticks\": \"\"}, \"bgcolor\": \"#E5ECF6\", \"radialaxis\": {\"gridcolor\": \"white\", \"linecolor\": \"white\", \"ticks\": \"\"}}, \"scene\": {\"xaxis\": {\"backgroundcolor\": \"#E5ECF6\", \"gridcolor\": \"white\", \"gridwidth\": 2, \"linecolor\": \"white\", \"showbackground\": true, \"ticks\": \"\", \"zerolinecolor\": \"white\"}, \"yaxis\": {\"backgroundcolor\": \"#E5ECF6\", \"gridcolor\": \"white\", \"gridwidth\": 2, \"linecolor\": \"white\", \"showbackground\": true, \"ticks\": \"\", \"zerolinecolor\": \"white\"}, \"zaxis\": {\"backgroundcolor\": \"#E5ECF6\", \"gridcolor\": \"white\", \"gridwidth\": 2, \"linecolor\": \"white\", \"showbackground\": true, \"ticks\": \"\", \"zerolinecolor\": \"white\"}}, \"shapedefaults\": {\"line\": {\"color\": \"#2a3f5f\"}}, \"ternary\": {\"aaxis\": {\"gridcolor\": \"white\", \"linecolor\": \"white\", \"ticks\": \"\"}, \"baxis\": {\"gridcolor\": \"white\", \"linecolor\": \"white\", \"ticks\": \"\"}, \"bgcolor\": \"#E5ECF6\", \"caxis\": {\"gridcolor\": \"white\", \"linecolor\": \"white\", \"ticks\": \"\"}}, \"title\": {\"x\": 0.05}, \"xaxis\": {\"automargin\": true, \"gridcolor\": \"white\", \"linecolor\": \"white\", \"ticks\": \"\", \"title\": {\"standoff\": 15}, \"zerolinecolor\": \"white\", \"zerolinewidth\": 2}, \"yaxis\": {\"automargin\": true, \"gridcolor\": \"white\", \"linecolor\": \"white\", \"ticks\": \"\", \"title\": {\"standoff\": 15}, \"zerolinecolor\": \"white\", \"zerolinewidth\": 2}}}, \"title\": {\"text\": \"Dispersion: Median 20 Counties (by cumulative cases)\"}, \"xaxis\": {\"anchor\": \"y\", \"domain\": [0.0, 1.0], \"title\": {\"text\": \"Days (since first case)\"}}, \"yaxis\": {\"anchor\": \"x\", \"domain\": [0.0, 1.0], \"title\": {\"text\": \"7-day Rolling(Mean) - Rolling(Var)\"}}},\n",
       "                        {\"responsive\": true}\n",
       "                    ).then(function(){\n",
       "                            \n",
       "var gd = document.getElementById('cacb29ec-1bf2-4cd7-928e-17d37987e546');\n",
       "var x = new MutationObserver(function (mutations, observer) {{\n",
       "        var display = window.getComputedStyle(gd).display;\n",
       "        if (!display || display === 'none') {{\n",
       "            console.log([gd, 'removed!']);\n",
       "            Plotly.purge(gd);\n",
       "            observer.disconnect();\n",
       "        }}\n",
       "}});\n",
       "\n",
       "// Listen for the removal of the full notebook cells\n",
       "var notebookContainer = gd.closest('#notebook-container');\n",
       "if (notebookContainer) {{\n",
       "    x.observe(notebookContainer, {childList: true});\n",
       "}}\n",
       "\n",
       "// Listen for the clearing of the current output cell\n",
       "var outputEl = gd.closest('.output');\n",
       "if (outputEl) {{\n",
       "    x.observe(outputEl, {childList: true});\n",
       "}}\n",
       "\n",
       "                        })\n",
       "                };\n",
       "                });\n",
       "            </script>\n",
       "        </div>"
      ]
     },
     "metadata": {},
     "output_type": "display_data"
    }
   ],
   "source": [
    "fig = px.line(median_20_counties_df, \n",
    "             x=\"Days (since first case)\",\n",
    "             y=\"7-day Rolling(Mean) - Rolling(Var)\",\n",
    "             color=\"county\")\n",
    "\n",
    "fig.update_layout(title_text=\"Dispersion: Median 20 Counties (by cumulative cases)\")\n",
    "\n",
    "fig.show()"
   ]
  },
  {
   "cell_type": "code",
   "execution_count": null,
   "metadata": {},
   "outputs": [],
   "source": []
  }
 ],
 "metadata": {
  "kernelspec": {
   "display_name": "Python 3",
   "language": "python",
   "name": "python3"
  },
  "language_info": {
   "codemirror_mode": {
    "name": "ipython",
    "version": 3
   },
   "file_extension": ".py",
   "mimetype": "text/x-python",
   "name": "python",
   "nbconvert_exporter": "python",
   "pygments_lexer": "ipython3",
   "version": "3.7.6"
  }
 },
 "nbformat": 4,
 "nbformat_minor": 4
}
